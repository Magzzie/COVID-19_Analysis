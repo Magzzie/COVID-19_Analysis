{
 "cells": [
  {
   "cell_type": "markdown",
   "id": "46cb21a9",
   "metadata": {},
   "source": [
    "# COVID-19 Prediction Analysis"
   ]
  },
  {
   "cell_type": "code",
   "execution_count": 1,
   "id": "4c1df2e7",
   "metadata": {},
   "outputs": [],
   "source": [
    "# Suppress warning messages\n",
    "import warnings \n",
    "warnings.filterwarnings('ignore')"
   ]
  },
  {
   "cell_type": "code",
   "execution_count": 2,
   "id": "a01a2496",
   "metadata": {},
   "outputs": [],
   "source": [
    "# Import general dependencies\n",
    "import os \n",
    "import pandas as pd\n",
    "from pprint import pprint\n",
    "from pathlib import Path\n",
    "import matplotlib.pyplot as plt\n",
    "from collections import Counter\n",
    "import numpy as np\n",
    "import datetime"
   ]
  },
  {
   "cell_type": "code",
   "execution_count": null,
   "id": "6869db09",
   "metadata": {},
   "outputs": [],
   "source": [
    "# #Import connection dependencies\n",
    "# import sqlalchemy\n",
    "# from sqlalchemy.ext.automap import automap_base\n",
    "# from sqlalchemy.orm import Session\n",
    "# from sqlalchemy import create_engine, func\n",
    "# import psycopg2"
   ]
  },
  {
   "cell_type": "code",
   "execution_count": 4,
   "id": "b581a989",
   "metadata": {},
   "outputs": [],
   "source": [
    "# Import machine learning dependencies \n",
    "import sklearn as skl\n",
    "from sklearn.ensemble import RandomForestRegressor\n",
    "\n",
    "from sklearn.model_selection import train_test_split\n",
    "from sklearn.preprocessing import StandardScaler, OneHotEncoder\n",
    "from sklearn.decomposition import PCA\n",
    "from sklearn.cluster import KMeans\n",
    "# from sklearn.metrics import accuracy_score, confusion_matrix\n",
    "\n",
    "from sklearn import metrics \n",
    "from sklearn.metrics import mean_squared_error, mean_absolute_error\n",
    "from sklearn.metrics import r2_score\n",
    "\n",
    "import tensorflow as tf\n",
    "from tensorflow import keras\n",
    "from tensorflow.keras.callbacks import ModelCheckpoint\n",
    "import seaborn as sns\n",
    "# import keras_tuner as kt"
   ]
  },
  {
   "cell_type": "markdown",
   "id": "852dfbd8",
   "metadata": {},
   "source": [
    "### Data Source"
   ]
  },
  {
   "cell_type": "markdown",
   "id": "32b4354e",
   "metadata": {},
   "source": [
    "**Our World in Data COVID-19 Dataset Citation**\n",
    "Hannah Ritchie, Edouard Mathieu, Lucas Rodés-Guirao, Cameron Appel, Charlie Giattino, Esteban Ortiz-Ospina, Joe Hasell, Bobbie Macdonald, Diana Beltekian and Max Roser (2020) - \"Coronavirus Pandemic (COVID-19)\". Published online at OurWorldInData.org. Retrieved from: [Our World In Data / Coronavirus](https://ourworldindata.org/coronavirus)"
   ]
  },
  {
   "cell_type": "markdown",
   "id": "a3fba384",
   "metadata": {},
   "source": [
    "The OWID COVID-19 data entry started on January 1st, 2020 and has been daily updated till July 4th, 2022 when we pulled the dataset from the [OWID/COVID-19-data GitHub Repository](https://github.com/owid/covid-19-data/tree/master/public/data)."
   ]
  },
  {
   "cell_type": "code",
   "execution_count": 5,
   "id": "4fe48518",
   "metadata": {},
   "outputs": [
    {
     "name": "stdout",
     "output_type": "stream",
     "text": [
      "(112069, 30)\n"
     ]
    },
    {
     "data": {
      "text/html": [
       "<div>\n",
       "<style scoped>\n",
       "    .dataframe tbody tr th:only-of-type {\n",
       "        vertical-align: middle;\n",
       "    }\n",
       "\n",
       "    .dataframe tbody tr th {\n",
       "        vertical-align: top;\n",
       "    }\n",
       "\n",
       "    .dataframe thead th {\n",
       "        text-align: right;\n",
       "    }\n",
       "</style>\n",
       "<table border=\"1\" class=\"dataframe\">\n",
       "  <thead>\n",
       "    <tr style=\"text-align: right;\">\n",
       "      <th></th>\n",
       "      <th>id_row</th>\n",
       "      <th>location</th>\n",
       "      <th>covid_days</th>\n",
       "      <th>total_cases</th>\n",
       "      <th>new_cases</th>\n",
       "      <th>new_cases_smoothed</th>\n",
       "      <th>new_cases_smoothed_per_million</th>\n",
       "      <th>reproduction_rate</th>\n",
       "      <th>total_vaccinations</th>\n",
       "      <th>people_fully_vaccinated</th>\n",
       "      <th>...</th>\n",
       "      <th>life_expectancy</th>\n",
       "      <th>human_development_index</th>\n",
       "      <th>daily_vaccinations</th>\n",
       "      <th>daily_people_fully_vaccinated</th>\n",
       "      <th>total_cases_per_100K</th>\n",
       "      <th>new_cases_per_100K</th>\n",
       "      <th>total_vaccinations_per_100K</th>\n",
       "      <th>people_fully_vaccinated_per_100K</th>\n",
       "      <th>daily_vaccinations_per_100K</th>\n",
       "      <th>daily_people_fully_vaccinated_per_100K</th>\n",
       "    </tr>\n",
       "  </thead>\n",
       "  <tbody>\n",
       "    <tr>\n",
       "      <th>0</th>\n",
       "      <td>34</td>\n",
       "      <td>Afghanistan</td>\n",
       "      <td>88</td>\n",
       "      <td>114.0</td>\n",
       "      <td>8.0</td>\n",
       "      <td>11.429</td>\n",
       "      <td>0.287</td>\n",
       "      <td>1.52</td>\n",
       "      <td>0.0</td>\n",
       "      <td>0.0</td>\n",
       "      <td>...</td>\n",
       "      <td>64.83</td>\n",
       "      <td>0.511</td>\n",
       "      <td>0.0</td>\n",
       "      <td>0.0</td>\n",
       "      <td>0.2862</td>\n",
       "      <td>0.0201</td>\n",
       "      <td>0.0</td>\n",
       "      <td>0.0</td>\n",
       "      <td>0.0</td>\n",
       "      <td>0.0</td>\n",
       "    </tr>\n",
       "    <tr>\n",
       "      <th>1</th>\n",
       "      <td>35</td>\n",
       "      <td>Afghanistan</td>\n",
       "      <td>89</td>\n",
       "      <td>114.0</td>\n",
       "      <td>0.0</td>\n",
       "      <td>10.571</td>\n",
       "      <td>0.265</td>\n",
       "      <td>1.52</td>\n",
       "      <td>0.0</td>\n",
       "      <td>0.0</td>\n",
       "      <td>...</td>\n",
       "      <td>64.83</td>\n",
       "      <td>0.511</td>\n",
       "      <td>0.0</td>\n",
       "      <td>0.0</td>\n",
       "      <td>0.2862</td>\n",
       "      <td>0.0000</td>\n",
       "      <td>0.0</td>\n",
       "      <td>0.0</td>\n",
       "      <td>0.0</td>\n",
       "      <td>0.0</td>\n",
       "    </tr>\n",
       "    <tr>\n",
       "      <th>2</th>\n",
       "      <td>36</td>\n",
       "      <td>Afghanistan</td>\n",
       "      <td>90</td>\n",
       "      <td>166.0</td>\n",
       "      <td>52.0</td>\n",
       "      <td>17.714</td>\n",
       "      <td>0.445</td>\n",
       "      <td>1.53</td>\n",
       "      <td>0.0</td>\n",
       "      <td>0.0</td>\n",
       "      <td>...</td>\n",
       "      <td>64.83</td>\n",
       "      <td>0.511</td>\n",
       "      <td>0.0</td>\n",
       "      <td>0.0</td>\n",
       "      <td>0.4167</td>\n",
       "      <td>0.1305</td>\n",
       "      <td>0.0</td>\n",
       "      <td>0.0</td>\n",
       "      <td>0.0</td>\n",
       "      <td>0.0</td>\n",
       "    </tr>\n",
       "    <tr>\n",
       "      <th>3</th>\n",
       "      <td>37</td>\n",
       "      <td>Afghanistan</td>\n",
       "      <td>91</td>\n",
       "      <td>192.0</td>\n",
       "      <td>26.0</td>\n",
       "      <td>16.857</td>\n",
       "      <td>0.423</td>\n",
       "      <td>1.52</td>\n",
       "      <td>0.0</td>\n",
       "      <td>0.0</td>\n",
       "      <td>...</td>\n",
       "      <td>64.83</td>\n",
       "      <td>0.511</td>\n",
       "      <td>0.0</td>\n",
       "      <td>0.0</td>\n",
       "      <td>0.4820</td>\n",
       "      <td>0.0653</td>\n",
       "      <td>0.0</td>\n",
       "      <td>0.0</td>\n",
       "      <td>0.0</td>\n",
       "      <td>0.0</td>\n",
       "    </tr>\n",
       "    <tr>\n",
       "      <th>4</th>\n",
       "      <td>38</td>\n",
       "      <td>Afghanistan</td>\n",
       "      <td>92</td>\n",
       "      <td>235.0</td>\n",
       "      <td>43.0</td>\n",
       "      <td>22.143</td>\n",
       "      <td>0.556</td>\n",
       "      <td>1.52</td>\n",
       "      <td>0.0</td>\n",
       "      <td>0.0</td>\n",
       "      <td>...</td>\n",
       "      <td>64.83</td>\n",
       "      <td>0.511</td>\n",
       "      <td>0.0</td>\n",
       "      <td>0.0</td>\n",
       "      <td>0.5899</td>\n",
       "      <td>0.1079</td>\n",
       "      <td>0.0</td>\n",
       "      <td>0.0</td>\n",
       "      <td>0.0</td>\n",
       "      <td>0.0</td>\n",
       "    </tr>\n",
       "  </tbody>\n",
       "</table>\n",
       "<p>5 rows × 30 columns</p>\n",
       "</div>"
      ],
      "text/plain": [
       "   id_row     location  covid_days  total_cases  new_cases  \\\n",
       "0      34  Afghanistan          88        114.0        8.0   \n",
       "1      35  Afghanistan          89        114.0        0.0   \n",
       "2      36  Afghanistan          90        166.0       52.0   \n",
       "3      37  Afghanistan          91        192.0       26.0   \n",
       "4      38  Afghanistan          92        235.0       43.0   \n",
       "\n",
       "   new_cases_smoothed  new_cases_smoothed_per_million  reproduction_rate  \\\n",
       "0              11.429                           0.287               1.52   \n",
       "1              10.571                           0.265               1.52   \n",
       "2              17.714                           0.445               1.53   \n",
       "3              16.857                           0.423               1.52   \n",
       "4              22.143                           0.556               1.52   \n",
       "\n",
       "   total_vaccinations  people_fully_vaccinated  ...  life_expectancy  \\\n",
       "0                 0.0                      0.0  ...            64.83   \n",
       "1                 0.0                      0.0  ...            64.83   \n",
       "2                 0.0                      0.0  ...            64.83   \n",
       "3                 0.0                      0.0  ...            64.83   \n",
       "4                 0.0                      0.0  ...            64.83   \n",
       "\n",
       "   human_development_index  daily_vaccinations  daily_people_fully_vaccinated  \\\n",
       "0                    0.511                 0.0                            0.0   \n",
       "1                    0.511                 0.0                            0.0   \n",
       "2                    0.511                 0.0                            0.0   \n",
       "3                    0.511                 0.0                            0.0   \n",
       "4                    0.511                 0.0                            0.0   \n",
       "\n",
       "   total_cases_per_100K  new_cases_per_100K  total_vaccinations_per_100K  \\\n",
       "0                0.2862              0.0201                          0.0   \n",
       "1                0.2862              0.0000                          0.0   \n",
       "2                0.4167              0.1305                          0.0   \n",
       "3                0.4820              0.0653                          0.0   \n",
       "4                0.5899              0.1079                          0.0   \n",
       "\n",
       "   people_fully_vaccinated_per_100K  daily_vaccinations_per_100K  \\\n",
       "0                               0.0                          0.0   \n",
       "1                               0.0                          0.0   \n",
       "2                               0.0                          0.0   \n",
       "3                               0.0                          0.0   \n",
       "4                               0.0                          0.0   \n",
       "\n",
       "   daily_people_fully_vaccinated_per_100K  \n",
       "0                                     0.0  \n",
       "1                                     0.0  \n",
       "2                                     0.0  \n",
       "3                                     0.0  \n",
       "4                                     0.0  \n",
       "\n",
       "[5 rows x 30 columns]"
      ]
     },
     "execution_count": 5,
     "metadata": {},
     "output_type": "execute_result"
    }
   ],
   "source": [
    "# Load the cases prediction cleaned data file.\n",
    "cases_file_path = Path('./Resources/cases_pred.csv')\n",
    "df = pd.read_csv(cases_file_path)\n",
    "print(df.shape)\n",
    "df.head()"
   ]
  },
  {
   "cell_type": "code",
   "execution_count": 6,
   "id": "41f911c3",
   "metadata": {},
   "outputs": [
    {
     "name": "stdout",
     "output_type": "stream",
     "text": [
      "(112069, 29)\n"
     ]
    },
    {
     "data": {
      "text/html": [
       "<div>\n",
       "<style scoped>\n",
       "    .dataframe tbody tr th:only-of-type {\n",
       "        vertical-align: middle;\n",
       "    }\n",
       "\n",
       "    .dataframe tbody tr th {\n",
       "        vertical-align: top;\n",
       "    }\n",
       "\n",
       "    .dataframe thead th {\n",
       "        text-align: right;\n",
       "    }\n",
       "</style>\n",
       "<table border=\"1\" class=\"dataframe\">\n",
       "  <thead>\n",
       "    <tr style=\"text-align: right;\">\n",
       "      <th></th>\n",
       "      <th>location</th>\n",
       "      <th>covid_days</th>\n",
       "      <th>total_cases</th>\n",
       "      <th>new_cases</th>\n",
       "      <th>new_cases_smoothed</th>\n",
       "      <th>new_cases_smoothed_per_million</th>\n",
       "      <th>reproduction_rate</th>\n",
       "      <th>total_vaccinations</th>\n",
       "      <th>people_fully_vaccinated</th>\n",
       "      <th>stringency_index</th>\n",
       "      <th>...</th>\n",
       "      <th>life_expectancy</th>\n",
       "      <th>human_development_index</th>\n",
       "      <th>daily_vaccinations</th>\n",
       "      <th>daily_people_fully_vaccinated</th>\n",
       "      <th>total_cases_per_100K</th>\n",
       "      <th>new_cases_per_100K</th>\n",
       "      <th>total_vaccinations_per_100K</th>\n",
       "      <th>people_fully_vaccinated_per_100K</th>\n",
       "      <th>daily_vaccinations_per_100K</th>\n",
       "      <th>daily_people_fully_vaccinated_per_100K</th>\n",
       "    </tr>\n",
       "    <tr>\n",
       "      <th>id_row</th>\n",
       "      <th></th>\n",
       "      <th></th>\n",
       "      <th></th>\n",
       "      <th></th>\n",
       "      <th></th>\n",
       "      <th></th>\n",
       "      <th></th>\n",
       "      <th></th>\n",
       "      <th></th>\n",
       "      <th></th>\n",
       "      <th></th>\n",
       "      <th></th>\n",
       "      <th></th>\n",
       "      <th></th>\n",
       "      <th></th>\n",
       "      <th></th>\n",
       "      <th></th>\n",
       "      <th></th>\n",
       "      <th></th>\n",
       "      <th></th>\n",
       "      <th></th>\n",
       "    </tr>\n",
       "  </thead>\n",
       "  <tbody>\n",
       "    <tr>\n",
       "      <th>34</th>\n",
       "      <td>Afghanistan</td>\n",
       "      <td>88</td>\n",
       "      <td>114.0</td>\n",
       "      <td>8.0</td>\n",
       "      <td>11.429</td>\n",
       "      <td>0.287</td>\n",
       "      <td>1.52</td>\n",
       "      <td>0.0</td>\n",
       "      <td>0.0</td>\n",
       "      <td>67.59</td>\n",
       "      <td>...</td>\n",
       "      <td>64.83</td>\n",
       "      <td>0.511</td>\n",
       "      <td>0.0</td>\n",
       "      <td>0.0</td>\n",
       "      <td>0.2862</td>\n",
       "      <td>0.0201</td>\n",
       "      <td>0.0</td>\n",
       "      <td>0.0</td>\n",
       "      <td>0.0</td>\n",
       "      <td>0.0</td>\n",
       "    </tr>\n",
       "    <tr>\n",
       "      <th>35</th>\n",
       "      <td>Afghanistan</td>\n",
       "      <td>89</td>\n",
       "      <td>114.0</td>\n",
       "      <td>0.0</td>\n",
       "      <td>10.571</td>\n",
       "      <td>0.265</td>\n",
       "      <td>1.52</td>\n",
       "      <td>0.0</td>\n",
       "      <td>0.0</td>\n",
       "      <td>67.59</td>\n",
       "      <td>...</td>\n",
       "      <td>64.83</td>\n",
       "      <td>0.511</td>\n",
       "      <td>0.0</td>\n",
       "      <td>0.0</td>\n",
       "      <td>0.2862</td>\n",
       "      <td>0.0000</td>\n",
       "      <td>0.0</td>\n",
       "      <td>0.0</td>\n",
       "      <td>0.0</td>\n",
       "      <td>0.0</td>\n",
       "    </tr>\n",
       "    <tr>\n",
       "      <th>36</th>\n",
       "      <td>Afghanistan</td>\n",
       "      <td>90</td>\n",
       "      <td>166.0</td>\n",
       "      <td>52.0</td>\n",
       "      <td>17.714</td>\n",
       "      <td>0.445</td>\n",
       "      <td>1.53</td>\n",
       "      <td>0.0</td>\n",
       "      <td>0.0</td>\n",
       "      <td>67.59</td>\n",
       "      <td>...</td>\n",
       "      <td>64.83</td>\n",
       "      <td>0.511</td>\n",
       "      <td>0.0</td>\n",
       "      <td>0.0</td>\n",
       "      <td>0.4167</td>\n",
       "      <td>0.1305</td>\n",
       "      <td>0.0</td>\n",
       "      <td>0.0</td>\n",
       "      <td>0.0</td>\n",
       "      <td>0.0</td>\n",
       "    </tr>\n",
       "    <tr>\n",
       "      <th>37</th>\n",
       "      <td>Afghanistan</td>\n",
       "      <td>91</td>\n",
       "      <td>192.0</td>\n",
       "      <td>26.0</td>\n",
       "      <td>16.857</td>\n",
       "      <td>0.423</td>\n",
       "      <td>1.52</td>\n",
       "      <td>0.0</td>\n",
       "      <td>0.0</td>\n",
       "      <td>67.59</td>\n",
       "      <td>...</td>\n",
       "      <td>64.83</td>\n",
       "      <td>0.511</td>\n",
       "      <td>0.0</td>\n",
       "      <td>0.0</td>\n",
       "      <td>0.4820</td>\n",
       "      <td>0.0653</td>\n",
       "      <td>0.0</td>\n",
       "      <td>0.0</td>\n",
       "      <td>0.0</td>\n",
       "      <td>0.0</td>\n",
       "    </tr>\n",
       "    <tr>\n",
       "      <th>38</th>\n",
       "      <td>Afghanistan</td>\n",
       "      <td>92</td>\n",
       "      <td>235.0</td>\n",
       "      <td>43.0</td>\n",
       "      <td>22.143</td>\n",
       "      <td>0.556</td>\n",
       "      <td>1.52</td>\n",
       "      <td>0.0</td>\n",
       "      <td>0.0</td>\n",
       "      <td>67.59</td>\n",
       "      <td>...</td>\n",
       "      <td>64.83</td>\n",
       "      <td>0.511</td>\n",
       "      <td>0.0</td>\n",
       "      <td>0.0</td>\n",
       "      <td>0.5899</td>\n",
       "      <td>0.1079</td>\n",
       "      <td>0.0</td>\n",
       "      <td>0.0</td>\n",
       "      <td>0.0</td>\n",
       "      <td>0.0</td>\n",
       "    </tr>\n",
       "  </tbody>\n",
       "</table>\n",
       "<p>5 rows × 29 columns</p>\n",
       "</div>"
      ],
      "text/plain": [
       "           location  covid_days  total_cases  new_cases  new_cases_smoothed  \\\n",
       "id_row                                                                        \n",
       "34      Afghanistan          88        114.0        8.0              11.429   \n",
       "35      Afghanistan          89        114.0        0.0              10.571   \n",
       "36      Afghanistan          90        166.0       52.0              17.714   \n",
       "37      Afghanistan          91        192.0       26.0              16.857   \n",
       "38      Afghanistan          92        235.0       43.0              22.143   \n",
       "\n",
       "        new_cases_smoothed_per_million  reproduction_rate  total_vaccinations  \\\n",
       "id_row                                                                          \n",
       "34                               0.287               1.52                 0.0   \n",
       "35                               0.265               1.52                 0.0   \n",
       "36                               0.445               1.53                 0.0   \n",
       "37                               0.423               1.52                 0.0   \n",
       "38                               0.556               1.52                 0.0   \n",
       "\n",
       "        people_fully_vaccinated  stringency_index  ...  life_expectancy  \\\n",
       "id_row                                             ...                    \n",
       "34                          0.0             67.59  ...            64.83   \n",
       "35                          0.0             67.59  ...            64.83   \n",
       "36                          0.0             67.59  ...            64.83   \n",
       "37                          0.0             67.59  ...            64.83   \n",
       "38                          0.0             67.59  ...            64.83   \n",
       "\n",
       "        human_development_index  daily_vaccinations  \\\n",
       "id_row                                                \n",
       "34                        0.511                 0.0   \n",
       "35                        0.511                 0.0   \n",
       "36                        0.511                 0.0   \n",
       "37                        0.511                 0.0   \n",
       "38                        0.511                 0.0   \n",
       "\n",
       "        daily_people_fully_vaccinated  total_cases_per_100K  \\\n",
       "id_row                                                        \n",
       "34                                0.0                0.2862   \n",
       "35                                0.0                0.2862   \n",
       "36                                0.0                0.4167   \n",
       "37                                0.0                0.4820   \n",
       "38                                0.0                0.5899   \n",
       "\n",
       "        new_cases_per_100K  total_vaccinations_per_100K  \\\n",
       "id_row                                                    \n",
       "34                  0.0201                          0.0   \n",
       "35                  0.0000                          0.0   \n",
       "36                  0.1305                          0.0   \n",
       "37                  0.0653                          0.0   \n",
       "38                  0.1079                          0.0   \n",
       "\n",
       "        people_fully_vaccinated_per_100K  daily_vaccinations_per_100K  \\\n",
       "id_row                                                                  \n",
       "34                                   0.0                          0.0   \n",
       "35                                   0.0                          0.0   \n",
       "36                                   0.0                          0.0   \n",
       "37                                   0.0                          0.0   \n",
       "38                                   0.0                          0.0   \n",
       "\n",
       "        daily_people_fully_vaccinated_per_100K  \n",
       "id_row                                          \n",
       "34                                         0.0  \n",
       "35                                         0.0  \n",
       "36                                         0.0  \n",
       "37                                         0.0  \n",
       "38                                         0.0  \n",
       "\n",
       "[5 rows x 29 columns]"
      ]
     },
     "execution_count": 6,
     "metadata": {},
     "output_type": "execute_result"
    }
   ],
   "source": [
    "# Set the id_row column as index and reorder records by id.\n",
    "df = df.set_index('id_row').sort_values(by='id_row')\n",
    "print(df.shape)\n",
    "df.head()"
   ]
  },
  {
   "cell_type": "code",
   "execution_count": 7,
   "id": "1dc7f08f",
   "metadata": {},
   "outputs": [
    {
     "name": "stdout",
     "output_type": "stream",
     "text": [
      "<class 'pandas.core.frame.DataFrame'>\n",
      "Int64Index: 112069 entries, 34 to 198747\n",
      "Data columns (total 29 columns):\n",
      " #   Column                                  Non-Null Count   Dtype  \n",
      "---  ------                                  --------------   -----  \n",
      " 0   location                                112069 non-null  object \n",
      " 1   covid_days                              112069 non-null  int64  \n",
      " 2   total_cases                             112069 non-null  float64\n",
      " 3   new_cases                               112069 non-null  float64\n",
      " 4   new_cases_smoothed                      111964 non-null  float64\n",
      " 5   new_cases_smoothed_per_million          111964 non-null  float64\n",
      " 6   reproduction_rate                       112069 non-null  float64\n",
      " 7   total_vaccinations                      112069 non-null  float64\n",
      " 8   people_fully_vaccinated                 112069 non-null  float64\n",
      " 9   stringency_index                        112069 non-null  float64\n",
      " 10  population                              112069 non-null  float64\n",
      " 11  population_density                      112069 non-null  float64\n",
      " 12  median_age                              112069 non-null  float64\n",
      " 13  aged_65_older                           112069 non-null  float64\n",
      " 14  gdp_per_capita                          112069 non-null  float64\n",
      " 15  cardiovasc_death_rate                   112069 non-null  float64\n",
      " 16  diabetes_prevalence                     112069 non-null  float64\n",
      " 17  female_smokers                          91714 non-null   float64\n",
      " 18  male_smokers                            90334 non-null   float64\n",
      " 19  life_expectancy                         112069 non-null  float64\n",
      " 20  human_development_index                 112069 non-null  float64\n",
      " 21  daily_vaccinations                      112069 non-null  float64\n",
      " 22  daily_people_fully_vaccinated           112069 non-null  float64\n",
      " 23  total_cases_per_100K                    112069 non-null  float64\n",
      " 24  new_cases_per_100K                      111991 non-null  float64\n",
      " 25  total_vaccinations_per_100K             112069 non-null  float64\n",
      " 26  people_fully_vaccinated_per_100K        112069 non-null  float64\n",
      " 27  daily_vaccinations_per_100K             112069 non-null  float64\n",
      " 28  daily_people_fully_vaccinated_per_100K  112069 non-null  float64\n",
      "dtypes: float64(27), int64(1), object(1)\n",
      "memory usage: 25.7+ MB\n"
     ]
    }
   ],
   "source": [
    "df.info()"
   ]
  },
  {
   "cell_type": "markdown",
   "id": "4f1767c8",
   "metadata": {},
   "source": [
    "To predict the daily number of new COVID-19 cases, we will focus on processing the following columns and creating new features off of these: (**total_cases, new_cases, total_cases_per_100K, new_cases_per_100K, reproduction_rate, total_vaccinations, people_fully_vaccinated, total_vaccinations_per_100K, people_fully_vaccinated_per_100K, stringency_index, population, population_density, median_age, aged_65_older, gdp_per_capita, cardiovasc_death_rate, diabetes_prevalence, life_expectancy, human_development_index, daily_vacciantions, daily_people_fully_vaccinated, daily_vaccinations_per_100K, daily_people_fully_vaccinated_per_100K**). "
   ]
  },
  {
   "cell_type": "markdown",
   "id": "bc8dd089",
   "metadata": {},
   "source": [
    "We presume that vaccination  has played an integral role in the COVID-19 pandemic trajectory, and its influence may be observed over both COVID-19 cases and deaths."
   ]
  },
  {
   "cell_type": "markdown",
   "id": "c5dc2d60",
   "metadata": {},
   "source": [
    "We will not be using smoothed numbers for now, but we will leave these columns in a separate dataframe that contains averages in case we were able to revisit the code and run a more elaborate feature engineering including calculating rolling averages of daily vaccines and people_fully_vaccinated. At that point, we could use the cleaned dataframe and handle the missing values of the smoothed columns: (**new_cases_smoothed, new_cases_smoothed_per_million, new_vaccinations_smoothed, new_vaccinations_smoothed_per_million**)."
   ]
  },
  {
   "cell_type": "markdown",
   "id": "778bfc13",
   "metadata": {},
   "source": [
    "The reason we will leave **female_smokers** and **male_smokers** out of the new_cases prediction features for now is the substantial number of missing values. \n",
    "*Reconsider* including **female_smokers**, and **male_smokers** in the features for new_cases prediction model if the model needs feature enhancement. The logic behind it is that smokers might be more symptomatic when infected with COVID-19, hence they seek testing and that would increase the documented number of the cases. Same concept applies to the populations' rates of cardiovascular_death and diabetes_prevalence. "
   ]
  },
  {
   "cell_type": "code",
   "execution_count": 8,
   "id": "0f07d49d",
   "metadata": {},
   "outputs": [
    {
     "name": "stdout",
     "output_type": "stream",
     "text": [
      "(112069, 25)\n",
      "<class 'pandas.core.frame.DataFrame'>\n",
      "Int64Index: 112069 entries, 34 to 198747\n",
      "Data columns (total 25 columns):\n",
      " #   Column                                  Non-Null Count   Dtype  \n",
      "---  ------                                  --------------   -----  \n",
      " 0   location                                112069 non-null  object \n",
      " 1   covid_days                              112069 non-null  int64  \n",
      " 2   total_cases                             112069 non-null  float64\n",
      " 3   new_cases                               112069 non-null  float64\n",
      " 4   reproduction_rate                       112069 non-null  float64\n",
      " 5   total_vaccinations                      112069 non-null  float64\n",
      " 6   people_fully_vaccinated                 112069 non-null  float64\n",
      " 7   stringency_index                        112069 non-null  float64\n",
      " 8   population                              112069 non-null  float64\n",
      " 9   population_density                      112069 non-null  float64\n",
      " 10  median_age                              112069 non-null  float64\n",
      " 11  aged_65_older                           112069 non-null  float64\n",
      " 12  gdp_per_capita                          112069 non-null  float64\n",
      " 13  cardiovasc_death_rate                   112069 non-null  float64\n",
      " 14  diabetes_prevalence                     112069 non-null  float64\n",
      " 15  life_expectancy                         112069 non-null  float64\n",
      " 16  human_development_index                 112069 non-null  float64\n",
      " 17  daily_vaccinations                      112069 non-null  float64\n",
      " 18  daily_people_fully_vaccinated           112069 non-null  float64\n",
      " 19  total_cases_per_100K                    112069 non-null  float64\n",
      " 20  new_cases_per_100K                      111991 non-null  float64\n",
      " 21  total_vaccinations_per_100K             112069 non-null  float64\n",
      " 22  people_fully_vaccinated_per_100K        112069 non-null  float64\n",
      " 23  daily_vaccinations_per_100K             112069 non-null  float64\n",
      " 24  daily_people_fully_vaccinated_per_100K  112069 non-null  float64\n",
      "dtypes: float64(23), int64(1), object(1)\n",
      "memory usage: 22.2+ MB\n"
     ]
    }
   ],
   "source": [
    "# Drop unnecessary columns.\n",
    "cols_drop = ['new_cases_smoothed', 'new_cases_smoothed_per_million',\n",
    "            'female_smokers', 'male_smokers']\n",
    "focused_general_df = df.drop(columns=cols_drop, axis=1)\n",
    "print(focused_general_df.shape) \n",
    "focused_general_df.info()"
   ]
  },
  {
   "cell_type": "code",
   "execution_count": 9,
   "id": "6b3174c2",
   "metadata": {},
   "outputs": [
    {
     "data": {
      "text/plain": [
       "location                                   0\n",
       "covid_days                                 0\n",
       "total_cases                                0\n",
       "new_cases                                  0\n",
       "reproduction_rate                          0\n",
       "total_vaccinations                         0\n",
       "people_fully_vaccinated                    0\n",
       "stringency_index                           0\n",
       "population                                 0\n",
       "population_density                         0\n",
       "median_age                                 0\n",
       "aged_65_older                              0\n",
       "gdp_per_capita                             0\n",
       "cardiovasc_death_rate                      0\n",
       "diabetes_prevalence                        0\n",
       "life_expectancy                            0\n",
       "human_development_index                    0\n",
       "daily_vaccinations                         0\n",
       "daily_people_fully_vaccinated              0\n",
       "total_cases_per_100K                       0\n",
       "new_cases_per_100K                        78\n",
       "total_vaccinations_per_100K                0\n",
       "people_fully_vaccinated_per_100K           0\n",
       "daily_vaccinations_per_100K                0\n",
       "daily_people_fully_vaccinated_per_100K     0\n",
       "dtype: int64"
      ]
     },
     "execution_count": 9,
     "metadata": {},
     "output_type": "execute_result"
    }
   ],
   "source": [
    "# Check missing values in the focused dataframe\n",
    "focused_general_df.isnull().sum()"
   ]
  },
  {
   "cell_type": "code",
   "execution_count": 10,
   "id": "4c30e95d",
   "metadata": {},
   "outputs": [
    {
     "data": {
      "text/html": [
       "<div>\n",
       "<style scoped>\n",
       "    .dataframe tbody tr th:only-of-type {\n",
       "        vertical-align: middle;\n",
       "    }\n",
       "\n",
       "    .dataframe tbody tr th {\n",
       "        vertical-align: top;\n",
       "    }\n",
       "\n",
       "    .dataframe thead th {\n",
       "        text-align: right;\n",
       "    }\n",
       "</style>\n",
       "<table border=\"1\" class=\"dataframe\">\n",
       "  <thead>\n",
       "    <tr style=\"text-align: right;\">\n",
       "      <th></th>\n",
       "      <th>new_cases</th>\n",
       "      <th>population</th>\n",
       "      <th>new_cases_per_100K</th>\n",
       "    </tr>\n",
       "    <tr>\n",
       "      <th>id_row</th>\n",
       "      <th></th>\n",
       "      <th></th>\n",
       "      <th></th>\n",
       "    </tr>\n",
       "  </thead>\n",
       "  <tbody>\n",
       "    <tr>\n",
       "      <th>679</th>\n",
       "      <td>0.0</td>\n",
       "      <td>3.983543e+07</td>\n",
       "      <td>NaN</td>\n",
       "    </tr>\n",
       "    <tr>\n",
       "      <th>6400</th>\n",
       "      <td>0.0</td>\n",
       "      <td>9.872800e+04</td>\n",
       "      <td>NaN</td>\n",
       "    </tr>\n",
       "    <tr>\n",
       "      <th>11096</th>\n",
       "      <td>0.0</td>\n",
       "      <td>2.578822e+07</td>\n",
       "      <td>NaN</td>\n",
       "    </tr>\n",
       "    <tr>\n",
       "      <th>11112</th>\n",
       "      <td>0.0</td>\n",
       "      <td>2.578822e+07</td>\n",
       "      <td>NaN</td>\n",
       "    </tr>\n",
       "    <tr>\n",
       "      <th>13572</th>\n",
       "      <td>0.0</td>\n",
       "      <td>3.969140e+05</td>\n",
       "      <td>NaN</td>\n",
       "    </tr>\n",
       "    <tr>\n",
       "      <th>18998</th>\n",
       "      <td>0.0</td>\n",
       "      <td>1.245103e+07</td>\n",
       "      <td>NaN</td>\n",
       "    </tr>\n",
       "    <tr>\n",
       "      <th>24929</th>\n",
       "      <td>0.0</td>\n",
       "      <td>2.139934e+08</td>\n",
       "      <td>NaN</td>\n",
       "    </tr>\n",
       "    <tr>\n",
       "      <th>25383</th>\n",
       "      <td>0.0</td>\n",
       "      <td>2.139934e+08</td>\n",
       "      <td>NaN</td>\n",
       "    </tr>\n",
       "    <tr>\n",
       "      <th>27143</th>\n",
       "      <td>0.0</td>\n",
       "      <td>4.415320e+05</td>\n",
       "      <td>NaN</td>\n",
       "    </tr>\n",
       "    <tr>\n",
       "      <th>36833</th>\n",
       "      <td>0.0</td>\n",
       "      <td>1.444216e+09</td>\n",
       "      <td>NaN</td>\n",
       "    </tr>\n",
       "  </tbody>\n",
       "</table>\n",
       "</div>"
      ],
      "text/plain": [
       "        new_cases    population  new_cases_per_100K\n",
       "id_row                                             \n",
       "679           0.0  3.983543e+07                 NaN\n",
       "6400          0.0  9.872800e+04                 NaN\n",
       "11096         0.0  2.578822e+07                 NaN\n",
       "11112         0.0  2.578822e+07                 NaN\n",
       "13572         0.0  3.969140e+05                 NaN\n",
       "18998         0.0  1.245103e+07                 NaN\n",
       "24929         0.0  2.139934e+08                 NaN\n",
       "25383         0.0  2.139934e+08                 NaN\n",
       "27143         0.0  4.415320e+05                 NaN\n",
       "36833         0.0  1.444216e+09                 NaN"
      ]
     },
     "execution_count": 10,
     "metadata": {},
     "output_type": "execute_result"
    }
   ],
   "source": [
    "# Check missing values from new_cases_per_100K\n",
    "check_df = focused_general_df[['new_cases', 'population', 'new_cases_per_100K']]\n",
    "see_nulls = check_df.loc[check_df.new_cases_per_100K.isnull()]\n",
    "see_nulls.head(10)"
   ]
  },
  {
   "cell_type": "code",
   "execution_count": 11,
   "id": "7c6d8cbd",
   "metadata": {},
   "outputs": [
    {
     "data": {
      "text/plain": [
       "location                                  0\n",
       "covid_days                                0\n",
       "total_cases                               0\n",
       "new_cases                                 0\n",
       "reproduction_rate                         0\n",
       "total_vaccinations                        0\n",
       "people_fully_vaccinated                   0\n",
       "stringency_index                          0\n",
       "population                                0\n",
       "population_density                        0\n",
       "median_age                                0\n",
       "aged_65_older                             0\n",
       "gdp_per_capita                            0\n",
       "cardiovasc_death_rate                     0\n",
       "diabetes_prevalence                       0\n",
       "life_expectancy                           0\n",
       "human_development_index                   0\n",
       "daily_vaccinations                        0\n",
       "daily_people_fully_vaccinated             0\n",
       "total_cases_per_100K                      0\n",
       "new_cases_per_100K                        0\n",
       "total_vaccinations_per_100K               0\n",
       "people_fully_vaccinated_per_100K          0\n",
       "daily_vaccinations_per_100K               0\n",
       "daily_people_fully_vaccinated_per_100K    0\n",
       "dtype: int64"
      ]
     },
     "execution_count": 11,
     "metadata": {},
     "output_type": "execute_result"
    }
   ],
   "source": [
    "# Replace the missing values in the normalized new_cases_per_100K column with a rate calculation.\n",
    "focused_general_df.new_cases_per_100K.fillna(focused_general_df.new_cases / focused_general_df.population * 100000, inplace=True)\n",
    "focused_general_df.isnull().sum()"
   ]
  },
  {
   "cell_type": "markdown",
   "id": "b6de1b00",
   "metadata": {},
   "source": [
    "## Data Exploration"
   ]
  },
  {
   "cell_type": "code",
   "execution_count": 12,
   "id": "72964b1b",
   "metadata": {},
   "outputs": [
    {
     "name": "stdout",
     "output_type": "stream",
     "text": [
      "There are 177 locations in the cleaned dataframe.\n"
     ]
    }
   ],
   "source": [
    "# Count the number of locations in the focused_general_df\n",
    "print(f\"There are {focused_general_df.location.nunique()} locations in the cleaned dataframe.\")"
   ]
  },
  {
   "cell_type": "code",
   "execution_count": 13,
   "id": "c4fce341",
   "metadata": {},
   "outputs": [
    {
     "data": {
      "text/plain": [
       "id_row\n",
       "36732      22\n",
       "36733      23\n",
       "36734      24\n",
       "36735      25\n",
       "36736      26\n",
       "         ... \n",
       "94986     817\n",
       "94573     817\n",
       "6723      817\n",
       "99223     817\n",
       "198747    817\n",
       "Name: covid_days, Length: 112069, dtype: int64"
      ]
     },
     "execution_count": 13,
     "metadata": {},
     "output_type": "execute_result"
    }
   ],
   "source": [
    "# Check the date range. \n",
    "focused_general_df.covid_days.sort_values()"
   ]
  },
  {
   "cell_type": "markdown",
   "id": "cee67cf6",
   "metadata": {},
   "source": [
    "The cleaned dataframe contained location_specific COVID-19 entries starting at day 22nd of the pandemic, and up to day 817th of the pandemic. "
   ]
  },
  {
   "cell_type": "code",
   "execution_count": 14,
   "id": "35507162",
   "metadata": {},
   "outputs": [
    {
     "data": {
      "text/plain": [
       "South Korea        767\n",
       "Italy              764\n",
       "Singapore          758\n",
       "France             758\n",
       "Germany            757\n",
       "                  ... \n",
       "Kiribati            55\n",
       "Solomon Islands     51\n",
       "Tonga               39\n",
       "Vanuatu             18\n",
       "Samoa                6\n",
       "Name: location, Length: 177, dtype: int64"
      ]
     },
     "execution_count": 14,
     "metadata": {},
     "output_type": "execute_result"
    }
   ],
   "source": [
    "# Check the count of records for each location\n",
    "locations_records = focused_general_df.location.value_counts()\n",
    "locations_records"
   ]
  },
  {
   "cell_type": "code",
   "execution_count": 15,
   "id": "2a215723",
   "metadata": {},
   "outputs": [
    {
     "data": {
      "text/plain": [
       "<AxesSubplot:ylabel='Density'>"
      ]
     },
     "execution_count": 15,
     "metadata": {},
     "output_type": "execute_result"
    },
    {
     "data": {
      "image/png": "[encoded data removed]",
      "text/plain": [
       "<Figure size 432x288 with 1 Axes>"
      ]
     },
     "metadata": {
      "needs_background": "light"
     },
     "output_type": "display_data"
    }
   ],
   "source": [
    "# Visualize locations' records.\n",
    "locations_records.plot.density()"
   ]
  },
  {
   "cell_type": "code",
   "execution_count": 16,
   "id": "e8bbb868",
   "metadata": {},
   "outputs": [
    {
     "name": "stdout",
     "output_type": "stream",
     "text": [
      "Population min: 98728.0\n",
      "Population max: 1444216102.0\n"
     ]
    }
   ],
   "source": [
    "# Check the population range in the cleaned dataframe.\n",
    "print(f\"Population min: {focused_general_df.population.min()}\")\n",
    "print(f\"Population max: {focused_general_df.population.max()}\")"
   ]
  },
  {
   "cell_type": "markdown",
   "id": "71687366",
   "metadata": {},
   "source": [
    "### Population Splitting"
   ]
  },
  {
   "cell_type": "markdown",
   "id": "154cfd85",
   "metadata": {},
   "source": [
    "To facilitate the machine learning model application, we split the dataset based on population and applied the model to countries with populations of 1 million and above."
   ]
  },
  {
   "cell_type": "markdown",
   "id": "75fb9a97",
   "metadata": {},
   "source": [
    "Create a population-based DataFrame: \n",
    "- mill_countries_df: Population more than 1 million."
   ]
  },
  {
   "cell_type": "markdown",
   "id": "2d5a6c20",
   "metadata": {},
   "source": [
    "#### Population 1 million and above"
   ]
  },
  {
   "cell_type": "code",
   "execution_count": 17,
   "id": "eed8663d",
   "metadata": {},
   "outputs": [
    {
     "name": "stdout",
     "output_type": "stream",
     "text": [
      "(99856, 25)\n"
     ]
    },
    {
     "data": {
      "text/html": [
       "<div>\n",
       "<style scoped>\n",
       "    .dataframe tbody tr th:only-of-type {\n",
       "        vertical-align: middle;\n",
       "    }\n",
       "\n",
       "    .dataframe tbody tr th {\n",
       "        vertical-align: top;\n",
       "    }\n",
       "\n",
       "    .dataframe thead th {\n",
       "        text-align: right;\n",
       "    }\n",
       "</style>\n",
       "<table border=\"1\" class=\"dataframe\">\n",
       "  <thead>\n",
       "    <tr style=\"text-align: right;\">\n",
       "      <th></th>\n",
       "      <th>location</th>\n",
       "      <th>covid_days</th>\n",
       "      <th>total_cases</th>\n",
       "      <th>new_cases</th>\n",
       "      <th>reproduction_rate</th>\n",
       "      <th>total_vaccinations</th>\n",
       "      <th>people_fully_vaccinated</th>\n",
       "      <th>stringency_index</th>\n",
       "      <th>population</th>\n",
       "      <th>population_density</th>\n",
       "      <th>...</th>\n",
       "      <th>life_expectancy</th>\n",
       "      <th>human_development_index</th>\n",
       "      <th>daily_vaccinations</th>\n",
       "      <th>daily_people_fully_vaccinated</th>\n",
       "      <th>total_cases_per_100K</th>\n",
       "      <th>new_cases_per_100K</th>\n",
       "      <th>total_vaccinations_per_100K</th>\n",
       "      <th>people_fully_vaccinated_per_100K</th>\n",
       "      <th>daily_vaccinations_per_100K</th>\n",
       "      <th>daily_people_fully_vaccinated_per_100K</th>\n",
       "    </tr>\n",
       "    <tr>\n",
       "      <th>id_row</th>\n",
       "      <th></th>\n",
       "      <th></th>\n",
       "      <th></th>\n",
       "      <th></th>\n",
       "      <th></th>\n",
       "      <th></th>\n",
       "      <th></th>\n",
       "      <th></th>\n",
       "      <th></th>\n",
       "      <th></th>\n",
       "      <th></th>\n",
       "      <th></th>\n",
       "      <th></th>\n",
       "      <th></th>\n",
       "      <th></th>\n",
       "      <th></th>\n",
       "      <th></th>\n",
       "      <th></th>\n",
       "      <th></th>\n",
       "      <th></th>\n",
       "      <th></th>\n",
       "    </tr>\n",
       "  </thead>\n",
       "  <tbody>\n",
       "    <tr>\n",
       "      <th>34</th>\n",
       "      <td>Afghanistan</td>\n",
       "      <td>88</td>\n",
       "      <td>114.0</td>\n",
       "      <td>8.0</td>\n",
       "      <td>1.52</td>\n",
       "      <td>0.0</td>\n",
       "      <td>0.0</td>\n",
       "      <td>67.59</td>\n",
       "      <td>39835428.0</td>\n",
       "      <td>54.422</td>\n",
       "      <td>...</td>\n",
       "      <td>64.83</td>\n",
       "      <td>0.511</td>\n",
       "      <td>0.0</td>\n",
       "      <td>0.0</td>\n",
       "      <td>0.2862</td>\n",
       "      <td>0.0201</td>\n",
       "      <td>0.0</td>\n",
       "      <td>0.0</td>\n",
       "      <td>0.0</td>\n",
       "      <td>0.0</td>\n",
       "    </tr>\n",
       "    <tr>\n",
       "      <th>35</th>\n",
       "      <td>Afghanistan</td>\n",
       "      <td>89</td>\n",
       "      <td>114.0</td>\n",
       "      <td>0.0</td>\n",
       "      <td>1.52</td>\n",
       "      <td>0.0</td>\n",
       "      <td>0.0</td>\n",
       "      <td>67.59</td>\n",
       "      <td>39835428.0</td>\n",
       "      <td>54.422</td>\n",
       "      <td>...</td>\n",
       "      <td>64.83</td>\n",
       "      <td>0.511</td>\n",
       "      <td>0.0</td>\n",
       "      <td>0.0</td>\n",
       "      <td>0.2862</td>\n",
       "      <td>0.0000</td>\n",
       "      <td>0.0</td>\n",
       "      <td>0.0</td>\n",
       "      <td>0.0</td>\n",
       "      <td>0.0</td>\n",
       "    </tr>\n",
       "    <tr>\n",
       "      <th>36</th>\n",
       "      <td>Afghanistan</td>\n",
       "      <td>90</td>\n",
       "      <td>166.0</td>\n",
       "      <td>52.0</td>\n",
       "      <td>1.53</td>\n",
       "      <td>0.0</td>\n",
       "      <td>0.0</td>\n",
       "      <td>67.59</td>\n",
       "      <td>39835428.0</td>\n",
       "      <td>54.422</td>\n",
       "      <td>...</td>\n",
       "      <td>64.83</td>\n",
       "      <td>0.511</td>\n",
       "      <td>0.0</td>\n",
       "      <td>0.0</td>\n",
       "      <td>0.4167</td>\n",
       "      <td>0.1305</td>\n",
       "      <td>0.0</td>\n",
       "      <td>0.0</td>\n",
       "      <td>0.0</td>\n",
       "      <td>0.0</td>\n",
       "    </tr>\n",
       "    <tr>\n",
       "      <th>37</th>\n",
       "      <td>Afghanistan</td>\n",
       "      <td>91</td>\n",
       "      <td>192.0</td>\n",
       "      <td>26.0</td>\n",
       "      <td>1.52</td>\n",
       "      <td>0.0</td>\n",
       "      <td>0.0</td>\n",
       "      <td>67.59</td>\n",
       "      <td>39835428.0</td>\n",
       "      <td>54.422</td>\n",
       "      <td>...</td>\n",
       "      <td>64.83</td>\n",
       "      <td>0.511</td>\n",
       "      <td>0.0</td>\n",
       "      <td>0.0</td>\n",
       "      <td>0.4820</td>\n",
       "      <td>0.0653</td>\n",
       "      <td>0.0</td>\n",
       "      <td>0.0</td>\n",
       "      <td>0.0</td>\n",
       "      <td>0.0</td>\n",
       "    </tr>\n",
       "    <tr>\n",
       "      <th>38</th>\n",
       "      <td>Afghanistan</td>\n",
       "      <td>92</td>\n",
       "      <td>235.0</td>\n",
       "      <td>43.0</td>\n",
       "      <td>1.52</td>\n",
       "      <td>0.0</td>\n",
       "      <td>0.0</td>\n",
       "      <td>67.59</td>\n",
       "      <td>39835428.0</td>\n",
       "      <td>54.422</td>\n",
       "      <td>...</td>\n",
       "      <td>64.83</td>\n",
       "      <td>0.511</td>\n",
       "      <td>0.0</td>\n",
       "      <td>0.0</td>\n",
       "      <td>0.5899</td>\n",
       "      <td>0.1079</td>\n",
       "      <td>0.0</td>\n",
       "      <td>0.0</td>\n",
       "      <td>0.0</td>\n",
       "      <td>0.0</td>\n",
       "    </tr>\n",
       "  </tbody>\n",
       "</table>\n",
       "<p>5 rows × 25 columns</p>\n",
       "</div>"
      ],
      "text/plain": [
       "           location  covid_days  total_cases  new_cases  reproduction_rate  \\\n",
       "id_row                                                                       \n",
       "34      Afghanistan          88        114.0        8.0               1.52   \n",
       "35      Afghanistan          89        114.0        0.0               1.52   \n",
       "36      Afghanistan          90        166.0       52.0               1.53   \n",
       "37      Afghanistan          91        192.0       26.0               1.52   \n",
       "38      Afghanistan          92        235.0       43.0               1.52   \n",
       "\n",
       "        total_vaccinations  people_fully_vaccinated  stringency_index  \\\n",
       "id_row                                                                  \n",
       "34                     0.0                      0.0             67.59   \n",
       "35                     0.0                      0.0             67.59   \n",
       "36                     0.0                      0.0             67.59   \n",
       "37                     0.0                      0.0             67.59   \n",
       "38                     0.0                      0.0             67.59   \n",
       "\n",
       "        population  population_density  ...  life_expectancy  \\\n",
       "id_row                                  ...                    \n",
       "34      39835428.0              54.422  ...            64.83   \n",
       "35      39835428.0              54.422  ...            64.83   \n",
       "36      39835428.0              54.422  ...            64.83   \n",
       "37      39835428.0              54.422  ...            64.83   \n",
       "38      39835428.0              54.422  ...            64.83   \n",
       "\n",
       "        human_development_index  daily_vaccinations  \\\n",
       "id_row                                                \n",
       "34                        0.511                 0.0   \n",
       "35                        0.511                 0.0   \n",
       "36                        0.511                 0.0   \n",
       "37                        0.511                 0.0   \n",
       "38                        0.511                 0.0   \n",
       "\n",
       "        daily_people_fully_vaccinated  total_cases_per_100K  \\\n",
       "id_row                                                        \n",
       "34                                0.0                0.2862   \n",
       "35                                0.0                0.2862   \n",
       "36                                0.0                0.4167   \n",
       "37                                0.0                0.4820   \n",
       "38                                0.0                0.5899   \n",
       "\n",
       "        new_cases_per_100K  total_vaccinations_per_100K  \\\n",
       "id_row                                                    \n",
       "34                  0.0201                          0.0   \n",
       "35                  0.0000                          0.0   \n",
       "36                  0.1305                          0.0   \n",
       "37                  0.0653                          0.0   \n",
       "38                  0.1079                          0.0   \n",
       "\n",
       "        people_fully_vaccinated_per_100K  daily_vaccinations_per_100K  \\\n",
       "id_row                                                                  \n",
       "34                                   0.0                          0.0   \n",
       "35                                   0.0                          0.0   \n",
       "36                                   0.0                          0.0   \n",
       "37                                   0.0                          0.0   \n",
       "38                                   0.0                          0.0   \n",
       "\n",
       "        daily_people_fully_vaccinated_per_100K  \n",
       "id_row                                          \n",
       "34                                         0.0  \n",
       "35                                         0.0  \n",
       "36                                         0.0  \n",
       "37                                         0.0  \n",
       "38                                         0.0  \n",
       "\n",
       "[5 rows x 25 columns]"
      ]
     },
     "execution_count": 17,
     "metadata": {},
     "output_type": "execute_result"
    }
   ],
   "source": [
    "# Create 1 million and above population DataFrame for cases_pred_df.\n",
    "cases_mill_countries_df = focused_general_df[(focused_general_df[\"population\"] >= 1000000)]\n",
    "print(cases_mill_countries_df.shape)\n",
    "cases_mill_countries_df.head()"
   ]
  },
  {
   "cell_type": "code",
   "execution_count": 18,
   "id": "6668f3dd",
   "metadata": {},
   "outputs": [
    {
     "name": "stdout",
     "output_type": "stream",
     "text": [
      " There are 150 countries with population of 1 million and above.\n"
     ]
    },
    {
     "data": {
      "text/plain": [
       "array(['Afghanistan', 'Albania', 'Algeria', 'Angola', 'Argentina',\n",
       "       'Armenia', 'Australia', 'Austria', 'Azerbaijan', 'Bahrain',\n",
       "       'Bangladesh', 'Belarus', 'Belgium', 'Benin', 'Bolivia',\n",
       "       'Bosnia and Herzegovina', 'Botswana', 'Brazil', 'Bulgaria',\n",
       "       'Burkina Faso', 'Burundi', 'Cambodia', 'Cameroon', 'Canada',\n",
       "       'Central African Republic', 'Chad', 'Chile', 'China', 'Colombia',\n",
       "       'Congo', 'Costa Rica', \"Cote d'Ivoire\", 'Croatia', 'Czechia',\n",
       "       'Democratic Republic of Congo', 'Denmark', 'Djibouti',\n",
       "       'Dominican Republic', 'Ecuador', 'Egypt', 'El Salvador',\n",
       "       'Equatorial Guinea', 'Eritrea', 'Estonia', 'Eswatini', 'Ethiopia',\n",
       "       'Finland', 'France', 'Gabon', 'Gambia', 'Georgia', 'Germany',\n",
       "       'Ghana', 'Greece', 'Guatemala', 'Guinea', 'Guinea-Bissau', 'Haiti',\n",
       "       'Honduras', 'Hungary', 'India', 'Indonesia', 'Iran', 'Iraq',\n",
       "       'Ireland', 'Israel', 'Italy', 'Jamaica', 'Japan', 'Jordan',\n",
       "       'Kazakhstan', 'Kenya', 'Kuwait', 'Kyrgyzstan', 'Laos', 'Latvia',\n",
       "       'Lebanon', 'Lesotho', 'Liberia', 'Libya', 'Lithuania',\n",
       "       'Madagascar', 'Malawi', 'Malaysia', 'Mali', 'Mauritania',\n",
       "       'Mauritius', 'Mexico', 'Moldova', 'Mongolia', 'Morocco',\n",
       "       'Mozambique', 'Myanmar', 'Namibia', 'Nepal', 'Netherlands',\n",
       "       'New Zealand', 'Nicaragua', 'Niger', 'Nigeria', 'North Macedonia',\n",
       "       'Norway', 'Oman', 'Pakistan', 'Palestine', 'Panama',\n",
       "       'Papua New Guinea', 'Paraguay', 'Peru', 'Philippines', 'Poland',\n",
       "       'Portugal', 'Qatar', 'Romania', 'Russia', 'Rwanda', 'Saudi Arabia',\n",
       "       'Senegal', 'Serbia', 'Sierra Leone', 'Singapore', 'Slovakia',\n",
       "       'Slovenia', 'South Africa', 'South Korea', 'Spain', 'Sri Lanka',\n",
       "       'Sudan', 'Sweden', 'Switzerland', 'Tajikistan', 'Tanzania',\n",
       "       'Thailand', 'Timor', 'Togo', 'Trinidad and Tobago', 'Tunisia',\n",
       "       'Turkey', 'Uganda', 'Ukraine', 'United Arab Emirates',\n",
       "       'United Kingdom', 'United States', 'Uruguay', 'Uzbekistan',\n",
       "       'Venezuela', 'Vietnam', 'Yemen', 'Zambia', 'Zimbabwe'],\n",
       "      dtype=object)"
      ]
     },
     "execution_count": 18,
     "metadata": {},
     "output_type": "execute_result"
    }
   ],
   "source": [
    "# Check the names and count of countries with population more than 1 mill.\n",
    "cases_mill_countries_list = cases_mill_countries_df[\"location\"].unique()\n",
    "print(f\" There are {len(cases_mill_countries_list)} countries with population of 1 million and above.\")\n",
    "cases_mill_countries_list"
   ]
  },
  {
   "cell_type": "code",
   "execution_count": 19,
   "id": "7f5e1139",
   "metadata": {},
   "outputs": [
    {
     "data": {
      "text/plain": [
       "South Korea         767\n",
       "Italy               764\n",
       "Singapore           758\n",
       "France              758\n",
       "Germany             757\n",
       "                   ... \n",
       "Botswana            549\n",
       "Papua New Guinea    543\n",
       "Angola              543\n",
       "Timor               327\n",
       "Laos                279\n",
       "Name: location, Length: 150, dtype: int64"
      ]
     },
     "execution_count": 19,
     "metadata": {},
     "output_type": "execute_result"
    }
   ],
   "source": [
    "# Check the records count of 1 million+ countries.\n",
    "cases_mill_pop_records = cases_mill_countries_df.location.value_counts()\n",
    "cases_mill_pop_records"
   ]
  },
  {
   "cell_type": "markdown",
   "id": "94ab43d5",
   "metadata": {},
   "source": [
    "##### PHASE 1 DATAFRAME:  apply only on countries with population of 1 million and above."
   ]
  },
  {
   "cell_type": "code",
   "execution_count": 20,
   "id": "50b9ff60",
   "metadata": {},
   "outputs": [
    {
     "data": {
      "text/plain": [
       "(99856, 25)"
      ]
     },
     "execution_count": 20,
     "metadata": {},
     "output_type": "execute_result"
    }
   ],
   "source": [
    "cases_mill_countries_df.shape"
   ]
  },
  {
   "cell_type": "code",
   "execution_count": 21,
   "id": "25a76086",
   "metadata": {},
   "outputs": [
    {
     "data": {
      "text/plain": [
       "150"
      ]
     },
     "execution_count": 21,
     "metadata": {},
     "output_type": "execute_result"
    }
   ],
   "source": [
    "cases_mill_countries_df.location.nunique()"
   ]
  },
  {
   "cell_type": "code",
   "execution_count": 22,
   "id": "53087e0b",
   "metadata": {},
   "outputs": [
    {
     "name": "stdout",
     "output_type": "stream",
     "text": [
      "<class 'pandas.core.frame.DataFrame'>\n",
      "Int64Index: 99856 entries, 34 to 198747\n",
      "Data columns (total 25 columns):\n",
      " #   Column                                  Non-Null Count  Dtype  \n",
      "---  ------                                  --------------  -----  \n",
      " 0   location                                99856 non-null  object \n",
      " 1   covid_days                              99856 non-null  int64  \n",
      " 2   total_cases                             99856 non-null  float64\n",
      " 3   new_cases                               99856 non-null  float64\n",
      " 4   reproduction_rate                       99856 non-null  float64\n",
      " 5   total_vaccinations                      99856 non-null  float64\n",
      " 6   people_fully_vaccinated                 99856 non-null  float64\n",
      " 7   stringency_index                        99856 non-null  float64\n",
      " 8   population                              99856 non-null  float64\n",
      " 9   population_density                      99856 non-null  float64\n",
      " 10  median_age                              99856 non-null  float64\n",
      " 11  aged_65_older                           99856 non-null  float64\n",
      " 12  gdp_per_capita                          99856 non-null  float64\n",
      " 13  cardiovasc_death_rate                   99856 non-null  float64\n",
      " 14  diabetes_prevalence                     99856 non-null  float64\n",
      " 15  life_expectancy                         99856 non-null  float64\n",
      " 16  human_development_index                 99856 non-null  float64\n",
      " 17  daily_vaccinations                      99856 non-null  float64\n",
      " 18  daily_people_fully_vaccinated           99856 non-null  float64\n",
      " 19  total_cases_per_100K                    99856 non-null  float64\n",
      " 20  new_cases_per_100K                      99856 non-null  float64\n",
      " 21  total_vaccinations_per_100K             99856 non-null  float64\n",
      " 22  people_fully_vaccinated_per_100K        99856 non-null  float64\n",
      " 23  daily_vaccinations_per_100K             99856 non-null  float64\n",
      " 24  daily_people_fully_vaccinated_per_100K  99856 non-null  float64\n",
      "dtypes: float64(23), int64(1), object(1)\n",
      "memory usage: 19.8+ MB\n"
     ]
    }
   ],
   "source": [
    "cases_mill_countries_df.info()"
   ]
  },
  {
   "cell_type": "code",
   "execution_count": null,
   "id": "b6e6c9ca",
   "metadata": {},
   "outputs": [],
   "source": [
    "# # Export the cases prediction DataFrame of countries with 1 mill+ to a csv file.\n",
    "# cases_1mill_output_file = Path(\"./Resources/cases_1mill_pred.csv\")\n",
    "# cases_mill_countries_df.to_csv(cases_1mill_output_file, index=True)"
   ]
  },
  {
   "cell_type": "markdown",
   "id": "79042de8",
   "metadata": {},
   "source": [
    "## Covid Days Splitting"
   ]
  },
  {
   "cell_type": "markdown",
   "id": "475616cb",
   "metadata": {},
   "source": [
    "In light of the changing nature of the COVID-19 virus and the emergent new variants, we will be looking at data from the first 2 years of the pandemic when the public health measures were more strict. "
   ]
  },
  {
   "cell_type": "code",
   "execution_count": 23,
   "id": "e91ea92c",
   "metadata": {},
   "outputs": [
    {
     "name": "stdout",
     "output_type": "stream",
     "text": [
      "(88039, 25)\n"
     ]
    },
    {
     "data": {
      "text/html": [
       "<div>\n",
       "<style scoped>\n",
       "    .dataframe tbody tr th:only-of-type {\n",
       "        vertical-align: middle;\n",
       "    }\n",
       "\n",
       "    .dataframe tbody tr th {\n",
       "        vertical-align: top;\n",
       "    }\n",
       "\n",
       "    .dataframe thead th {\n",
       "        text-align: right;\n",
       "    }\n",
       "</style>\n",
       "<table border=\"1\" class=\"dataframe\">\n",
       "  <thead>\n",
       "    <tr style=\"text-align: right;\">\n",
       "      <th></th>\n",
       "      <th>location</th>\n",
       "      <th>covid_days</th>\n",
       "      <th>total_cases</th>\n",
       "      <th>new_cases</th>\n",
       "      <th>reproduction_rate</th>\n",
       "      <th>total_vaccinations</th>\n",
       "      <th>people_fully_vaccinated</th>\n",
       "      <th>stringency_index</th>\n",
       "      <th>population</th>\n",
       "      <th>population_density</th>\n",
       "      <th>...</th>\n",
       "      <th>life_expectancy</th>\n",
       "      <th>human_development_index</th>\n",
       "      <th>daily_vaccinations</th>\n",
       "      <th>daily_people_fully_vaccinated</th>\n",
       "      <th>total_cases_per_100K</th>\n",
       "      <th>new_cases_per_100K</th>\n",
       "      <th>total_vaccinations_per_100K</th>\n",
       "      <th>people_fully_vaccinated_per_100K</th>\n",
       "      <th>daily_vaccinations_per_100K</th>\n",
       "      <th>daily_people_fully_vaccinated_per_100K</th>\n",
       "    </tr>\n",
       "    <tr>\n",
       "      <th>id_row</th>\n",
       "      <th></th>\n",
       "      <th></th>\n",
       "      <th></th>\n",
       "      <th></th>\n",
       "      <th></th>\n",
       "      <th></th>\n",
       "      <th></th>\n",
       "      <th></th>\n",
       "      <th></th>\n",
       "      <th></th>\n",
       "      <th></th>\n",
       "      <th></th>\n",
       "      <th></th>\n",
       "      <th></th>\n",
       "      <th></th>\n",
       "      <th></th>\n",
       "      <th></th>\n",
       "      <th></th>\n",
       "      <th></th>\n",
       "      <th></th>\n",
       "      <th></th>\n",
       "    </tr>\n",
       "  </thead>\n",
       "  <tbody>\n",
       "    <tr>\n",
       "      <th>34</th>\n",
       "      <td>Afghanistan</td>\n",
       "      <td>88</td>\n",
       "      <td>114.0</td>\n",
       "      <td>8.0</td>\n",
       "      <td>1.52</td>\n",
       "      <td>0.0</td>\n",
       "      <td>0.0</td>\n",
       "      <td>67.59</td>\n",
       "      <td>39835428.0</td>\n",
       "      <td>54.422</td>\n",
       "      <td>...</td>\n",
       "      <td>64.83</td>\n",
       "      <td>0.511</td>\n",
       "      <td>0.0</td>\n",
       "      <td>0.0</td>\n",
       "      <td>0.2862</td>\n",
       "      <td>0.0201</td>\n",
       "      <td>0.0</td>\n",
       "      <td>0.0</td>\n",
       "      <td>0.0</td>\n",
       "      <td>0.0</td>\n",
       "    </tr>\n",
       "    <tr>\n",
       "      <th>35</th>\n",
       "      <td>Afghanistan</td>\n",
       "      <td>89</td>\n",
       "      <td>114.0</td>\n",
       "      <td>0.0</td>\n",
       "      <td>1.52</td>\n",
       "      <td>0.0</td>\n",
       "      <td>0.0</td>\n",
       "      <td>67.59</td>\n",
       "      <td>39835428.0</td>\n",
       "      <td>54.422</td>\n",
       "      <td>...</td>\n",
       "      <td>64.83</td>\n",
       "      <td>0.511</td>\n",
       "      <td>0.0</td>\n",
       "      <td>0.0</td>\n",
       "      <td>0.2862</td>\n",
       "      <td>0.0000</td>\n",
       "      <td>0.0</td>\n",
       "      <td>0.0</td>\n",
       "      <td>0.0</td>\n",
       "      <td>0.0</td>\n",
       "    </tr>\n",
       "    <tr>\n",
       "      <th>36</th>\n",
       "      <td>Afghanistan</td>\n",
       "      <td>90</td>\n",
       "      <td>166.0</td>\n",
       "      <td>52.0</td>\n",
       "      <td>1.53</td>\n",
       "      <td>0.0</td>\n",
       "      <td>0.0</td>\n",
       "      <td>67.59</td>\n",
       "      <td>39835428.0</td>\n",
       "      <td>54.422</td>\n",
       "      <td>...</td>\n",
       "      <td>64.83</td>\n",
       "      <td>0.511</td>\n",
       "      <td>0.0</td>\n",
       "      <td>0.0</td>\n",
       "      <td>0.4167</td>\n",
       "      <td>0.1305</td>\n",
       "      <td>0.0</td>\n",
       "      <td>0.0</td>\n",
       "      <td>0.0</td>\n",
       "      <td>0.0</td>\n",
       "    </tr>\n",
       "    <tr>\n",
       "      <th>37</th>\n",
       "      <td>Afghanistan</td>\n",
       "      <td>91</td>\n",
       "      <td>192.0</td>\n",
       "      <td>26.0</td>\n",
       "      <td>1.52</td>\n",
       "      <td>0.0</td>\n",
       "      <td>0.0</td>\n",
       "      <td>67.59</td>\n",
       "      <td>39835428.0</td>\n",
       "      <td>54.422</td>\n",
       "      <td>...</td>\n",
       "      <td>64.83</td>\n",
       "      <td>0.511</td>\n",
       "      <td>0.0</td>\n",
       "      <td>0.0</td>\n",
       "      <td>0.4820</td>\n",
       "      <td>0.0653</td>\n",
       "      <td>0.0</td>\n",
       "      <td>0.0</td>\n",
       "      <td>0.0</td>\n",
       "      <td>0.0</td>\n",
       "    </tr>\n",
       "    <tr>\n",
       "      <th>38</th>\n",
       "      <td>Afghanistan</td>\n",
       "      <td>92</td>\n",
       "      <td>235.0</td>\n",
       "      <td>43.0</td>\n",
       "      <td>1.52</td>\n",
       "      <td>0.0</td>\n",
       "      <td>0.0</td>\n",
       "      <td>67.59</td>\n",
       "      <td>39835428.0</td>\n",
       "      <td>54.422</td>\n",
       "      <td>...</td>\n",
       "      <td>64.83</td>\n",
       "      <td>0.511</td>\n",
       "      <td>0.0</td>\n",
       "      <td>0.0</td>\n",
       "      <td>0.5899</td>\n",
       "      <td>0.1079</td>\n",
       "      <td>0.0</td>\n",
       "      <td>0.0</td>\n",
       "      <td>0.0</td>\n",
       "      <td>0.0</td>\n",
       "    </tr>\n",
       "  </tbody>\n",
       "</table>\n",
       "<p>5 rows × 25 columns</p>\n",
       "</div>"
      ],
      "text/plain": [
       "           location  covid_days  total_cases  new_cases  reproduction_rate  \\\n",
       "id_row                                                                       \n",
       "34      Afghanistan          88        114.0        8.0               1.52   \n",
       "35      Afghanistan          89        114.0        0.0               1.52   \n",
       "36      Afghanistan          90        166.0       52.0               1.53   \n",
       "37      Afghanistan          91        192.0       26.0               1.52   \n",
       "38      Afghanistan          92        235.0       43.0               1.52   \n",
       "\n",
       "        total_vaccinations  people_fully_vaccinated  stringency_index  \\\n",
       "id_row                                                                  \n",
       "34                     0.0                      0.0             67.59   \n",
       "35                     0.0                      0.0             67.59   \n",
       "36                     0.0                      0.0             67.59   \n",
       "37                     0.0                      0.0             67.59   \n",
       "38                     0.0                      0.0             67.59   \n",
       "\n",
       "        population  population_density  ...  life_expectancy  \\\n",
       "id_row                                  ...                    \n",
       "34      39835428.0              54.422  ...            64.83   \n",
       "35      39835428.0              54.422  ...            64.83   \n",
       "36      39835428.0              54.422  ...            64.83   \n",
       "37      39835428.0              54.422  ...            64.83   \n",
       "38      39835428.0              54.422  ...            64.83   \n",
       "\n",
       "        human_development_index  daily_vaccinations  \\\n",
       "id_row                                                \n",
       "34                        0.511                 0.0   \n",
       "35                        0.511                 0.0   \n",
       "36                        0.511                 0.0   \n",
       "37                        0.511                 0.0   \n",
       "38                        0.511                 0.0   \n",
       "\n",
       "        daily_people_fully_vaccinated  total_cases_per_100K  \\\n",
       "id_row                                                        \n",
       "34                                0.0                0.2862   \n",
       "35                                0.0                0.2862   \n",
       "36                                0.0                0.4167   \n",
       "37                                0.0                0.4820   \n",
       "38                                0.0                0.5899   \n",
       "\n",
       "        new_cases_per_100K  total_vaccinations_per_100K  \\\n",
       "id_row                                                    \n",
       "34                  0.0201                          0.0   \n",
       "35                  0.0000                          0.0   \n",
       "36                  0.1305                          0.0   \n",
       "37                  0.0653                          0.0   \n",
       "38                  0.1079                          0.0   \n",
       "\n",
       "        people_fully_vaccinated_per_100K  daily_vaccinations_per_100K  \\\n",
       "id_row                                                                  \n",
       "34                                   0.0                          0.0   \n",
       "35                                   0.0                          0.0   \n",
       "36                                   0.0                          0.0   \n",
       "37                                   0.0                          0.0   \n",
       "38                                   0.0                          0.0   \n",
       "\n",
       "        daily_people_fully_vaccinated_per_100K  \n",
       "id_row                                          \n",
       "34                                         0.0  \n",
       "35                                         0.0  \n",
       "36                                         0.0  \n",
       "37                                         0.0  \n",
       "38                                         0.0  \n",
       "\n",
       "[5 rows x 25 columns]"
      ]
     },
     "execution_count": 23,
     "metadata": {},
     "output_type": "execute_result"
    }
   ],
   "source": [
    "# Create a 2-yr (720) DataFrame \n",
    "cases_1mill_2yr_df = cases_mill_countries_df[cases_mill_countries_df[\"covid_days\"] <= 725]\n",
    "print(cases_1mill_2yr_df.shape)\n",
    "cases_1mill_2yr_df.head()"
   ]
  },
  {
   "cell_type": "code",
   "execution_count": 27,
   "id": "91302862",
   "metadata": {},
   "outputs": [],
   "source": [
    "# # Export the cases prediction DataFrame of countries with 1 mill+ and 720 covid_days to a csv file.\n",
    "# cases_1mill_2yr_output_file = Path(\"./Resources/cases_1mill_2yr_df.csv\")\n",
    "# cases_1mill_2yr_df.to_csv(cases_1mill_2yr_output_file, index=True)"
   ]
  },
  {
   "cell_type": "code",
   "execution_count": 25,
   "id": "173379cd",
   "metadata": {},
   "outputs": [
    {
     "name": "stdout",
     "output_type": "stream",
     "text": [
      "(84848, 25)\n"
     ]
    },
    {
     "data": {
      "text/html": [
       "<div>\n",
       "<style scoped>\n",
       "    .dataframe tbody tr th:only-of-type {\n",
       "        vertical-align: middle;\n",
       "    }\n",
       "\n",
       "    .dataframe tbody tr th {\n",
       "        vertical-align: top;\n",
       "    }\n",
       "\n",
       "    .dataframe thead th {\n",
       "        text-align: right;\n",
       "    }\n",
       "</style>\n",
       "<table border=\"1\" class=\"dataframe\">\n",
       "  <thead>\n",
       "    <tr style=\"text-align: right;\">\n",
       "      <th></th>\n",
       "      <th>location</th>\n",
       "      <th>covid_days</th>\n",
       "      <th>total_cases</th>\n",
       "      <th>new_cases</th>\n",
       "      <th>reproduction_rate</th>\n",
       "      <th>total_vaccinations</th>\n",
       "      <th>people_fully_vaccinated</th>\n",
       "      <th>stringency_index</th>\n",
       "      <th>population</th>\n",
       "      <th>population_density</th>\n",
       "      <th>...</th>\n",
       "      <th>life_expectancy</th>\n",
       "      <th>human_development_index</th>\n",
       "      <th>daily_vaccinations</th>\n",
       "      <th>daily_people_fully_vaccinated</th>\n",
       "      <th>total_cases_per_100K</th>\n",
       "      <th>new_cases_per_100K</th>\n",
       "      <th>total_vaccinations_per_100K</th>\n",
       "      <th>people_fully_vaccinated_per_100K</th>\n",
       "      <th>daily_vaccinations_per_100K</th>\n",
       "      <th>daily_people_fully_vaccinated_per_100K</th>\n",
       "    </tr>\n",
       "    <tr>\n",
       "      <th>id_row</th>\n",
       "      <th></th>\n",
       "      <th></th>\n",
       "      <th></th>\n",
       "      <th></th>\n",
       "      <th></th>\n",
       "      <th></th>\n",
       "      <th></th>\n",
       "      <th></th>\n",
       "      <th></th>\n",
       "      <th></th>\n",
       "      <th></th>\n",
       "      <th></th>\n",
       "      <th></th>\n",
       "      <th></th>\n",
       "      <th></th>\n",
       "      <th></th>\n",
       "      <th></th>\n",
       "      <th></th>\n",
       "      <th></th>\n",
       "      <th></th>\n",
       "      <th></th>\n",
       "    </tr>\n",
       "  </thead>\n",
       "  <tbody>\n",
       "    <tr>\n",
       "      <th>34</th>\n",
       "      <td>Afghanistan</td>\n",
       "      <td>88</td>\n",
       "      <td>114.0</td>\n",
       "      <td>8.0</td>\n",
       "      <td>1.52</td>\n",
       "      <td>0.0</td>\n",
       "      <td>0.0</td>\n",
       "      <td>67.59</td>\n",
       "      <td>39835428.0</td>\n",
       "      <td>54.422</td>\n",
       "      <td>...</td>\n",
       "      <td>64.83</td>\n",
       "      <td>0.511</td>\n",
       "      <td>0.0</td>\n",
       "      <td>0.0</td>\n",
       "      <td>0.2862</td>\n",
       "      <td>0.0201</td>\n",
       "      <td>0.0</td>\n",
       "      <td>0.0</td>\n",
       "      <td>0.0</td>\n",
       "      <td>0.0</td>\n",
       "    </tr>\n",
       "    <tr>\n",
       "      <th>35</th>\n",
       "      <td>Afghanistan</td>\n",
       "      <td>89</td>\n",
       "      <td>114.0</td>\n",
       "      <td>0.0</td>\n",
       "      <td>1.52</td>\n",
       "      <td>0.0</td>\n",
       "      <td>0.0</td>\n",
       "      <td>67.59</td>\n",
       "      <td>39835428.0</td>\n",
       "      <td>54.422</td>\n",
       "      <td>...</td>\n",
       "      <td>64.83</td>\n",
       "      <td>0.511</td>\n",
       "      <td>0.0</td>\n",
       "      <td>0.0</td>\n",
       "      <td>0.2862</td>\n",
       "      <td>0.0000</td>\n",
       "      <td>0.0</td>\n",
       "      <td>0.0</td>\n",
       "      <td>0.0</td>\n",
       "      <td>0.0</td>\n",
       "    </tr>\n",
       "    <tr>\n",
       "      <th>36</th>\n",
       "      <td>Afghanistan</td>\n",
       "      <td>90</td>\n",
       "      <td>166.0</td>\n",
       "      <td>52.0</td>\n",
       "      <td>1.53</td>\n",
       "      <td>0.0</td>\n",
       "      <td>0.0</td>\n",
       "      <td>67.59</td>\n",
       "      <td>39835428.0</td>\n",
       "      <td>54.422</td>\n",
       "      <td>...</td>\n",
       "      <td>64.83</td>\n",
       "      <td>0.511</td>\n",
       "      <td>0.0</td>\n",
       "      <td>0.0</td>\n",
       "      <td>0.4167</td>\n",
       "      <td>0.1305</td>\n",
       "      <td>0.0</td>\n",
       "      <td>0.0</td>\n",
       "      <td>0.0</td>\n",
       "      <td>0.0</td>\n",
       "    </tr>\n",
       "    <tr>\n",
       "      <th>37</th>\n",
       "      <td>Afghanistan</td>\n",
       "      <td>91</td>\n",
       "      <td>192.0</td>\n",
       "      <td>26.0</td>\n",
       "      <td>1.52</td>\n",
       "      <td>0.0</td>\n",
       "      <td>0.0</td>\n",
       "      <td>67.59</td>\n",
       "      <td>39835428.0</td>\n",
       "      <td>54.422</td>\n",
       "      <td>...</td>\n",
       "      <td>64.83</td>\n",
       "      <td>0.511</td>\n",
       "      <td>0.0</td>\n",
       "      <td>0.0</td>\n",
       "      <td>0.4820</td>\n",
       "      <td>0.0653</td>\n",
       "      <td>0.0</td>\n",
       "      <td>0.0</td>\n",
       "      <td>0.0</td>\n",
       "      <td>0.0</td>\n",
       "    </tr>\n",
       "    <tr>\n",
       "      <th>38</th>\n",
       "      <td>Afghanistan</td>\n",
       "      <td>92</td>\n",
       "      <td>235.0</td>\n",
       "      <td>43.0</td>\n",
       "      <td>1.52</td>\n",
       "      <td>0.0</td>\n",
       "      <td>0.0</td>\n",
       "      <td>67.59</td>\n",
       "      <td>39835428.0</td>\n",
       "      <td>54.422</td>\n",
       "      <td>...</td>\n",
       "      <td>64.83</td>\n",
       "      <td>0.511</td>\n",
       "      <td>0.0</td>\n",
       "      <td>0.0</td>\n",
       "      <td>0.5899</td>\n",
       "      <td>0.1079</td>\n",
       "      <td>0.0</td>\n",
       "      <td>0.0</td>\n",
       "      <td>0.0</td>\n",
       "      <td>0.0</td>\n",
       "    </tr>\n",
       "  </tbody>\n",
       "</table>\n",
       "<p>5 rows × 25 columns</p>\n",
       "</div>"
      ],
      "text/plain": [
       "           location  covid_days  total_cases  new_cases  reproduction_rate  \\\n",
       "id_row                                                                       \n",
       "34      Afghanistan          88        114.0        8.0               1.52   \n",
       "35      Afghanistan          89        114.0        0.0               1.52   \n",
       "36      Afghanistan          90        166.0       52.0               1.53   \n",
       "37      Afghanistan          91        192.0       26.0               1.52   \n",
       "38      Afghanistan          92        235.0       43.0               1.52   \n",
       "\n",
       "        total_vaccinations  people_fully_vaccinated  stringency_index  \\\n",
       "id_row                                                                  \n",
       "34                     0.0                      0.0             67.59   \n",
       "35                     0.0                      0.0             67.59   \n",
       "36                     0.0                      0.0             67.59   \n",
       "37                     0.0                      0.0             67.59   \n",
       "38                     0.0                      0.0             67.59   \n",
       "\n",
       "        population  population_density  ...  life_expectancy  \\\n",
       "id_row                                  ...                    \n",
       "34      39835428.0              54.422  ...            64.83   \n",
       "35      39835428.0              54.422  ...            64.83   \n",
       "36      39835428.0              54.422  ...            64.83   \n",
       "37      39835428.0              54.422  ...            64.83   \n",
       "38      39835428.0              54.422  ...            64.83   \n",
       "\n",
       "        human_development_index  daily_vaccinations  \\\n",
       "id_row                                                \n",
       "34                        0.511                 0.0   \n",
       "35                        0.511                 0.0   \n",
       "36                        0.511                 0.0   \n",
       "37                        0.511                 0.0   \n",
       "38                        0.511                 0.0   \n",
       "\n",
       "        daily_people_fully_vaccinated  total_cases_per_100K  \\\n",
       "id_row                                                        \n",
       "34                                0.0                0.2862   \n",
       "35                                0.0                0.2862   \n",
       "36                                0.0                0.4167   \n",
       "37                                0.0                0.4820   \n",
       "38                                0.0                0.5899   \n",
       "\n",
       "        new_cases_per_100K  total_vaccinations_per_100K  \\\n",
       "id_row                                                    \n",
       "34                  0.0201                          0.0   \n",
       "35                  0.0000                          0.0   \n",
       "36                  0.1305                          0.0   \n",
       "37                  0.0653                          0.0   \n",
       "38                  0.1079                          0.0   \n",
       "\n",
       "        people_fully_vaccinated_per_100K  daily_vaccinations_per_100K  \\\n",
       "id_row                                                                  \n",
       "34                                   0.0                          0.0   \n",
       "35                                   0.0                          0.0   \n",
       "36                                   0.0                          0.0   \n",
       "37                                   0.0                          0.0   \n",
       "38                                   0.0                          0.0   \n",
       "\n",
       "        daily_people_fully_vaccinated_per_100K  \n",
       "id_row                                          \n",
       "34                                         0.0  \n",
       "35                                         0.0  \n",
       "36                                         0.0  \n",
       "37                                         0.0  \n",
       "38                                         0.0  \n",
       "\n",
       "[5 rows x 25 columns]"
      ]
     },
     "execution_count": 25,
     "metadata": {},
     "output_type": "execute_result"
    }
   ],
   "source": [
    "# Create a 700 days DataFrame \n",
    "cases_1mill_700_df = cases_mill_countries_df[cases_mill_countries_df[\"covid_days\"] <= 700]\n",
    "print(cases_1mill_700_df.shape)\n",
    "cases_1mill_700_df.head()"
   ]
  },
  {
   "cell_type": "code",
   "execution_count": 28,
   "id": "e739b837",
   "metadata": {},
   "outputs": [],
   "source": [
    "# # Export the cases prediction DataFrame of countries with 1 mill+ and 700 days covid_days to a csv file.\n",
    "# cases_1mill_700_output_file = Path(\"./Resources/cases_1mill_700_df.csv\")\n",
    "# cases_1mill_700_df.to_csv(cases_1mill_700_output_file, index=True)"
   ]
  },
  {
   "cell_type": "markdown",
   "id": "09b3634f",
   "metadata": {},
   "source": [
    "   "
   ]
  },
  {
   "cell_type": "markdown",
   "id": "bcecb70c",
   "metadata": {},
   "source": [
    "# Prediction Models"
   ]
  },
  {
   "cell_type": "markdown",
   "id": "34116150",
   "metadata": {},
   "source": [
    "Random forest models use a number of weak learner algorithms (decision trees) and combine their output to make a final regression decision."
   ]
  },
  {
   "cell_type": "markdown",
   "id": "f0eb325a",
   "metadata": {},
   "source": [
    "Deep learning models evaluate input data within a single neuron, as well as across multiple neurons and layers."
   ]
  },
  {
   "cell_type": "markdown",
   "id": "8048e3d9",
   "metadata": {},
   "source": [
    "Deep learning model might be able to identify variability in a dataset that a random forest model could miss. However, a random forest model with a sufficient number of estimators and tree depth should be able to perform at a similar capacity to most deep learning models."
   ]
  },
  {
   "cell_type": "markdown",
   "id": "05e7e39a",
   "metadata": {},
   "source": [
    "To compare the implementation and performance of a random forest model versus a deep learning model, we'll train and evaluate both models on the same data. This time, we'll use the countries of 1 mill+ dataset that has been adapted from the OWID COVID-19 data with more than 99,000 rows and 24 potential feature columns. From this dataset, we want to build a regressor that can predict the daily numbero f COVID-19 new cases per 100,000 people provided their current total cases per 100K, vaccinations per 100K and other health and social metrics."
   ]
  },
  {
   "cell_type": "markdown",
   "id": "c4a0257c",
   "metadata": {},
   "source": [
    "## Data Preprocessing"
   ]
  },
  {
   "cell_type": "markdown",
   "id": "5eb32270",
   "metadata": {},
   "source": [
    "Because both Scikit-Learn's RandomForestRegression class and TensorFlow's Sequential class require preprocessing, we can perform our preprocessing steps on all of the data—no need to keep track of separate scaled and unscaled data."
   ]
  },
  {
   "cell_type": "markdown",
   "id": "2a801046",
   "metadata": {},
   "source": [
    "The only categorical data we have is the location, which we will separate from the rest of the features. "
   ]
  },
  {
   "cell_type": "code",
   "execution_count": null,
   "id": "ea46cc9d",
   "metadata": {},
   "outputs": [],
   "source": [
    "# # Create a new DataFrame that holds only the location names.\n",
    "# location_name_df = cases_mill_countries_df[[\"location\"]].copy(deep=True)\n",
    "# location_name_df.sample(10)"
   ]
  },
  {
   "cell_type": "code",
   "execution_count": null,
   "id": "4ccb765e",
   "metadata": {},
   "outputs": [],
   "source": [
    "# location_name_df.location.value_counts()"
   ]
  },
  {
   "cell_type": "code",
   "execution_count": 29,
   "id": "76ca3c34",
   "metadata": {},
   "outputs": [
    {
     "name": "stdout",
     "output_type": "stream",
     "text": [
      "(99856, 17)\n",
      "\n",
      "<class 'pandas.core.frame.DataFrame'>\n",
      "Int64Index: 99856 entries, 34 to 198747\n",
      "Data columns (total 17 columns):\n",
      " #   Column                                  Non-Null Count  Dtype  \n",
      "---  ------                                  --------------  -----  \n",
      " 0   covid_days                              99856 non-null  int64  \n",
      " 1   reproduction_rate                       99856 non-null  float64\n",
      " 2   stringency_index                        99856 non-null  float64\n",
      " 3   population_density                      99856 non-null  float64\n",
      " 4   median_age                              99856 non-null  float64\n",
      " 5   aged_65_older                           99856 non-null  float64\n",
      " 6   gdp_per_capita                          99856 non-null  float64\n",
      " 7   cardiovasc_death_rate                   99856 non-null  float64\n",
      " 8   diabetes_prevalence                     99856 non-null  float64\n",
      " 9   life_expectancy                         99856 non-null  float64\n",
      " 10  human_development_index                 99856 non-null  float64\n",
      " 11  total_cases_per_100K                    99856 non-null  float64\n",
      " 12  new_cases_per_100K                      99856 non-null  float64\n",
      " 13  total_vaccinations_per_100K             99856 non-null  float64\n",
      " 14  people_fully_vaccinated_per_100K        99856 non-null  float64\n",
      " 15  daily_vaccinations_per_100K             99856 non-null  float64\n",
      " 16  daily_people_fully_vaccinated_per_100K  99856 non-null  float64\n",
      "dtypes: float64(16), int64(1)\n",
      "memory usage: 13.7 MB\n"
     ]
    }
   ],
   "source": [
    "# Create a new DataFrame with the engineered columns for the model. \n",
    "cols_drop_phase1 = ['location', 'total_cases', 'new_cases', 'total_vaccinations', \n",
    "                   'people_fully_vaccinated', 'daily_vaccinations', 'daily_people_fully_vaccinated', 'population']\n",
    "phase1_cases_df = cases_mill_countries_df.drop(columns=cols_drop_phase1, axis=1)\n",
    "print(phase1_cases_df.shape)\n",
    "print()\n",
    "phase1_cases_df.info()"
   ]
  },
  {
   "cell_type": "code",
   "execution_count": null,
   "id": "036c136d",
   "metadata": {},
   "outputs": [],
   "source": [
    "phase1_cases_df.columns"
   ]
  },
  {
   "cell_type": "code",
   "execution_count": 31,
   "id": "80e14dc0",
   "metadata": {},
   "outputs": [
    {
     "data": {
      "image/png": "[encoded data removed]",
      "text/plain": [
       "<Figure size 720x576 with 2 Axes>"
      ]
     },
     "metadata": {
      "needs_background": "light"
     },
     "output_type": "display_data"
    }
   ],
   "source": [
    "# Visualize the data for collinearity \n",
    "# Generate a mask for upper traingle\n",
    "mask = np.triu(np.ones_like(phase1_cases_df.corr(), dtype=bool))\n",
    "plt.figure(figsize=(10, 8))\n",
    "sns.heatmap(phase1_cases_df.corr(), annot=True, mask=mask, cmap='coolwarm')\n",
    "plt.title('Multi-Collinearity Heatmap - 16 Features')\n",
    "plt.show()"
   ]
  },
  {
   "cell_type": "markdown",
   "id": "af75f458",
   "metadata": {},
   "source": [
    "- If high multicollinearity exists for the control variables but not the experimental variables, then you can interpret the experimental variables without problems.\n",
    "- Multicollinearity affects the coefficients and p-values, but it does not influence the predictions, precision of the predictions, and the goodness-of-fit statistics. If your primary goal is to make predictions, and you don’t need to understand the role of each independent variable, you don’t need to reduce severe multicollinearity.\n",
    "- If must resolve multicollinearity, here are some solutions: \n",
    "    1. Remove some of the highly correlated independent variables.\n",
    "    2. Perform an analysis designed for highly correlated variables, such as principal components analysis or partial least squares regression."
   ]
  },
  {
   "cell_type": "markdown",
   "id": "2810f6f5",
   "metadata": {},
   "source": [
    "- Variables such as **total_vaccinations_per_100K** & **people_fully_vaccinated_per_100K**, **life_expectancy** & **human_development_index**, **median_age** & **human_development_index**, **median_age** & **aged_65_older**, and **median_age** & **life_expectancy** are having a very strong positive correlation.\n",
    "- To a lesser degree, variables such as **aged_65_older** & **human_development_index**, **gdp_per_capita** & **human_development_index**, and **aged_65_older**, & **life_expectancy** are also having a strong positive correlation. \n",
    "- **Generally speaking, a Pearson correlation coefficient value greater than 0.7 indicates the presence of multi-collinearity.**"
   ]
  },
  {
   "cell_type": "markdown",
   "id": "9db42f0a",
   "metadata": {},
   "source": [
    "Consider dropping one of the following corelated columns: **total_vaccinations_per_100K, people_fully_vaccinated_per_100K**. "
   ]
  },
  {
   "cell_type": "markdown",
   "id": "ecd049ac",
   "metadata": {},
   "source": [
    "Consider dropping one of the following corelated columns: **life_expectancy, human_development_index**. "
   ]
  },
  {
   "cell_type": "markdown",
   "id": "40f7c9e1",
   "metadata": {},
   "source": [
    "Consider dropping one of the following corelated columns: **median_age, aged_65_older**. "
   ]
  },
  {
   "cell_type": "markdown",
   "id": "d2001d7b",
   "metadata": {},
   "source": [
    "   "
   ]
  },
  {
   "cell_type": "markdown",
   "id": "3752e8b6",
   "metadata": {},
   "source": [
    "### STEP 1: Applying ML model on 17 Features"
   ]
  },
  {
   "cell_type": "code",
   "execution_count": 32,
   "id": "073f44b9",
   "metadata": {},
   "outputs": [],
   "source": [
    "# Define Target variable\n",
    "y = phase1_cases_df.new_cases_per_100K\n",
    "# Define features \n",
    "X = phase1_cases_df.drop([\"new_cases_per_100K\"], axis=1)"
   ]
  },
  {
   "cell_type": "code",
   "execution_count": 33,
   "id": "da9342ac",
   "metadata": {},
   "outputs": [
    {
     "data": {
      "text/html": [
       "<div>\n",
       "<style scoped>\n",
       "    .dataframe tbody tr th:only-of-type {\n",
       "        vertical-align: middle;\n",
       "    }\n",
       "\n",
       "    .dataframe tbody tr th {\n",
       "        vertical-align: top;\n",
       "    }\n",
       "\n",
       "    .dataframe thead th {\n",
       "        text-align: right;\n",
       "    }\n",
       "</style>\n",
       "<table border=\"1\" class=\"dataframe\">\n",
       "  <thead>\n",
       "    <tr style=\"text-align: right;\">\n",
       "      <th></th>\n",
       "      <th>covid_days</th>\n",
       "      <th>reproduction_rate</th>\n",
       "      <th>stringency_index</th>\n",
       "      <th>population_density</th>\n",
       "      <th>median_age</th>\n",
       "      <th>aged_65_older</th>\n",
       "      <th>gdp_per_capita</th>\n",
       "      <th>cardiovasc_death_rate</th>\n",
       "      <th>diabetes_prevalence</th>\n",
       "      <th>life_expectancy</th>\n",
       "      <th>human_development_index</th>\n",
       "      <th>total_cases_per_100K</th>\n",
       "      <th>total_vaccinations_per_100K</th>\n",
       "      <th>people_fully_vaccinated_per_100K</th>\n",
       "      <th>daily_vaccinations_per_100K</th>\n",
       "      <th>daily_people_fully_vaccinated_per_100K</th>\n",
       "    </tr>\n",
       "  </thead>\n",
       "  <tbody>\n",
       "    <tr>\n",
       "      <th>count</th>\n",
       "      <td>99856.000000</td>\n",
       "      <td>99856.000000</td>\n",
       "      <td>99856.000000</td>\n",
       "      <td>99856.000000</td>\n",
       "      <td>99856.000000</td>\n",
       "      <td>99856.000000</td>\n",
       "      <td>99856.000000</td>\n",
       "      <td>99856.000000</td>\n",
       "      <td>99856.000000</td>\n",
       "      <td>99856.000000</td>\n",
       "      <td>99856.000000</td>\n",
       "      <td>99856.000000</td>\n",
       "      <td>99856.000000</td>\n",
       "      <td>99856.000000</td>\n",
       "      <td>99856.000000</td>\n",
       "      <td>99856.000000</td>\n",
       "    </tr>\n",
       "    <tr>\n",
       "      <th>mean</th>\n",
       "      <td>441.474684</td>\n",
       "      <td>1.008028</td>\n",
       "      <td>54.819652</td>\n",
       "      <td>202.876759</td>\n",
       "      <td>30.594998</td>\n",
       "      <td>8.984831</td>\n",
       "      <td>18818.183709</td>\n",
       "      <td>259.332345</td>\n",
       "      <td>7.297077</td>\n",
       "      <td>72.677470</td>\n",
       "      <td>0.724299</td>\n",
       "      <td>3015.599002</td>\n",
       "      <td>24451.818419</td>\n",
       "      <td>9825.939553</td>\n",
       "      <td>2467.820411</td>\n",
       "      <td>738.613575</td>\n",
       "    </tr>\n",
       "    <tr>\n",
       "      <th>std</th>\n",
       "      <td>210.038228</td>\n",
       "      <td>0.357605</td>\n",
       "      <td>21.415210</td>\n",
       "      <td>711.345766</td>\n",
       "      <td>9.389906</td>\n",
       "      <td>6.497550</td>\n",
       "      <td>19377.210064</td>\n",
       "      <td>121.985397</td>\n",
       "      <td>3.724317</td>\n",
       "      <td>7.687053</td>\n",
       "      <td>0.156740</td>\n",
       "      <td>5337.477175</td>\n",
       "      <td>51685.157853</td>\n",
       "      <td>21449.939494</td>\n",
       "      <td>15999.340326</td>\n",
       "      <td>5888.022715</td>\n",
       "    </tr>\n",
       "    <tr>\n",
       "      <th>min</th>\n",
       "      <td>22.000000</td>\n",
       "      <td>-0.030000</td>\n",
       "      <td>0.000000</td>\n",
       "      <td>1.980000</td>\n",
       "      <td>15.100000</td>\n",
       "      <td>1.144000</td>\n",
       "      <td>661.240000</td>\n",
       "      <td>79.370000</td>\n",
       "      <td>0.990000</td>\n",
       "      <td>53.280000</td>\n",
       "      <td>0.394000</td>\n",
       "      <td>0.008100</td>\n",
       "      <td>0.000000</td>\n",
       "      <td>0.000000</td>\n",
       "      <td>0.000000</td>\n",
       "      <td>0.000000</td>\n",
       "    </tr>\n",
       "    <tr>\n",
       "      <th>25%</th>\n",
       "      <td>261.000000</td>\n",
       "      <td>0.820000</td>\n",
       "      <td>42.130000</td>\n",
       "      <td>35.608000</td>\n",
       "      <td>21.500000</td>\n",
       "      <td>3.244000</td>\n",
       "      <td>3689.251000</td>\n",
       "      <td>156.139000</td>\n",
       "      <td>4.820000</td>\n",
       "      <td>66.600000</td>\n",
       "      <td>0.584000</td>\n",
       "      <td>86.101175</td>\n",
       "      <td>0.000000</td>\n",
       "      <td>0.000000</td>\n",
       "      <td>0.000000</td>\n",
       "      <td>0.000000</td>\n",
       "    </tr>\n",
       "    <tr>\n",
       "      <th>50%</th>\n",
       "      <td>433.000000</td>\n",
       "      <td>1.000000</td>\n",
       "      <td>55.560000</td>\n",
       "      <td>80.080000</td>\n",
       "      <td>29.700000</td>\n",
       "      <td>6.378000</td>\n",
       "      <td>12294.876000</td>\n",
       "      <td>245.465000</td>\n",
       "      <td>6.820000</td>\n",
       "      <td>74.480000</td>\n",
       "      <td>0.750000</td>\n",
       "      <td>519.389600</td>\n",
       "      <td>0.000000</td>\n",
       "      <td>0.000000</td>\n",
       "      <td>0.000000</td>\n",
       "      <td>0.000000</td>\n",
       "    </tr>\n",
       "    <tr>\n",
       "      <th>75%</th>\n",
       "      <td>621.000000</td>\n",
       "      <td>1.180000</td>\n",
       "      <td>71.300000</td>\n",
       "      <td>145.725000</td>\n",
       "      <td>39.600000</td>\n",
       "      <td>14.799000</td>\n",
       "      <td>27216.445000</td>\n",
       "      <td>329.635000</td>\n",
       "      <td>8.520000</td>\n",
       "      <td>77.970000</td>\n",
       "      <td>0.852000</td>\n",
       "      <td>3883.896600</td>\n",
       "      <td>10410.000000</td>\n",
       "      <td>1980.000000</td>\n",
       "      <td>112.509983</td>\n",
       "      <td>13.257681</td>\n",
       "    </tr>\n",
       "    <tr>\n",
       "      <th>max</th>\n",
       "      <td>817.000000</td>\n",
       "      <td>5.820000</td>\n",
       "      <td>100.000000</td>\n",
       "      <td>7915.731000</td>\n",
       "      <td>48.200000</td>\n",
       "      <td>27.049000</td>\n",
       "      <td>116935.600000</td>\n",
       "      <td>724.417000</td>\n",
       "      <td>22.020000</td>\n",
       "      <td>84.630000</td>\n",
       "      <td>0.957000</td>\n",
       "      <td>52395.953300</td>\n",
       "      <td>263560.000000</td>\n",
       "      <td>95130.000000</td>\n",
       "      <td>242017.647136</td>\n",
       "      <td>95132.099293</td>\n",
       "    </tr>\n",
       "  </tbody>\n",
       "</table>\n",
       "</div>"
      ],
      "text/plain": [
       "         covid_days  reproduction_rate  stringency_index  population_density  \\\n",
       "count  99856.000000       99856.000000      99856.000000        99856.000000   \n",
       "mean     441.474684           1.008028         54.819652          202.876759   \n",
       "std      210.038228           0.357605         21.415210          711.345766   \n",
       "min       22.000000          -0.030000          0.000000            1.980000   \n",
       "25%      261.000000           0.820000         42.130000           35.608000   \n",
       "50%      433.000000           1.000000         55.560000           80.080000   \n",
       "75%      621.000000           1.180000         71.300000          145.725000   \n",
       "max      817.000000           5.820000        100.000000         7915.731000   \n",
       "\n",
       "         median_age  aged_65_older  gdp_per_capita  cardiovasc_death_rate  \\\n",
       "count  99856.000000   99856.000000    99856.000000           99856.000000   \n",
       "mean      30.594998       8.984831    18818.183709             259.332345   \n",
       "std        9.389906       6.497550    19377.210064             121.985397   \n",
       "min       15.100000       1.144000      661.240000              79.370000   \n",
       "25%       21.500000       3.244000     3689.251000             156.139000   \n",
       "50%       29.700000       6.378000    12294.876000             245.465000   \n",
       "75%       39.600000      14.799000    27216.445000             329.635000   \n",
       "max       48.200000      27.049000   116935.600000             724.417000   \n",
       "\n",
       "       diabetes_prevalence  life_expectancy  human_development_index  \\\n",
       "count         99856.000000     99856.000000             99856.000000   \n",
       "mean              7.297077        72.677470                 0.724299   \n",
       "std               3.724317         7.687053                 0.156740   \n",
       "min               0.990000        53.280000                 0.394000   \n",
       "25%               4.820000        66.600000                 0.584000   \n",
       "50%               6.820000        74.480000                 0.750000   \n",
       "75%               8.520000        77.970000                 0.852000   \n",
       "max              22.020000        84.630000                 0.957000   \n",
       "\n",
       "       total_cases_per_100K  total_vaccinations_per_100K  \\\n",
       "count          99856.000000                 99856.000000   \n",
       "mean            3015.599002                 24451.818419   \n",
       "std             5337.477175                 51685.157853   \n",
       "min                0.008100                     0.000000   \n",
       "25%               86.101175                     0.000000   \n",
       "50%              519.389600                     0.000000   \n",
       "75%             3883.896600                 10410.000000   \n",
       "max            52395.953300                263560.000000   \n",
       "\n",
       "       people_fully_vaccinated_per_100K  daily_vaccinations_per_100K  \\\n",
       "count                      99856.000000                 99856.000000   \n",
       "mean                        9825.939553                  2467.820411   \n",
       "std                        21449.939494                 15999.340326   \n",
       "min                            0.000000                     0.000000   \n",
       "25%                            0.000000                     0.000000   \n",
       "50%                            0.000000                     0.000000   \n",
       "75%                         1980.000000                   112.509983   \n",
       "max                        95130.000000                242017.647136   \n",
       "\n",
       "       daily_people_fully_vaccinated_per_100K  \n",
       "count                            99856.000000  \n",
       "mean                               738.613575  \n",
       "std                               5888.022715  \n",
       "min                                  0.000000  \n",
       "25%                                  0.000000  \n",
       "50%                                  0.000000  \n",
       "75%                                 13.257681  \n",
       "max                              95132.099293  "
      ]
     },
     "execution_count": 33,
     "metadata": {},
     "output_type": "execute_result"
    }
   ],
   "source": [
    "# Show statistical description of features\n",
    "X.describe()"
   ]
  },
  {
   "cell_type": "markdown",
   "id": "5b5ad04b",
   "metadata": {},
   "source": [
    "Standardize numerical variables using Scikit-Learn's StandardScaler class. <br>\n",
    "We must split our data into the training and testing sets prior to standardization to not incorporate the testing values into the scale."
   ]
  },
  {
   "cell_type": "code",
   "execution_count": 34,
   "id": "8e3219b1",
   "metadata": {},
   "outputs": [],
   "source": [
    "# Split the data into training and testing datasets.\n",
    "X_train, X_test, y_train, y_test = train_test_split(X, y, random_state=78)"
   ]
  },
  {
   "cell_type": "code",
   "execution_count": 35,
   "id": "d5e6b80a",
   "metadata": {},
   "outputs": [
    {
     "name": "stdout",
     "output_type": "stream",
     "text": [
      "X_train shape: (74892, 16)\n",
      "X_test shape: (24964, 16)\n",
      "y_train shape: (74892,)\n",
      "y_test shape: (24964,)\n"
     ]
    }
   ],
   "source": [
    "# Check the shapes of training/ testing datasets.\n",
    "print(f\"X_train shape: {X_train.shape}\")\n",
    "print(f\"X_test shape: {X_test.shape}\")\n",
    "print(f\"y_train shape: {y_train.shape}\")\n",
    "print(f\"y_test shape: {y_test.shape}\")"
   ]
  },
  {
   "cell_type": "code",
   "execution_count": null,
   "id": "46473f0c",
   "metadata": {},
   "outputs": [],
   "source": [
    "# y_train=np.reshape(y_train, (-1,1))\n",
    "# y_test=np.reshape(y_test, (-1,1))"
   ]
  },
  {
   "cell_type": "code",
   "execution_count": 36,
   "id": "1a6badb6",
   "metadata": {},
   "outputs": [],
   "source": [
    "# Create a StandardScaler instance \n",
    "scaler = StandardScaler()\n",
    "\n",
    "# Fit the StandardScaler\n",
    "X_scaler = scaler.fit(X_train)\n",
    "\n",
    "# Scale the data\n",
    "X_train_scaled = X_scaler.transform(X_train)\n",
    "X_test_scaled = X_scaler.transform(X_test)"
   ]
  },
  {
   "cell_type": "code",
   "execution_count": 37,
   "id": "2035507f",
   "metadata": {
    "scrolled": true
   },
   "outputs": [
    {
     "data": {
      "text/plain": [
       "array([[-0.57105937,  0.36975004, -0.3105722 , ..., -0.45781868,\n",
       "        -0.15382825, -0.12536871],\n",
       "       [-0.51874383,  0.00620229,  1.50538332, ..., -0.45781868,\n",
       "        -0.15382825, -0.12536871],\n",
       "       [-0.77080959,  0.28585441, -0.00799077, ..., -0.45781868,\n",
       "        -0.15382825, -0.12536871],\n",
       "       ...,\n",
       "       [ 0.05672705,  0.00620229,  0.29459066, ..., -0.45781868,\n",
       "        -0.15382825, -0.12536871],\n",
       "       [-0.26667808,  0.17399356,  0.3380167 , ..., -0.45781868,\n",
       "        -0.15382825, -0.12536871],\n",
       "       [ 1.69277648, -2.51066674, -1.43497974, ..., -0.45781868,\n",
       "        -0.15382825, -0.12536871]])"
      ]
     },
     "execution_count": 37,
     "metadata": {},
     "output_type": "execute_result"
    }
   ],
   "source": [
    "# Check the scaled data\n",
    "X_train_scaled"
   ]
  },
  {
   "cell_type": "markdown",
   "id": "1be37572",
   "metadata": {},
   "source": [
    "## Random Forest Regression "
   ]
  },
  {
   "cell_type": "code",
   "execution_count": 38,
   "id": "8d012fce",
   "metadata": {},
   "outputs": [],
   "source": [
    "# Create a Random Forest Regression instance and train it\n",
    "rf_model = RandomForestRegressor(n_estimators=128, random_state=78)\n",
    "\n",
    "# Train the model\n",
    "rf_model = rf_model.fit(X_train_scaled, y_train)"
   ]
  },
  {
   "cell_type": "code",
   "execution_count": 39,
   "id": "4328e8aa",
   "metadata": {},
   "outputs": [
    {
     "data": {
      "text/plain": [
       "array([5.91905000e+01, 4.51921875e-02, 1.14014609e+00, ...,\n",
       "       0.00000000e+00, 1.49372734e+00, 0.00000000e+00])"
      ]
     },
     "execution_count": 39,
     "metadata": {},
     "output_type": "execute_result"
    }
   ],
   "source": [
    "# Evaluate the model.\n",
    "y_pred = rf_model.predict(X_test_scaled)\n",
    "y_pred"
   ]
  },
  {
   "cell_type": "markdown",
   "id": "691b3d31",
   "metadata": {},
   "source": [
    "A good MSE score will be close to zero, while a good R2 score will be close to 1. <br>\n",
    "R2 score is the default scoring for many of the Sklearn models"
   ]
  },
  {
   "cell_type": "code",
   "execution_count": 40,
   "id": "fcf3cb91",
   "metadata": {},
   "outputs": [
    {
     "name": "stdout",
     "output_type": "stream",
     "text": [
      "R-squared (R2 ):  0.769\n",
      "mean absolute error (MAE):  4.781\n",
      "mean squared error (MSE):  570.731\n",
      "Root Mean Squared Error (RMSE):  23.890\n"
     ]
    }
   ],
   "source": [
    "# Score the model on testing data with R2, MAE, MSE, RMSE.\n",
    "r2 = r2_score(y_test, y_pred)\n",
    "mae = metrics.mean_absolute_error(y_test, y_pred)\n",
    "mse = mean_squared_error(y_test, y_pred)\n",
    "RMSE = metrics.mean_squared_error(y_test, y_pred, squared=False)\n",
    "\n",
    "print(f\"R-squared (R2 ): {r2: .3f}\")\n",
    "print(f\"mean absolute error (MAE): {mae: .3f}\")\n",
    "print(f\"mean squared error (MSE): {mse: .3f}\")\n",
    "print(f\"Root Mean Squared Error (RMSE): {RMSE: .3f}\")"
   ]
  },
  {
   "cell_type": "code",
   "execution_count": 41,
   "id": "ad887d36",
   "metadata": {},
   "outputs": [
    {
     "name": "stdout",
     "output_type": "stream",
     "text": [
      "Mean Absolute Percentage Error (MAPE): 3796922429656361.0\n",
      "Explained Variance Score: 0.768697174888701\n",
      "Max Error: 1591.4733960937513\n",
      "Mean Squared Log Error: 0.3545146492037214\n",
      "Median Absolute Error: 0.438366015625001\n"
     ]
    }
   ],
   "source": [
    "# Check other metrics of the RF model on testing data\n",
    "print('Mean Absolute Percentage Error (MAPE):', metrics.mean_absolute_percentage_error(y_test, y_pred))\n",
    "print('Explained Variance Score:', metrics.explained_variance_score(y_test, y_pred))\n",
    "print('Max Error:', metrics.max_error(y_test, y_pred))\n",
    "print('Mean Squared Log Error:', metrics.mean_squared_log_error(y_test, y_pred))\n",
    "print('Median Absolute Error:', metrics.median_absolute_error(y_test, y_pred))\n"
   ]
  },
  {
   "cell_type": "code",
   "execution_count": 43,
   "id": "f5738cc8",
   "metadata": {},
   "outputs": [
    {
     "name": "stdout",
     "output_type": "stream",
     "text": [
      "The training score for the Random Forest Regression model on 16 features is  0.97.\n"
     ]
    }
   ],
   "source": [
    "# Check the training score\n",
    "training_score = rf_model.score(X_train_scaled, y_train)\n",
    "print(f\"The training score for the Random Forest Regression model on 16 features is {training_score: .2f}.\")"
   ]
  },
  {
   "cell_type": "code",
   "execution_count": 44,
   "id": "d7c39462",
   "metadata": {},
   "outputs": [
    {
     "name": "stdout",
     "output_type": "stream",
     "text": [
      "The testing score for the Random Forest Regression model on 16 features is  0.77.\n"
     ]
    }
   ],
   "source": [
    "# Check the testing score\n",
    "testing_score = rf_model.score(X_test_scaled, y_test)\n",
    "print(f\"The testing score for the Random Forest Regression model on 16 features is {testing_score: .2f}.\")"
   ]
  },
  {
   "cell_type": "code",
   "execution_count": 45,
   "id": "e60b03c1",
   "metadata": {},
   "outputs": [
    {
     "data": {
      "text/plain": [
       "0.9204301315692255"
      ]
     },
     "execution_count": 45,
     "metadata": {},
     "output_type": "execute_result"
    }
   ],
   "source": [
    "# # Overall Score for the model\n",
    "# X_scaled = X_scaler.transform(X)\n",
    "# rf_model.score(X_scaled, y) "
   ]
  },
  {
   "cell_type": "code",
   "execution_count": 46,
   "id": "a65a1907",
   "metadata": {},
   "outputs": [
    {
     "data": {
      "image/png": "[encoded data removed]",
      "text/plain": [
       "<Figure size 720x576 with 1 Axes>"
      ]
     },
     "metadata": {
      "needs_background": "light"
     },
     "output_type": "display_data"
    }
   ],
   "source": [
    "# Visualize the predication against the actual values\n",
    "plt.figure(figsize=(10, 8))\n",
    "plt.scatter(X_test['covid_days'].values, y_test, facecolors='none', edgecolors='r')\n",
    "plt.scatter(X_test['covid_days'].values, y_pred, facecolors='none', edgecolors='green')\n",
    "\n",
    "plt.title('Random Forest Regression on 16 Features')\n",
    "plt.xlabel('COVID Days')\n",
    "plt.ylabel('New Cases /100,000')\n",
    "plt.show() "
   ]
  },
  {
   "cell_type": "markdown",
   "id": "b7297002",
   "metadata": {},
   "source": [
    " Because we can't easily plot our line in 3D space, we can use a residual plot to check our predictions. <br>\n",
    " Residuals are the difference between the true values of y and the predicted values of y. <br>\n",
    " We want our predictions to be close to zero on the y-axis in this plot. <br>"
   ]
  },
  {
   "cell_type": "code",
   "execution_count": 47,
   "id": "bcdb823d",
   "metadata": {},
   "outputs": [
    {
     "data": {
      "image/png": "[encoded data removed]",
      "text/plain": [
       "<Figure size 720x576 with 1 Axes>"
      ]
     },
     "metadata": {
      "needs_background": "light"
     },
     "output_type": "display_data"
    }
   ],
   "source": [
    "# Plot the predictions and their residuals for the training and testing data - SCALED.\n",
    "\n",
    "plt.figure(figsize=(10, 8))\n",
    "plt.scatter(rf_model.predict(X_train_scaled), rf_model.predict(X_train_scaled) - y_train, c=\"blue\", label=\"Training Data\")\n",
    "plt.scatter(rf_model.predict(X_test_scaled), rf_model.predict(X_test_scaled) - y_test, c=\"orange\", label=\"Testing Data\")\n",
    "plt.legend()\n",
    "plt.hlines(y=0, xmin=y.min(), xmax=y.max())\n",
    "plt.title(\"Residual Plot of RFR on 16 Features - Scaled\")\n",
    "plt.show()"
   ]
  },
  {
   "cell_type": "code",
   "execution_count": 49,
   "id": "93f4562b",
   "metadata": {},
   "outputs": [
    {
     "data": {
      "image/png": "[encoded data removed]",
      "text/plain": [
       "<Figure size 720x576 with 1 Axes>"
      ]
     },
     "metadata": {
      "needs_background": "light"
     },
     "output_type": "display_data"
    }
   ],
   "source": [
    "# Scale the whole data\n",
    "X_scaled = X_scaler.transform(X)\n",
    "pred_16_scaled = rf_model.predict(X_scaled)\n",
    "# Plot predictions from scaled data and their Residuals\n",
    "plt.figure(figsize=(10, 8))\n",
    "plt.scatter(pred_16_scaled, pred_16_scaled - y, facecolors='none', edgecolors='green')\n",
    "plt.hlines(y=0, xmin=pred_16_scaled.min(), xmax=pred_16_scaled.max())\n",
    "plt.title(\"Residual Plot of RFR on 16 Features - Whole Data - Scaled\")\n",
    "plt.show()"
   ]
  },
  {
   "cell_type": "code",
   "execution_count": 57,
   "id": "325ef794",
   "metadata": {},
   "outputs": [
    {
     "data": {
      "text/plain": [
       "Text(0.5, 1.0, 'Residuals of Whole Scaled Data Predictions - 16 Features')"
      ]
     },
     "execution_count": 57,
     "metadata": {},
     "output_type": "execute_result"
    },
    {
     "data": {
      "image/png": "[encoded data removed]",
      "text/plain": [
       "<Figure size 720x576 with 1 Axes>"
      ]
     },
     "metadata": {
      "needs_background": "light"
     },
     "output_type": "display_data"
    }
   ],
   "source": [
    "# Plot the residuals only of WHOLE SCALED data\n",
    "plt.figure(figsize=(10, 8))\n",
    "plt.plot(pred_16_scaled - y, marker='o', c='green', linestyle='')\n",
    "plt.title('Residuals of Whole Scaled Data Predictions - 16 Features')"
   ]
  },
  {
   "cell_type": "code",
   "execution_count": 56,
   "id": "9fc7d298",
   "metadata": {},
   "outputs": [
    {
     "data": {
      "text/plain": [
       "Text(0.5, 1.0, 'Residuals of Testing Data Predictions - 16 Features')"
      ]
     },
     "execution_count": 56,
     "metadata": {},
     "output_type": "execute_result"
    },
    {
     "data": {
      "image/png": "[encoded data removed]",
      "text/plain": [
       "<Figure size 720x576 with 1 Axes>"
      ]
     },
     "metadata": {
      "needs_background": "light"
     },
     "output_type": "display_data"
    }
   ],
   "source": [
    "# Plot the residuals only of TESTING data\n",
    "plt.figure(figsize=(10, 8))\n",
    "plt.plot(y_pred - y_test, marker='o', c='orange', linestyle='')\n",
    "plt.title('Residuals of Testing Data Predictions - 16 Features')"
   ]
  },
  {
   "cell_type": "code",
   "execution_count": 50,
   "id": "3209db0e",
   "metadata": {},
   "outputs": [
    {
     "data": {
      "image/png": "[encoded data removed]",
      "text/plain": [
       "<Figure size 720x576 with 1 Axes>"
      ]
     },
     "metadata": {
      "needs_background": "light"
     },
     "output_type": "display_data"
    }
   ],
   "source": [
    "# Plot the predictions and their residuals for the training and testing data -NOT SCALED. \n",
    "\n",
    "plt.figure(figsize=(10, 8))\n",
    "plt.scatter(rf_model.predict(X_train), rf_model.predict(X_train) - y_train, facecolors='none', edgecolors='blue', label=\"Training Data\")\n",
    "plt.scatter(rf_model.predict(X_test), rf_model.predict(X_test) - y_test, facecolors='none', edgecolors=\"orange\", label=\"Testing Data\")\n",
    "plt.legend()\n",
    "plt.hlines(y=0, xmin=y.min(), xmax=y.max())\n",
    "plt.title(\"Residual Plot of RFR on 16 Features - Not Scaled\")\n",
    "plt.show()"
   ]
  },
  {
   "cell_type": "code",
   "execution_count": 52,
   "id": "e71b3129",
   "metadata": {},
   "outputs": [
    {
     "data": {
      "image/png": "[encoded data removed]",
      "text/plain": [
       "<Figure size 720x576 with 1 Axes>"
      ]
     },
     "metadata": {
      "needs_background": "light"
     },
     "output_type": "display_data"
    }
   ],
   "source": [
    "pred_16_notscaled = rf_model.predict(X)\n",
    "# Plot predictions and their Residuals\n",
    "plt.figure(figsize=(10, 8))\n",
    "plt.scatter(pred_16_notscaled, pred_16_notscaled - y, facecolors='none', edgecolors='green')\n",
    "plt.hlines(y=0, xmin=pred_16_notscaled.min(), xmax=pred_16_notscaled.max())\n",
    "plt.title(\"Residual Plot of RFR on 16 Features - Whole Data - Not Scaled\")\n",
    "plt.show()"
   ]
  },
  {
   "cell_type": "code",
   "execution_count": 60,
   "id": "6803a620",
   "metadata": {},
   "outputs": [],
   "source": [
    "# plt.figure(figsize=(10, 8))\n",
    "# plt.plot(y_pred - y_test, marker='o',linestyle='')\n",
    "# plt.yscale('log')\n",
    "# plt.xscale('log')\n",
    "# plt.xlabel('True Values', fontsize=15)\n",
    "# plt.ylabel('Predictions', fontsize=15)\n",
    "\n",
    "# plt.show()"
   ]
  },
  {
   "cell_type": "code",
   "execution_count": 61,
   "id": "21956a6d",
   "metadata": {},
   "outputs": [
    {
     "data": {
      "text/html": [
       "<div>\n",
       "<style scoped>\n",
       "    .dataframe tbody tr th:only-of-type {\n",
       "        vertical-align: middle;\n",
       "    }\n",
       "\n",
       "    .dataframe tbody tr th {\n",
       "        vertical-align: top;\n",
       "    }\n",
       "\n",
       "    .dataframe thead th {\n",
       "        text-align: right;\n",
       "    }\n",
       "</style>\n",
       "<table border=\"1\" class=\"dataframe\">\n",
       "  <thead>\n",
       "    <tr style=\"text-align: right;\">\n",
       "      <th></th>\n",
       "      <th>Actual</th>\n",
       "      <th>Predicted</th>\n",
       "      <th>Error</th>\n",
       "    </tr>\n",
       "    <tr>\n",
       "      <th>id_row</th>\n",
       "      <th></th>\n",
       "      <th></th>\n",
       "      <th></th>\n",
       "    </tr>\n",
       "  </thead>\n",
       "  <tbody>\n",
       "    <tr>\n",
       "      <th>34</th>\n",
       "      <td>0.0201</td>\n",
       "      <td>79.055559</td>\n",
       "      <td>79.035459</td>\n",
       "    </tr>\n",
       "    <tr>\n",
       "      <th>35</th>\n",
       "      <td>0.0000</td>\n",
       "      <td>79.055559</td>\n",
       "      <td>79.055559</td>\n",
       "    </tr>\n",
       "    <tr>\n",
       "      <th>36</th>\n",
       "      <td>0.1305</td>\n",
       "      <td>77.241816</td>\n",
       "      <td>77.111316</td>\n",
       "    </tr>\n",
       "    <tr>\n",
       "      <th>37</th>\n",
       "      <td>0.0653</td>\n",
       "      <td>79.752551</td>\n",
       "      <td>79.687251</td>\n",
       "    </tr>\n",
       "    <tr>\n",
       "      <th>38</th>\n",
       "      <td>0.1079</td>\n",
       "      <td>81.557167</td>\n",
       "      <td>81.449267</td>\n",
       "    </tr>\n",
       "  </tbody>\n",
       "</table>\n",
       "</div>"
      ],
      "text/plain": [
       "        Actual  Predicted      Error\n",
       "id_row                              \n",
       "34      0.0201  79.055559  79.035459\n",
       "35      0.0000  79.055559  79.055559\n",
       "36      0.1305  77.241816  77.111316\n",
       "37      0.0653  79.752551  79.687251\n",
       "38      0.1079  81.557167  81.449267"
      ]
     },
     "execution_count": 61,
     "metadata": {},
     "output_type": "execute_result"
    }
   ],
   "source": [
    "# Create a new focused DataFrame of results of regression with their errors: UNSCALED DATA\n",
    "predictions = rf_model.predict(X)\n",
    "regression_notscaled_df = pd.DataFrame({\"Actual\": y, \"Predicted\": predictions, \"Error\": predictions - y})[[\"Actual\", \"Predicted\", \"Error\"]]\n",
    "regression_notscaled_df.head(5)"
   ]
  },
  {
   "cell_type": "code",
   "execution_count": 67,
   "id": "ba6a07c6",
   "metadata": {},
   "outputs": [
    {
     "data": {
      "text/html": [
       "<div>\n",
       "<style scoped>\n",
       "    .dataframe tbody tr th:only-of-type {\n",
       "        vertical-align: middle;\n",
       "    }\n",
       "\n",
       "    .dataframe tbody tr th {\n",
       "        vertical-align: top;\n",
       "    }\n",
       "\n",
       "    .dataframe thead th {\n",
       "        text-align: right;\n",
       "    }\n",
       "</style>\n",
       "<table border=\"1\" class=\"dataframe\">\n",
       "  <thead>\n",
       "    <tr style=\"text-align: right;\">\n",
       "      <th></th>\n",
       "      <th>Actual</th>\n",
       "      <th>Predicted</th>\n",
       "      <th>Residuals</th>\n",
       "    </tr>\n",
       "    <tr>\n",
       "      <th>id_row</th>\n",
       "      <th></th>\n",
       "      <th></th>\n",
       "      <th></th>\n",
       "    </tr>\n",
       "  </thead>\n",
       "  <tbody>\n",
       "    <tr>\n",
       "      <th>34</th>\n",
       "      <td>0.0201</td>\n",
       "      <td>0.033024</td>\n",
       "      <td>0.012924</td>\n",
       "    </tr>\n",
       "    <tr>\n",
       "      <th>35</th>\n",
       "      <td>0.0000</td>\n",
       "      <td>0.028859</td>\n",
       "      <td>0.028859</td>\n",
       "    </tr>\n",
       "    <tr>\n",
       "      <th>36</th>\n",
       "      <td>0.1305</td>\n",
       "      <td>0.102876</td>\n",
       "      <td>-0.027624</td>\n",
       "    </tr>\n",
       "    <tr>\n",
       "      <th>37</th>\n",
       "      <td>0.0653</td>\n",
       "      <td>0.073266</td>\n",
       "      <td>0.007966</td>\n",
       "    </tr>\n",
       "    <tr>\n",
       "      <th>38</th>\n",
       "      <td>0.1079</td>\n",
       "      <td>0.094169</td>\n",
       "      <td>-0.013731</td>\n",
       "    </tr>\n",
       "  </tbody>\n",
       "</table>\n",
       "</div>"
      ],
      "text/plain": [
       "        Actual  Predicted  Residuals\n",
       "id_row                              \n",
       "34      0.0201   0.033024   0.012924\n",
       "35      0.0000   0.028859   0.028859\n",
       "36      0.1305   0.102876  -0.027624\n",
       "37      0.0653   0.073266   0.007966\n",
       "38      0.1079   0.094169  -0.013731"
      ]
     },
     "execution_count": 67,
     "metadata": {},
     "output_type": "execute_result"
    }
   ],
   "source": [
    "# Scale the whole data SCALED\n",
    "# X_scaled = X_scaler.transform(X)\n",
    "# pred_16_scaled = rf_model.predict(X_scaled)\n",
    "regression_scaled_df = pd.DataFrame({\"Actual\": y, \"Predicted\": pred_16_scaled, \"Residuals\": pred_16_scaled - y})[[\"Actual\", \"Predicted\", \"Residuals\"]]\n",
    "regression_scaled_df.head(5)"
   ]
  },
  {
   "cell_type": "code",
   "execution_count": 68,
   "id": "38e7d68d",
   "metadata": {},
   "outputs": [
    {
     "data": {
      "text/html": [
       "<div>\n",
       "<style scoped>\n",
       "    .dataframe tbody tr th:only-of-type {\n",
       "        vertical-align: middle;\n",
       "    }\n",
       "\n",
       "    .dataframe tbody tr th {\n",
       "        vertical-align: top;\n",
       "    }\n",
       "\n",
       "    .dataframe thead th {\n",
       "        text-align: right;\n",
       "    }\n",
       "</style>\n",
       "<table border=\"1\" class=\"dataframe\">\n",
       "  <thead>\n",
       "    <tr style=\"text-align: right;\">\n",
       "      <th></th>\n",
       "      <th>Actual</th>\n",
       "      <th>Predicted</th>\n",
       "      <th>Residuals</th>\n",
       "    </tr>\n",
       "    <tr>\n",
       "      <th>id_row</th>\n",
       "      <th></th>\n",
       "      <th></th>\n",
       "      <th></th>\n",
       "    </tr>\n",
       "  </thead>\n",
       "  <tbody>\n",
       "    <tr>\n",
       "      <th>193146</th>\n",
       "      <td>0.0348</td>\n",
       "      <td>0.035400</td>\n",
       "      <td>0.000600</td>\n",
       "    </tr>\n",
       "    <tr>\n",
       "      <th>141613</th>\n",
       "      <td>26.0401</td>\n",
       "      <td>25.235798</td>\n",
       "      <td>-0.804302</td>\n",
       "    </tr>\n",
       "    <tr>\n",
       "      <th>32322</th>\n",
       "      <td>86.7187</td>\n",
       "      <td>86.965155</td>\n",
       "      <td>0.246455</td>\n",
       "    </tr>\n",
       "    <tr>\n",
       "      <th>51480</th>\n",
       "      <td>1.7497</td>\n",
       "      <td>10.967864</td>\n",
       "      <td>9.218164</td>\n",
       "    </tr>\n",
       "    <tr>\n",
       "      <th>37033</th>\n",
       "      <td>0.0016</td>\n",
       "      <td>0.001837</td>\n",
       "      <td>0.000237</td>\n",
       "    </tr>\n",
       "    <tr>\n",
       "      <th>88424</th>\n",
       "      <td>7.2651</td>\n",
       "      <td>7.348864</td>\n",
       "      <td>0.083764</td>\n",
       "    </tr>\n",
       "    <tr>\n",
       "      <th>75372</th>\n",
       "      <td>0.0000</td>\n",
       "      <td>0.077227</td>\n",
       "      <td>0.077227</td>\n",
       "    </tr>\n",
       "    <tr>\n",
       "      <th>84992</th>\n",
       "      <td>9.1969</td>\n",
       "      <td>9.531775</td>\n",
       "      <td>0.334875</td>\n",
       "    </tr>\n",
       "    <tr>\n",
       "      <th>162429</th>\n",
       "      <td>0.7216</td>\n",
       "      <td>0.657409</td>\n",
       "      <td>-0.064191</td>\n",
       "    </tr>\n",
       "    <tr>\n",
       "      <th>91055</th>\n",
       "      <td>1.3764</td>\n",
       "      <td>1.266239</td>\n",
       "      <td>-0.110161</td>\n",
       "    </tr>\n",
       "  </tbody>\n",
       "</table>\n",
       "</div>"
      ],
      "text/plain": [
       "         Actual  Predicted  Residuals\n",
       "id_row                               \n",
       "193146   0.0348   0.035400   0.000600\n",
       "141613  26.0401  25.235798  -0.804302\n",
       "32322   86.7187  86.965155   0.246455\n",
       "51480    1.7497  10.967864   9.218164\n",
       "37033    0.0016   0.001837   0.000237\n",
       "88424    7.2651   7.348864   0.083764\n",
       "75372    0.0000   0.077227   0.077227\n",
       "84992    9.1969   9.531775   0.334875\n",
       "162429   0.7216   0.657409  -0.064191\n",
       "91055    1.3764   1.266239  -0.110161"
      ]
     },
     "execution_count": 68,
     "metadata": {},
     "output_type": "execute_result"
    }
   ],
   "source": [
    "# # Scale the whole data SCALED\n",
    "# X_scaled = X_scaler.transform(X)\n",
    "# pred_16_scaled = rf_model.predict(X_scaled)\n",
    "# regression_scaled_df = pd.DataFrame({\"Actual\": y, \"Predicted\": pred_16_scaled, \"Residuals\": pred_16_scaled - y})[[\"Actual\", \"Predicted\", \"Residuals\"]]\n",
    "regression_scaled_df.sample(10)"
   ]
  },
  {
   "cell_type": "code",
   "execution_count": 69,
   "id": "e414403b",
   "metadata": {},
   "outputs": [
    {
     "name": "stdout",
     "output_type": "stream",
     "text": [
      "(99856, 18)\n"
     ]
    },
    {
     "data": {
      "text/html": [
       "<div>\n",
       "<style scoped>\n",
       "    .dataframe tbody tr th:only-of-type {\n",
       "        vertical-align: middle;\n",
       "    }\n",
       "\n",
       "    .dataframe tbody tr th {\n",
       "        vertical-align: top;\n",
       "    }\n",
       "\n",
       "    .dataframe thead th {\n",
       "        text-align: right;\n",
       "    }\n",
       "</style>\n",
       "<table border=\"1\" class=\"dataframe\">\n",
       "  <thead>\n",
       "    <tr style=\"text-align: right;\">\n",
       "      <th></th>\n",
       "      <th>covid_days</th>\n",
       "      <th>reproduction_rate</th>\n",
       "      <th>stringency_index</th>\n",
       "      <th>population_density</th>\n",
       "      <th>median_age</th>\n",
       "      <th>aged_65_older</th>\n",
       "      <th>gdp_per_capita</th>\n",
       "      <th>cardiovasc_death_rate</th>\n",
       "      <th>diabetes_prevalence</th>\n",
       "      <th>life_expectancy</th>\n",
       "      <th>human_development_index</th>\n",
       "      <th>total_cases_per_100K</th>\n",
       "      <th>new_cases_per_100K</th>\n",
       "      <th>total_vaccinations_per_100K</th>\n",
       "      <th>people_fully_vaccinated_per_100K</th>\n",
       "      <th>daily_vaccinations_per_100K</th>\n",
       "      <th>daily_people_fully_vaccinated_per_100K</th>\n",
       "      <th>new_cases_per_100K_predictions</th>\n",
       "    </tr>\n",
       "    <tr>\n",
       "      <th>id_row</th>\n",
       "      <th></th>\n",
       "      <th></th>\n",
       "      <th></th>\n",
       "      <th></th>\n",
       "      <th></th>\n",
       "      <th></th>\n",
       "      <th></th>\n",
       "      <th></th>\n",
       "      <th></th>\n",
       "      <th></th>\n",
       "      <th></th>\n",
       "      <th></th>\n",
       "      <th></th>\n",
       "      <th></th>\n",
       "      <th></th>\n",
       "      <th></th>\n",
       "      <th></th>\n",
       "      <th></th>\n",
       "    </tr>\n",
       "  </thead>\n",
       "  <tbody>\n",
       "    <tr>\n",
       "      <th>34</th>\n",
       "      <td>88</td>\n",
       "      <td>1.52</td>\n",
       "      <td>67.59</td>\n",
       "      <td>54.422</td>\n",
       "      <td>18.6</td>\n",
       "      <td>2.581</td>\n",
       "      <td>1803.987</td>\n",
       "      <td>597.029</td>\n",
       "      <td>9.59</td>\n",
       "      <td>64.83</td>\n",
       "      <td>0.511</td>\n",
       "      <td>0.2862</td>\n",
       "      <td>0.0201</td>\n",
       "      <td>0.0</td>\n",
       "      <td>0.0</td>\n",
       "      <td>0.0</td>\n",
       "      <td>0.0</td>\n",
       "      <td>0.033024</td>\n",
       "    </tr>\n",
       "    <tr>\n",
       "      <th>35</th>\n",
       "      <td>89</td>\n",
       "      <td>1.52</td>\n",
       "      <td>67.59</td>\n",
       "      <td>54.422</td>\n",
       "      <td>18.6</td>\n",
       "      <td>2.581</td>\n",
       "      <td>1803.987</td>\n",
       "      <td>597.029</td>\n",
       "      <td>9.59</td>\n",
       "      <td>64.83</td>\n",
       "      <td>0.511</td>\n",
       "      <td>0.2862</td>\n",
       "      <td>0.0000</td>\n",
       "      <td>0.0</td>\n",
       "      <td>0.0</td>\n",
       "      <td>0.0</td>\n",
       "      <td>0.0</td>\n",
       "      <td>0.028859</td>\n",
       "    </tr>\n",
       "    <tr>\n",
       "      <th>36</th>\n",
       "      <td>90</td>\n",
       "      <td>1.53</td>\n",
       "      <td>67.59</td>\n",
       "      <td>54.422</td>\n",
       "      <td>18.6</td>\n",
       "      <td>2.581</td>\n",
       "      <td>1803.987</td>\n",
       "      <td>597.029</td>\n",
       "      <td>9.59</td>\n",
       "      <td>64.83</td>\n",
       "      <td>0.511</td>\n",
       "      <td>0.4167</td>\n",
       "      <td>0.1305</td>\n",
       "      <td>0.0</td>\n",
       "      <td>0.0</td>\n",
       "      <td>0.0</td>\n",
       "      <td>0.0</td>\n",
       "      <td>0.102876</td>\n",
       "    </tr>\n",
       "    <tr>\n",
       "      <th>37</th>\n",
       "      <td>91</td>\n",
       "      <td>1.52</td>\n",
       "      <td>67.59</td>\n",
       "      <td>54.422</td>\n",
       "      <td>18.6</td>\n",
       "      <td>2.581</td>\n",
       "      <td>1803.987</td>\n",
       "      <td>597.029</td>\n",
       "      <td>9.59</td>\n",
       "      <td>64.83</td>\n",
       "      <td>0.511</td>\n",
       "      <td>0.4820</td>\n",
       "      <td>0.0653</td>\n",
       "      <td>0.0</td>\n",
       "      <td>0.0</td>\n",
       "      <td>0.0</td>\n",
       "      <td>0.0</td>\n",
       "      <td>0.073266</td>\n",
       "    </tr>\n",
       "    <tr>\n",
       "      <th>38</th>\n",
       "      <td>92</td>\n",
       "      <td>1.52</td>\n",
       "      <td>67.59</td>\n",
       "      <td>54.422</td>\n",
       "      <td>18.6</td>\n",
       "      <td>2.581</td>\n",
       "      <td>1803.987</td>\n",
       "      <td>597.029</td>\n",
       "      <td>9.59</td>\n",
       "      <td>64.83</td>\n",
       "      <td>0.511</td>\n",
       "      <td>0.5899</td>\n",
       "      <td>0.1079</td>\n",
       "      <td>0.0</td>\n",
       "      <td>0.0</td>\n",
       "      <td>0.0</td>\n",
       "      <td>0.0</td>\n",
       "      <td>0.094169</td>\n",
       "    </tr>\n",
       "  </tbody>\n",
       "</table>\n",
       "</div>"
      ],
      "text/plain": [
       "        covid_days  reproduction_rate  stringency_index  population_density  \\\n",
       "id_row                                                                        \n",
       "34              88               1.52             67.59              54.422   \n",
       "35              89               1.52             67.59              54.422   \n",
       "36              90               1.53             67.59              54.422   \n",
       "37              91               1.52             67.59              54.422   \n",
       "38              92               1.52             67.59              54.422   \n",
       "\n",
       "        median_age  aged_65_older  gdp_per_capita  cardiovasc_death_rate  \\\n",
       "id_row                                                                     \n",
       "34            18.6          2.581        1803.987                597.029   \n",
       "35            18.6          2.581        1803.987                597.029   \n",
       "36            18.6          2.581        1803.987                597.029   \n",
       "37            18.6          2.581        1803.987                597.029   \n",
       "38            18.6          2.581        1803.987                597.029   \n",
       "\n",
       "        diabetes_prevalence  life_expectancy  human_development_index  \\\n",
       "id_row                                                                  \n",
       "34                     9.59            64.83                    0.511   \n",
       "35                     9.59            64.83                    0.511   \n",
       "36                     9.59            64.83                    0.511   \n",
       "37                     9.59            64.83                    0.511   \n",
       "38                     9.59            64.83                    0.511   \n",
       "\n",
       "        total_cases_per_100K  new_cases_per_100K  total_vaccinations_per_100K  \\\n",
       "id_row                                                                          \n",
       "34                    0.2862              0.0201                          0.0   \n",
       "35                    0.2862              0.0000                          0.0   \n",
       "36                    0.4167              0.1305                          0.0   \n",
       "37                    0.4820              0.0653                          0.0   \n",
       "38                    0.5899              0.1079                          0.0   \n",
       "\n",
       "        people_fully_vaccinated_per_100K  daily_vaccinations_per_100K  \\\n",
       "id_row                                                                  \n",
       "34                                   0.0                          0.0   \n",
       "35                                   0.0                          0.0   \n",
       "36                                   0.0                          0.0   \n",
       "37                                   0.0                          0.0   \n",
       "38                                   0.0                          0.0   \n",
       "\n",
       "        daily_people_fully_vaccinated_per_100K  new_cases_per_100K_predictions  \n",
       "id_row                                                                          \n",
       "34                                         0.0                        0.033024  \n",
       "35                                         0.0                        0.028859  \n",
       "36                                         0.0                        0.102876  \n",
       "37                                         0.0                        0.073266  \n",
       "38                                         0.0                        0.094169  "
      ]
     },
     "execution_count": 69,
     "metadata": {},
     "output_type": "execute_result"
    }
   ],
   "source": [
    "# Add a new column \"predictions\" to the PHASE 1 Dataframe that holds the actual new cases. \n",
    "pred_cases_16_features_df = phase1_cases_df.copy()\n",
    "pred_cases_16_features_df['new_cases_per_100K_predictions'] = pred_16_scaled\n",
    "print(pred_cases_16_features_df.shape)\n",
    "pred_cases_16_features_df.head()"
   ]
  },
  {
   "cell_type": "code",
   "execution_count": 71,
   "id": "73314aa6",
   "metadata": {},
   "outputs": [
    {
     "name": "stdout",
     "output_type": "stream",
     "text": [
      "(99856, 19)\n"
     ]
    },
    {
     "data": {
      "text/html": [
       "<div>\n",
       "<style scoped>\n",
       "    .dataframe tbody tr th:only-of-type {\n",
       "        vertical-align: middle;\n",
       "    }\n",
       "\n",
       "    .dataframe tbody tr th {\n",
       "        vertical-align: top;\n",
       "    }\n",
       "\n",
       "    .dataframe thead th {\n",
       "        text-align: right;\n",
       "    }\n",
       "</style>\n",
       "<table border=\"1\" class=\"dataframe\">\n",
       "  <thead>\n",
       "    <tr style=\"text-align: right;\">\n",
       "      <th></th>\n",
       "      <th>covid_days</th>\n",
       "      <th>reproduction_rate</th>\n",
       "      <th>stringency_index</th>\n",
       "      <th>population_density</th>\n",
       "      <th>median_age</th>\n",
       "      <th>aged_65_older</th>\n",
       "      <th>gdp_per_capita</th>\n",
       "      <th>cardiovasc_death_rate</th>\n",
       "      <th>diabetes_prevalence</th>\n",
       "      <th>life_expectancy</th>\n",
       "      <th>human_development_index</th>\n",
       "      <th>total_cases_per_100K</th>\n",
       "      <th>new_cases_per_100K</th>\n",
       "      <th>total_vaccinations_per_100K</th>\n",
       "      <th>people_fully_vaccinated_per_100K</th>\n",
       "      <th>daily_vaccinations_per_100K</th>\n",
       "      <th>daily_people_fully_vaccinated_per_100K</th>\n",
       "      <th>new_cases_per_100K_predictions</th>\n",
       "      <th>Residuals</th>\n",
       "    </tr>\n",
       "    <tr>\n",
       "      <th>id_row</th>\n",
       "      <th></th>\n",
       "      <th></th>\n",
       "      <th></th>\n",
       "      <th></th>\n",
       "      <th></th>\n",
       "      <th></th>\n",
       "      <th></th>\n",
       "      <th></th>\n",
       "      <th></th>\n",
       "      <th></th>\n",
       "      <th></th>\n",
       "      <th></th>\n",
       "      <th></th>\n",
       "      <th></th>\n",
       "      <th></th>\n",
       "      <th></th>\n",
       "      <th></th>\n",
       "      <th></th>\n",
       "      <th></th>\n",
       "    </tr>\n",
       "  </thead>\n",
       "  <tbody>\n",
       "    <tr>\n",
       "      <th>198724</th>\n",
       "      <td>794</td>\n",
       "      <td>1.21</td>\n",
       "      <td>53.70</td>\n",
       "      <td>42.729</td>\n",
       "      <td>19.6</td>\n",
       "      <td>2.822</td>\n",
       "      <td>1899.775</td>\n",
       "      <td>307.846</td>\n",
       "      <td>1.82</td>\n",
       "      <td>61.49</td>\n",
       "      <td>0.571</td>\n",
       "      <td>1583.7284</td>\n",
       "      <td>1.8553</td>\n",
       "      <td>52580.0</td>\n",
       "      <td>22600.0</td>\n",
       "      <td>36.601759</td>\n",
       "      <td>11.469523</td>\n",
       "      <td>2.652108</td>\n",
       "      <td>0.796808</td>\n",
       "    </tr>\n",
       "    <tr>\n",
       "      <th>198215</th>\n",
       "      <td>285</td>\n",
       "      <td>1.01</td>\n",
       "      <td>71.30</td>\n",
       "      <td>42.729</td>\n",
       "      <td>19.6</td>\n",
       "      <td>2.822</td>\n",
       "      <td>1899.775</td>\n",
       "      <td>307.846</td>\n",
       "      <td>1.82</td>\n",
       "      <td>61.49</td>\n",
       "      <td>0.571</td>\n",
       "      <td>53.1468</td>\n",
       "      <td>0.0663</td>\n",
       "      <td>0.0</td>\n",
       "      <td>0.0</td>\n",
       "      <td>0.000000</td>\n",
       "      <td>0.000000</td>\n",
       "      <td>0.063952</td>\n",
       "      <td>-0.002348</td>\n",
       "    </tr>\n",
       "    <tr>\n",
       "      <th>136369</th>\n",
       "      <td>96</td>\n",
       "      <td>1.48</td>\n",
       "      <td>85.19</td>\n",
       "      <td>14.980</td>\n",
       "      <td>30.7</td>\n",
       "      <td>2.355</td>\n",
       "      <td>37960.709</td>\n",
       "      <td>266.342</td>\n",
       "      <td>12.61</td>\n",
       "      <td>77.86</td>\n",
       "      <td>0.813</td>\n",
       "      <td>6.3369</td>\n",
       "      <td>0.6318</td>\n",
       "      <td>0.0</td>\n",
       "      <td>0.0</td>\n",
       "      <td>0.000000</td>\n",
       "      <td>0.000000</td>\n",
       "      <td>0.607346</td>\n",
       "      <td>-0.024454</td>\n",
       "    </tr>\n",
       "    <tr>\n",
       "      <th>62621</th>\n",
       "      <td>749</td>\n",
       "      <td>1.00</td>\n",
       "      <td>31.94</td>\n",
       "      <td>18.136</td>\n",
       "      <td>42.8</td>\n",
       "      <td>21.228</td>\n",
       "      <td>40585.721</td>\n",
       "      <td>153.507</td>\n",
       "      <td>5.76</td>\n",
       "      <td>81.91</td>\n",
       "      <td>0.938</td>\n",
       "      <td>7588.0607</td>\n",
       "      <td>165.1659</td>\n",
       "      <td>187580.0</td>\n",
       "      <td>73810.0</td>\n",
       "      <td>1166.614789</td>\n",
       "      <td>60.918891</td>\n",
       "      <td>161.006130</td>\n",
       "      <td>-4.159770</td>\n",
       "    </tr>\n",
       "    <tr>\n",
       "      <th>148589</th>\n",
       "      <td>776</td>\n",
       "      <td>1.09</td>\n",
       "      <td>40.28</td>\n",
       "      <td>8.823</td>\n",
       "      <td>39.6</td>\n",
       "      <td>14.178</td>\n",
       "      <td>24765.954</td>\n",
       "      <td>431.297</td>\n",
       "      <td>6.18</td>\n",
       "      <td>72.58</td>\n",
       "      <td>0.824</td>\n",
       "      <td>9778.4095</td>\n",
       "      <td>113.1771</td>\n",
       "      <td>108570.0</td>\n",
       "      <td>48880.0</td>\n",
       "      <td>197.956958</td>\n",
       "      <td>75.739475</td>\n",
       "      <td>116.982159</td>\n",
       "      <td>3.805059</td>\n",
       "    </tr>\n",
       "  </tbody>\n",
       "</table>\n",
       "</div>"
      ],
      "text/plain": [
       "        covid_days  reproduction_rate  stringency_index  population_density  \\\n",
       "id_row                                                                        \n",
       "198724         794               1.21             53.70              42.729   \n",
       "198215         285               1.01             71.30              42.729   \n",
       "136369          96               1.48             85.19              14.980   \n",
       "62621          749               1.00             31.94              18.136   \n",
       "148589         776               1.09             40.28               8.823   \n",
       "\n",
       "        median_age  aged_65_older  gdp_per_capita  cardiovasc_death_rate  \\\n",
       "id_row                                                                     \n",
       "198724        19.6          2.822        1899.775                307.846   \n",
       "198215        19.6          2.822        1899.775                307.846   \n",
       "136369        30.7          2.355       37960.709                266.342   \n",
       "62621         42.8         21.228       40585.721                153.507   \n",
       "148589        39.6         14.178       24765.954                431.297   \n",
       "\n",
       "        diabetes_prevalence  life_expectancy  human_development_index  \\\n",
       "id_row                                                                  \n",
       "198724                 1.82            61.49                    0.571   \n",
       "198215                 1.82            61.49                    0.571   \n",
       "136369                12.61            77.86                    0.813   \n",
       "62621                  5.76            81.91                    0.938   \n",
       "148589                 6.18            72.58                    0.824   \n",
       "\n",
       "        total_cases_per_100K  new_cases_per_100K  total_vaccinations_per_100K  \\\n",
       "id_row                                                                          \n",
       "198724             1583.7284              1.8553                      52580.0   \n",
       "198215               53.1468              0.0663                          0.0   \n",
       "136369                6.3369              0.6318                          0.0   \n",
       "62621              7588.0607            165.1659                     187580.0   \n",
       "148589             9778.4095            113.1771                     108570.0   \n",
       "\n",
       "        people_fully_vaccinated_per_100K  daily_vaccinations_per_100K  \\\n",
       "id_row                                                                  \n",
       "198724                           22600.0                    36.601759   \n",
       "198215                               0.0                     0.000000   \n",
       "136369                               0.0                     0.000000   \n",
       "62621                            73810.0                  1166.614789   \n",
       "148589                           48880.0                   197.956958   \n",
       "\n",
       "        daily_people_fully_vaccinated_per_100K  \\\n",
       "id_row                                           \n",
       "198724                               11.469523   \n",
       "198215                                0.000000   \n",
       "136369                                0.000000   \n",
       "62621                                60.918891   \n",
       "148589                               75.739475   \n",
       "\n",
       "        new_cases_per_100K_predictions  Residuals  \n",
       "id_row                                             \n",
       "198724                        2.652108   0.796808  \n",
       "198215                        0.063952  -0.002348  \n",
       "136369                        0.607346  -0.024454  \n",
       "62621                       161.006130  -4.159770  \n",
       "148589                      116.982159   3.805059  "
      ]
     },
     "execution_count": 71,
     "metadata": {},
     "output_type": "execute_result"
    }
   ],
   "source": [
    "# Add a new column \"residuals\" to the Dataframe that holds the actual new cases and predictions.\n",
    "pred_cases_16_features_df['Residuals'] = pred_cases_16_features_df['new_cases_per_100K_predictions'] - pred_cases_16_features_df['new_cases_per_100K']\n",
    "print(pred_cases_16_features_df.shape)\n",
    "pred_cases_16_features_df.sample(5)"
   ]
  },
  {
   "cell_type": "code",
   "execution_count": 72,
   "id": "18f61617",
   "metadata": {},
   "outputs": [],
   "source": [
    "# # Export the RFR predictions DataFrame to a csv file.\n",
    "# pred_cases_16_features_outpath = Path(\"./Resources/pred_cases_16_features_rfr.csv\")\n",
    "# pred_cases_16_features_df.to_csv(pred_cases_16_features_outpath, index=True)"
   ]
  },
  {
   "cell_type": "code",
   "execution_count": 73,
   "id": "1b5a7d91",
   "metadata": {},
   "outputs": [
    {
     "name": "stdout",
     "output_type": "stream",
     "text": [
      "(99856, 26)\n"
     ]
    },
    {
     "data": {
      "text/html": [
       "<div>\n",
       "<style scoped>\n",
       "    .dataframe tbody tr th:only-of-type {\n",
       "        vertical-align: middle;\n",
       "    }\n",
       "\n",
       "    .dataframe tbody tr th {\n",
       "        vertical-align: top;\n",
       "    }\n",
       "\n",
       "    .dataframe thead th {\n",
       "        text-align: right;\n",
       "    }\n",
       "</style>\n",
       "<table border=\"1\" class=\"dataframe\">\n",
       "  <thead>\n",
       "    <tr style=\"text-align: right;\">\n",
       "      <th></th>\n",
       "      <th>location</th>\n",
       "      <th>covid_days</th>\n",
       "      <th>total_cases</th>\n",
       "      <th>new_cases</th>\n",
       "      <th>reproduction_rate</th>\n",
       "      <th>total_vaccinations</th>\n",
       "      <th>people_fully_vaccinated</th>\n",
       "      <th>stringency_index</th>\n",
       "      <th>population</th>\n",
       "      <th>population_density</th>\n",
       "      <th>...</th>\n",
       "      <th>human_development_index</th>\n",
       "      <th>daily_vaccinations</th>\n",
       "      <th>daily_people_fully_vaccinated</th>\n",
       "      <th>total_cases_per_100K</th>\n",
       "      <th>new_cases_per_100K</th>\n",
       "      <th>total_vaccinations_per_100K</th>\n",
       "      <th>people_fully_vaccinated_per_100K</th>\n",
       "      <th>daily_vaccinations_per_100K</th>\n",
       "      <th>daily_people_fully_vaccinated_per_100K</th>\n",
       "      <th>new_cases_per_100K_predictions</th>\n",
       "    </tr>\n",
       "    <tr>\n",
       "      <th>id_row</th>\n",
       "      <th></th>\n",
       "      <th></th>\n",
       "      <th></th>\n",
       "      <th></th>\n",
       "      <th></th>\n",
       "      <th></th>\n",
       "      <th></th>\n",
       "      <th></th>\n",
       "      <th></th>\n",
       "      <th></th>\n",
       "      <th></th>\n",
       "      <th></th>\n",
       "      <th></th>\n",
       "      <th></th>\n",
       "      <th></th>\n",
       "      <th></th>\n",
       "      <th></th>\n",
       "      <th></th>\n",
       "      <th></th>\n",
       "      <th></th>\n",
       "      <th></th>\n",
       "    </tr>\n",
       "  </thead>\n",
       "  <tbody>\n",
       "    <tr>\n",
       "      <th>34</th>\n",
       "      <td>Afghanistan</td>\n",
       "      <td>88</td>\n",
       "      <td>114.0</td>\n",
       "      <td>8.0</td>\n",
       "      <td>1.52</td>\n",
       "      <td>0.0</td>\n",
       "      <td>0.0</td>\n",
       "      <td>67.59</td>\n",
       "      <td>39835428.0</td>\n",
       "      <td>54.422</td>\n",
       "      <td>...</td>\n",
       "      <td>0.511</td>\n",
       "      <td>0.0</td>\n",
       "      <td>0.0</td>\n",
       "      <td>0.2862</td>\n",
       "      <td>0.0201</td>\n",
       "      <td>0.0</td>\n",
       "      <td>0.0</td>\n",
       "      <td>0.0</td>\n",
       "      <td>0.0</td>\n",
       "      <td>0.033024</td>\n",
       "    </tr>\n",
       "    <tr>\n",
       "      <th>35</th>\n",
       "      <td>Afghanistan</td>\n",
       "      <td>89</td>\n",
       "      <td>114.0</td>\n",
       "      <td>0.0</td>\n",
       "      <td>1.52</td>\n",
       "      <td>0.0</td>\n",
       "      <td>0.0</td>\n",
       "      <td>67.59</td>\n",
       "      <td>39835428.0</td>\n",
       "      <td>54.422</td>\n",
       "      <td>...</td>\n",
       "      <td>0.511</td>\n",
       "      <td>0.0</td>\n",
       "      <td>0.0</td>\n",
       "      <td>0.2862</td>\n",
       "      <td>0.0000</td>\n",
       "      <td>0.0</td>\n",
       "      <td>0.0</td>\n",
       "      <td>0.0</td>\n",
       "      <td>0.0</td>\n",
       "      <td>0.028859</td>\n",
       "    </tr>\n",
       "    <tr>\n",
       "      <th>36</th>\n",
       "      <td>Afghanistan</td>\n",
       "      <td>90</td>\n",
       "      <td>166.0</td>\n",
       "      <td>52.0</td>\n",
       "      <td>1.53</td>\n",
       "      <td>0.0</td>\n",
       "      <td>0.0</td>\n",
       "      <td>67.59</td>\n",
       "      <td>39835428.0</td>\n",
       "      <td>54.422</td>\n",
       "      <td>...</td>\n",
       "      <td>0.511</td>\n",
       "      <td>0.0</td>\n",
       "      <td>0.0</td>\n",
       "      <td>0.4167</td>\n",
       "      <td>0.1305</td>\n",
       "      <td>0.0</td>\n",
       "      <td>0.0</td>\n",
       "      <td>0.0</td>\n",
       "      <td>0.0</td>\n",
       "      <td>0.102876</td>\n",
       "    </tr>\n",
       "    <tr>\n",
       "      <th>37</th>\n",
       "      <td>Afghanistan</td>\n",
       "      <td>91</td>\n",
       "      <td>192.0</td>\n",
       "      <td>26.0</td>\n",
       "      <td>1.52</td>\n",
       "      <td>0.0</td>\n",
       "      <td>0.0</td>\n",
       "      <td>67.59</td>\n",
       "      <td>39835428.0</td>\n",
       "      <td>54.422</td>\n",
       "      <td>...</td>\n",
       "      <td>0.511</td>\n",
       "      <td>0.0</td>\n",
       "      <td>0.0</td>\n",
       "      <td>0.4820</td>\n",
       "      <td>0.0653</td>\n",
       "      <td>0.0</td>\n",
       "      <td>0.0</td>\n",
       "      <td>0.0</td>\n",
       "      <td>0.0</td>\n",
       "      <td>0.073266</td>\n",
       "    </tr>\n",
       "    <tr>\n",
       "      <th>38</th>\n",
       "      <td>Afghanistan</td>\n",
       "      <td>92</td>\n",
       "      <td>235.0</td>\n",
       "      <td>43.0</td>\n",
       "      <td>1.52</td>\n",
       "      <td>0.0</td>\n",
       "      <td>0.0</td>\n",
       "      <td>67.59</td>\n",
       "      <td>39835428.0</td>\n",
       "      <td>54.422</td>\n",
       "      <td>...</td>\n",
       "      <td>0.511</td>\n",
       "      <td>0.0</td>\n",
       "      <td>0.0</td>\n",
       "      <td>0.5899</td>\n",
       "      <td>0.1079</td>\n",
       "      <td>0.0</td>\n",
       "      <td>0.0</td>\n",
       "      <td>0.0</td>\n",
       "      <td>0.0</td>\n",
       "      <td>0.094169</td>\n",
       "    </tr>\n",
       "  </tbody>\n",
       "</table>\n",
       "<p>5 rows × 26 columns</p>\n",
       "</div>"
      ],
      "text/plain": [
       "           location  covid_days  total_cases  new_cases  reproduction_rate  \\\n",
       "id_row                                                                       \n",
       "34      Afghanistan          88        114.0        8.0               1.52   \n",
       "35      Afghanistan          89        114.0        0.0               1.52   \n",
       "36      Afghanistan          90        166.0       52.0               1.53   \n",
       "37      Afghanistan          91        192.0       26.0               1.52   \n",
       "38      Afghanistan          92        235.0       43.0               1.52   \n",
       "\n",
       "        total_vaccinations  people_fully_vaccinated  stringency_index  \\\n",
       "id_row                                                                  \n",
       "34                     0.0                      0.0             67.59   \n",
       "35                     0.0                      0.0             67.59   \n",
       "36                     0.0                      0.0             67.59   \n",
       "37                     0.0                      0.0             67.59   \n",
       "38                     0.0                      0.0             67.59   \n",
       "\n",
       "        population  population_density  ...  human_development_index  \\\n",
       "id_row                                  ...                            \n",
       "34      39835428.0              54.422  ...                    0.511   \n",
       "35      39835428.0              54.422  ...                    0.511   \n",
       "36      39835428.0              54.422  ...                    0.511   \n",
       "37      39835428.0              54.422  ...                    0.511   \n",
       "38      39835428.0              54.422  ...                    0.511   \n",
       "\n",
       "        daily_vaccinations  daily_people_fully_vaccinated  \\\n",
       "id_row                                                      \n",
       "34                     0.0                            0.0   \n",
       "35                     0.0                            0.0   \n",
       "36                     0.0                            0.0   \n",
       "37                     0.0                            0.0   \n",
       "38                     0.0                            0.0   \n",
       "\n",
       "        total_cases_per_100K  new_cases_per_100K  total_vaccinations_per_100K  \\\n",
       "id_row                                                                          \n",
       "34                    0.2862              0.0201                          0.0   \n",
       "35                    0.2862              0.0000                          0.0   \n",
       "36                    0.4167              0.1305                          0.0   \n",
       "37                    0.4820              0.0653                          0.0   \n",
       "38                    0.5899              0.1079                          0.0   \n",
       "\n",
       "        people_fully_vaccinated_per_100K  daily_vaccinations_per_100K  \\\n",
       "id_row                                                                  \n",
       "34                                   0.0                          0.0   \n",
       "35                                   0.0                          0.0   \n",
       "36                                   0.0                          0.0   \n",
       "37                                   0.0                          0.0   \n",
       "38                                   0.0                          0.0   \n",
       "\n",
       "        daily_people_fully_vaccinated_per_100K  new_cases_per_100K_predictions  \n",
       "id_row                                                                          \n",
       "34                                         0.0                        0.033024  \n",
       "35                                         0.0                        0.028859  \n",
       "36                                         0.0                        0.102876  \n",
       "37                                         0.0                        0.073266  \n",
       "38                                         0.0                        0.094169  \n",
       "\n",
       "[5 rows x 26 columns]"
      ]
     },
     "execution_count": 73,
     "metadata": {},
     "output_type": "execute_result"
    }
   ],
   "source": [
    "# Add a new column \"predictions\" to the original Dataframe that holds all 25 columns of features, raw numbers, and location.  \n",
    "pred_cases_16_features_all_df = cases_mill_countries_df.copy()\n",
    "pred_cases_16_features_all_df['new_cases_per_100K_predictions'] = pred_16_scaled\n",
    "print(pred_cases_16_features_all_df.shape)\n",
    "pred_cases_16_features_all_df.head()"
   ]
  },
  {
   "cell_type": "code",
   "execution_count": 74,
   "id": "6139f77b",
   "metadata": {},
   "outputs": [
    {
     "name": "stdout",
     "output_type": "stream",
     "text": [
      "(99856, 27)\n"
     ]
    },
    {
     "data": {
      "text/html": [
       "<div>\n",
       "<style scoped>\n",
       "    .dataframe tbody tr th:only-of-type {\n",
       "        vertical-align: middle;\n",
       "    }\n",
       "\n",
       "    .dataframe tbody tr th {\n",
       "        vertical-align: top;\n",
       "    }\n",
       "\n",
       "    .dataframe thead th {\n",
       "        text-align: right;\n",
       "    }\n",
       "</style>\n",
       "<table border=\"1\" class=\"dataframe\">\n",
       "  <thead>\n",
       "    <tr style=\"text-align: right;\">\n",
       "      <th></th>\n",
       "      <th>location</th>\n",
       "      <th>covid_days</th>\n",
       "      <th>total_cases</th>\n",
       "      <th>new_cases</th>\n",
       "      <th>reproduction_rate</th>\n",
       "      <th>total_vaccinations</th>\n",
       "      <th>people_fully_vaccinated</th>\n",
       "      <th>stringency_index</th>\n",
       "      <th>population</th>\n",
       "      <th>population_density</th>\n",
       "      <th>...</th>\n",
       "      <th>daily_vaccinations</th>\n",
       "      <th>daily_people_fully_vaccinated</th>\n",
       "      <th>total_cases_per_100K</th>\n",
       "      <th>new_cases_per_100K</th>\n",
       "      <th>total_vaccinations_per_100K</th>\n",
       "      <th>people_fully_vaccinated_per_100K</th>\n",
       "      <th>daily_vaccinations_per_100K</th>\n",
       "      <th>daily_people_fully_vaccinated_per_100K</th>\n",
       "      <th>new_cases_per_100K_predictions</th>\n",
       "      <th>Residuals</th>\n",
       "    </tr>\n",
       "    <tr>\n",
       "      <th>id_row</th>\n",
       "      <th></th>\n",
       "      <th></th>\n",
       "      <th></th>\n",
       "      <th></th>\n",
       "      <th></th>\n",
       "      <th></th>\n",
       "      <th></th>\n",
       "      <th></th>\n",
       "      <th></th>\n",
       "      <th></th>\n",
       "      <th></th>\n",
       "      <th></th>\n",
       "      <th></th>\n",
       "      <th></th>\n",
       "      <th></th>\n",
       "      <th></th>\n",
       "      <th></th>\n",
       "      <th></th>\n",
       "      <th></th>\n",
       "      <th></th>\n",
       "      <th></th>\n",
       "    </tr>\n",
       "  </thead>\n",
       "  <tbody>\n",
       "    <tr>\n",
       "      <th>16544</th>\n",
       "      <td>Belarus</td>\n",
       "      <td>242</td>\n",
       "      <td>71687.0</td>\n",
       "      <td>164.0</td>\n",
       "      <td>1.10</td>\n",
       "      <td>0.0</td>\n",
       "      <td>0.0</td>\n",
       "      <td>31.48</td>\n",
       "      <td>9442867.0</td>\n",
       "      <td>46.858</td>\n",
       "      <td>...</td>\n",
       "      <td>0.0</td>\n",
       "      <td>0.0</td>\n",
       "      <td>759.1656</td>\n",
       "      <td>1.7368</td>\n",
       "      <td>0.0</td>\n",
       "      <td>0.0</td>\n",
       "      <td>0.000000</td>\n",
       "      <td>0.000000</td>\n",
       "      <td>1.710063</td>\n",
       "      <td>-0.026737</td>\n",
       "    </tr>\n",
       "    <tr>\n",
       "      <th>101650</th>\n",
       "      <td>Liberia</td>\n",
       "      <td>756</td>\n",
       "      <td>7243.0</td>\n",
       "      <td>0.0</td>\n",
       "      <td>0.42</td>\n",
       "      <td>0.0</td>\n",
       "      <td>0.0</td>\n",
       "      <td>48.15</td>\n",
       "      <td>5180208.0</td>\n",
       "      <td>49.127</td>\n",
       "      <td>...</td>\n",
       "      <td>0.0</td>\n",
       "      <td>0.0</td>\n",
       "      <td>139.8206</td>\n",
       "      <td>0.0000</td>\n",
       "      <td>0.0</td>\n",
       "      <td>0.0</td>\n",
       "      <td>0.000000</td>\n",
       "      <td>0.000000</td>\n",
       "      <td>0.026391</td>\n",
       "      <td>0.026391</td>\n",
       "    </tr>\n",
       "    <tr>\n",
       "      <th>73386</th>\n",
       "      <td>Guatemala</td>\n",
       "      <td>411</td>\n",
       "      <td>167383.0</td>\n",
       "      <td>104.0</td>\n",
       "      <td>0.98</td>\n",
       "      <td>0.0</td>\n",
       "      <td>0.0</td>\n",
       "      <td>43.06</td>\n",
       "      <td>18249868.0</td>\n",
       "      <td>157.834</td>\n",
       "      <td>...</td>\n",
       "      <td>0.0</td>\n",
       "      <td>0.0</td>\n",
       "      <td>917.1738</td>\n",
       "      <td>0.5699</td>\n",
       "      <td>0.0</td>\n",
       "      <td>0.0</td>\n",
       "      <td>0.000000</td>\n",
       "      <td>0.000000</td>\n",
       "      <td>1.128134</td>\n",
       "      <td>0.558234</td>\n",
       "    </tr>\n",
       "    <tr>\n",
       "      <th>78999</th>\n",
       "      <td>Honduras</td>\n",
       "      <td>405</td>\n",
       "      <td>156606.0</td>\n",
       "      <td>871.0</td>\n",
       "      <td>1.03</td>\n",
       "      <td>0.0</td>\n",
       "      <td>0.0</td>\n",
       "      <td>87.96</td>\n",
       "      <td>10062994.0</td>\n",
       "      <td>82.805</td>\n",
       "      <td>...</td>\n",
       "      <td>0.0</td>\n",
       "      <td>0.0</td>\n",
       "      <td>1556.2565</td>\n",
       "      <td>8.6555</td>\n",
       "      <td>0.0</td>\n",
       "      <td>0.0</td>\n",
       "      <td>0.000000</td>\n",
       "      <td>0.000000</td>\n",
       "      <td>8.288834</td>\n",
       "      <td>-0.366666</td>\n",
       "    </tr>\n",
       "    <tr>\n",
       "      <th>27823</th>\n",
       "      <td>Bulgaria</td>\n",
       "      <td>540</td>\n",
       "      <td>421401.0</td>\n",
       "      <td>62.0</td>\n",
       "      <td>0.76</td>\n",
       "      <td>1709510.0</td>\n",
       "      <td>776172.0</td>\n",
       "      <td>42.59</td>\n",
       "      <td>6896655.0</td>\n",
       "      <td>65.180</td>\n",
       "      <td>...</td>\n",
       "      <td>14212.0</td>\n",
       "      <td>8449.0</td>\n",
       "      <td>6110.2230</td>\n",
       "      <td>0.8990</td>\n",
       "      <td>24790.0</td>\n",
       "      <td>11250.0</td>\n",
       "      <td>206.070914</td>\n",
       "      <td>122.508665</td>\n",
       "      <td>1.099302</td>\n",
       "      <td>0.200302</td>\n",
       "    </tr>\n",
       "  </tbody>\n",
       "</table>\n",
       "<p>5 rows × 27 columns</p>\n",
       "</div>"
      ],
      "text/plain": [
       "         location  covid_days  total_cases  new_cases  reproduction_rate  \\\n",
       "id_row                                                                     \n",
       "16544     Belarus         242      71687.0      164.0               1.10   \n",
       "101650    Liberia         756       7243.0        0.0               0.42   \n",
       "73386   Guatemala         411     167383.0      104.0               0.98   \n",
       "78999    Honduras         405     156606.0      871.0               1.03   \n",
       "27823    Bulgaria         540     421401.0       62.0               0.76   \n",
       "\n",
       "        total_vaccinations  people_fully_vaccinated  stringency_index  \\\n",
       "id_row                                                                  \n",
       "16544                  0.0                      0.0             31.48   \n",
       "101650                 0.0                      0.0             48.15   \n",
       "73386                  0.0                      0.0             43.06   \n",
       "78999                  0.0                      0.0             87.96   \n",
       "27823            1709510.0                 776172.0             42.59   \n",
       "\n",
       "        population  population_density  ...  daily_vaccinations  \\\n",
       "id_row                                  ...                       \n",
       "16544    9442867.0              46.858  ...                 0.0   \n",
       "101650   5180208.0              49.127  ...                 0.0   \n",
       "73386   18249868.0             157.834  ...                 0.0   \n",
       "78999   10062994.0              82.805  ...                 0.0   \n",
       "27823    6896655.0              65.180  ...             14212.0   \n",
       "\n",
       "        daily_people_fully_vaccinated  total_cases_per_100K  \\\n",
       "id_row                                                        \n",
       "16544                             0.0              759.1656   \n",
       "101650                            0.0              139.8206   \n",
       "73386                             0.0              917.1738   \n",
       "78999                             0.0             1556.2565   \n",
       "27823                          8449.0             6110.2230   \n",
       "\n",
       "        new_cases_per_100K  total_vaccinations_per_100K  \\\n",
       "id_row                                                    \n",
       "16544               1.7368                          0.0   \n",
       "101650              0.0000                          0.0   \n",
       "73386               0.5699                          0.0   \n",
       "78999               8.6555                          0.0   \n",
       "27823               0.8990                      24790.0   \n",
       "\n",
       "        people_fully_vaccinated_per_100K  daily_vaccinations_per_100K  \\\n",
       "id_row                                                                  \n",
       "16544                                0.0                     0.000000   \n",
       "101650                               0.0                     0.000000   \n",
       "73386                                0.0                     0.000000   \n",
       "78999                                0.0                     0.000000   \n",
       "27823                            11250.0                   206.070914   \n",
       "\n",
       "        daily_people_fully_vaccinated_per_100K  \\\n",
       "id_row                                           \n",
       "16544                                 0.000000   \n",
       "101650                                0.000000   \n",
       "73386                                 0.000000   \n",
       "78999                                 0.000000   \n",
       "27823                               122.508665   \n",
       "\n",
       "        new_cases_per_100K_predictions  Residuals  \n",
       "id_row                                             \n",
       "16544                         1.710063  -0.026737  \n",
       "101650                        0.026391   0.026391  \n",
       "73386                         1.128134   0.558234  \n",
       "78999                         8.288834  -0.366666  \n",
       "27823                         1.099302   0.200302  \n",
       "\n",
       "[5 rows x 27 columns]"
      ]
     },
     "execution_count": 74,
     "metadata": {},
     "output_type": "execute_result"
    }
   ],
   "source": [
    "# Add a new column \"residuals\" to the Dataframe that holds the actual new cases and predictions and original columns\n",
    "pred_cases_16_features_all_df['Residuals'] = pred_cases_16_features_all_df['new_cases_per_100K_predictions'] - pred_cases_16_features_all_df['new_cases_per_100K']\n",
    "print(pred_cases_16_features_all_df.shape)\n",
    "pred_cases_16_features_all_df.sample(5)"
   ]
  },
  {
   "cell_type": "code",
   "execution_count": 75,
   "id": "c4c262b8",
   "metadata": {},
   "outputs": [],
   "source": [
    "# # Export the RFR predictions DataFrame to a csv file containing all columns of features, raw numbers, and location. \n",
    "# pred_cases_16_features_all_outpath = Path(\"./Resources/pred_cases_16_features_all_rfr.csv\")\n",
    "# pred_cases_16_features_all_df.to_csv(pred_cases_16_features_all_outpath, index=True)"
   ]
  },
  {
   "cell_type": "code",
   "execution_count": null,
   "id": "5dba934f",
   "metadata": {},
   "outputs": [],
   "source": []
  },
  {
   "cell_type": "markdown",
   "id": "d445503e",
   "metadata": {},
   "source": [
    "### Analyzing Feature Importance - 17 Features"
   ]
  },
  {
   "cell_type": "code",
   "execution_count": 76,
   "id": "54ed17f7",
   "metadata": {},
   "outputs": [
    {
     "data": {
      "text/plain": [
       "[(0.45230385252175914, 'total_cases_per_100K'),\n",
       " (0.1372335192178836, 'covid_days'),\n",
       " (0.10278321736793328, 'reproduction_rate'),\n",
       " (0.06517118398040679, 'total_vaccinations_per_100K'),\n",
       " (0.035340443586750064, 'people_fully_vaccinated_per_100K'),\n",
       " (0.02782838748550517, 'cardiovasc_death_rate'),\n",
       " (0.026232267180476648, 'daily_vaccinations_per_100K'),\n",
       " (0.02337351072976959, 'daily_people_fully_vaccinated_per_100K'),\n",
       " (0.02192899936374291, 'gdp_per_capita'),\n",
       " (0.02006354153011021, 'life_expectancy'),\n",
       " (0.017586380198962193, 'stringency_index'),\n",
       " (0.017354142989448904, 'population_density'),\n",
       " (0.016600565528457015, 'diabetes_prevalence'),\n",
       " (0.015524701411670653, 'median_age'),\n",
       " (0.011348316497841219, 'aged_65_older'),\n",
       " (0.009326970409282584, 'human_development_index')]"
      ]
     },
     "execution_count": 76,
     "metadata": {},
     "output_type": "execute_result"
    }
   ],
   "source": [
    "# List the features sorted in descending order by feature importance\n",
    "feature_importances = rf_model.feature_importances_\n",
    "sorted(zip(rf_model.feature_importances_, X.columns), reverse=True)"
   ]
  },
  {
   "cell_type": "code",
   "execution_count": 77,
   "id": "c1717b2a",
   "metadata": {},
   "outputs": [
    {
     "data": {
      "image/png": "[encoded data removed]",
      "text/plain": [
       "<Figure size 864x864 with 1 Axes>"
      ]
     },
     "metadata": {
      "needs_background": "light"
     },
     "output_type": "display_data"
    }
   ],
   "source": [
    "# Visualize Features importance \n",
    "features = sorted(zip(X.columns, rf_model.feature_importances_), key = lambda x: x[1])\n",
    "cols = [f[0] for f in features]\n",
    "width = [f[1] for f in features]\n",
    "\n",
    "fig, ax = plt.subplots()\n",
    "\n",
    "fig.set_size_inches(12, 12)\n",
    "plt.margins(y=0.001)\n",
    "\n",
    "ax.barh(y=cols, width=width)\n",
    "\n",
    "plt.show()"
   ]
  },
  {
   "cell_type": "code",
   "execution_count": 78,
   "id": "6f12ca57",
   "metadata": {},
   "outputs": [
    {
     "data": {
      "text/plain": [
       "SelectFromModel(estimator=RandomForestRegressor(n_estimators=128,\n",
       "                                                random_state=78))"
      ]
     },
     "execution_count": 78,
     "metadata": {},
     "output_type": "execute_result"
    }
   ],
   "source": [
    "# Reduce features for prediction based on importance and retrain the model\n",
    "from sklearn.feature_selection import SelectFromModel\n",
    "sel = SelectFromModel(rf_model)\n",
    "sel.fit(X_train_scaled, y_train)"
   ]
  },
  {
   "cell_type": "code",
   "execution_count": 79,
   "id": "317d3ae8",
   "metadata": {},
   "outputs": [],
   "source": [
    "# Split selected features into training and testing subsets then standardize.\n",
    "X_selected_train, X_selected_test, y_train, y_test = train_test_split(sel.transform(X), y, random_state=1)\n",
    "scaler = StandardScaler().fit(X_selected_train)\n",
    "X_selected_train_scaled = scaler.transform(X_selected_train)\n",
    "X_selected_test_scaled = scaler.transform(X_selected_test)"
   ]
  },
  {
   "cell_type": "code",
   "execution_count": 80,
   "id": "f7945340",
   "metadata": {},
   "outputs": [
    {
     "name": "stdout",
     "output_type": "stream",
     "text": [
      "Training Score: 0.9626153183780998\n",
      "Testing Score: 0.7522651741859858\n"
     ]
    }
   ],
   "source": [
    "# Create a new Random Forest Regression instance and train it on selected features\n",
    "rf_selected = RandomForestRegressor(n_estimators=128, random_state=78)\n",
    "rf_selected.fit(X_selected_train_scaled, y_train)\n",
    "print(f'Training Score: {rf_selected.score(X_selected_train_scaled, y_train)}')\n",
    "print(f'Testing Score: {rf_selected.score(X_selected_test_scaled, y_test)}')"
   ]
  },
  {
   "cell_type": "code",
   "execution_count": 81,
   "id": "dbbdc0ba",
   "metadata": {},
   "outputs": [
    {
     "data": {
      "text/plain": [
       "array([15.86214375,  5.30048125, 19.76508594, ...,  0.        ,\n",
       "        2.68840859,  4.23712969])"
      ]
     },
     "execution_count": 81,
     "metadata": {},
     "output_type": "execute_result"
    }
   ],
   "source": [
    "# Evaluate the selection model.\n",
    "y_pred_selected = rf_selected.predict(X_selected_test_scaled)\n",
    "y_pred_selected"
   ]
  },
  {
   "cell_type": "code",
   "execution_count": 82,
   "id": "37939794",
   "metadata": {},
   "outputs": [
    {
     "name": "stdout",
     "output_type": "stream",
     "text": [
      "R-squared (R2 ):  0.752\n",
      "mean absolute error (MAE):  5.951\n",
      "mean squared error (MSE):  596.332\n",
      "Root Mean Squared Error (RMSE):  24.420\n"
     ]
    }
   ],
   "source": [
    "# Score the selection model on testing data with R2, MAE, MSE, RMSE.\n",
    "r2 = r2_score(y_test, y_pred_selected)\n",
    "mae = metrics.mean_absolute_error(y_test, y_pred_selected)\n",
    "mse = mean_squared_error(y_test, y_pred_selected)\n",
    "RMSE = metrics.mean_squared_error(y_test, y_pred_selected, squared=False)\n",
    "\n",
    "print(f\"R-squared (R2 ): {r2: .3f}\")\n",
    "print(f\"mean absolute error (MAE): {mae: .3f}\")\n",
    "print(f\"mean squared error (MSE): {mse: .3f}\")\n",
    "print(f\"Root Mean Squared Error (RMSE): {RMSE: .3f}\")"
   ]
  },
  {
   "cell_type": "markdown",
   "id": "68e2f063",
   "metadata": {},
   "source": [
    "**Selecting features was not helpful in increasing the performance of the Random Forest Model**."
   ]
  },
  {
   "cell_type": "markdown",
   "id": "9424f969",
   "metadata": {},
   "source": [
    "## Model Enhancement"
   ]
  },
  {
   "cell_type": "markdown",
   "id": "3f0dd524",
   "metadata": {},
   "source": [
    "Potential steps to enhance the ML model:\n",
    "1. increase number of estimators. \n",
    "2. reshape X values (because we have a long dataset).\n",
    "3. apply pca on 17 features\n",
    "4. remove control features with very strong collinearity: people_fully_vaccinated_per_100K, human_development_index, median_age. "
   ]
  },
  {
   "cell_type": "markdown",
   "id": "d6d6ee2d",
   "metadata": {},
   "source": [
    "### Dropping Outliers"
   ]
  },
  {
   "cell_type": "code",
   "execution_count": 84,
   "id": "4d7c0aa5",
   "metadata": {},
   "outputs": [
    {
     "data": {
      "text/plain": [
       "0.0"
      ]
     },
     "execution_count": 84,
     "metadata": {},
     "output_type": "execute_result"
    }
   ],
   "source": [
    "min(pred_cases_16_features_df.new_cases_per_100K)"
   ]
  },
  {
   "cell_type": "code",
   "execution_count": 85,
   "id": "23c48901",
   "metadata": {},
   "outputs": [
    {
     "data": {
      "text/plain": [
       "2618.6094000000003"
      ]
     },
     "execution_count": 85,
     "metadata": {},
     "output_type": "execute_result"
    }
   ],
   "source": [
    "max(pred_cases_16_features_df.new_cases_per_100K)"
   ]
  },
  {
   "cell_type": "code",
   "execution_count": 86,
   "id": "accc9dc3",
   "metadata": {},
   "outputs": [
    {
     "data": {
      "text/plain": [
       "1886.8190374999965"
      ]
     },
     "execution_count": 86,
     "metadata": {},
     "output_type": "execute_result"
    }
   ],
   "source": [
    "max(pred_cases_16_features_df.new_cases_per_100K_predictions)"
   ]
  },
  {
   "cell_type": "code",
   "execution_count": 87,
   "id": "2eaa140d",
   "metadata": {},
   "outputs": [
    {
     "data": {
      "text/plain": [
       "2356.317"
      ]
     },
     "execution_count": 87,
     "metadata": {},
     "output_type": "execute_result"
    }
   ],
   "source": [
    "# filter out the new_cases_per_100K outlier \n",
    "phase1_noutliers_df = phase1_cases_df.loc[phase1_cases_df['new_cases_per_100K'] != phase1_cases_df['new_cases_per_100K'].max()]\n",
    "max(phase1_noutliers_df.new_cases_per_100K)"
   ]
  },
  {
   "cell_type": "code",
   "execution_count": 88,
   "id": "038d5358",
   "metadata": {},
   "outputs": [],
   "source": [
    "# Define Target variable\n",
    "y0 = phase1_noutliers_df.new_cases_per_100K\n",
    "# Define features \n",
    "X0 = phase1_noutliers_df.drop([\"new_cases_per_100K\"], axis=1)"
   ]
  },
  {
   "cell_type": "code",
   "execution_count": 89,
   "id": "6f665155",
   "metadata": {},
   "outputs": [
    {
     "data": {
      "text/html": [
       "<div>\n",
       "<style scoped>\n",
       "    .dataframe tbody tr th:only-of-type {\n",
       "        vertical-align: middle;\n",
       "    }\n",
       "\n",
       "    .dataframe tbody tr th {\n",
       "        vertical-align: top;\n",
       "    }\n",
       "\n",
       "    .dataframe thead th {\n",
       "        text-align: right;\n",
       "    }\n",
       "</style>\n",
       "<table border=\"1\" class=\"dataframe\">\n",
       "  <thead>\n",
       "    <tr style=\"text-align: right;\">\n",
       "      <th></th>\n",
       "      <th>covid_days</th>\n",
       "      <th>reproduction_rate</th>\n",
       "      <th>stringency_index</th>\n",
       "      <th>population_density</th>\n",
       "      <th>median_age</th>\n",
       "      <th>aged_65_older</th>\n",
       "      <th>gdp_per_capita</th>\n",
       "      <th>cardiovasc_death_rate</th>\n",
       "      <th>diabetes_prevalence</th>\n",
       "      <th>life_expectancy</th>\n",
       "      <th>human_development_index</th>\n",
       "      <th>total_cases_per_100K</th>\n",
       "      <th>total_vaccinations_per_100K</th>\n",
       "      <th>people_fully_vaccinated_per_100K</th>\n",
       "      <th>daily_vaccinations_per_100K</th>\n",
       "      <th>daily_people_fully_vaccinated_per_100K</th>\n",
       "    </tr>\n",
       "  </thead>\n",
       "  <tbody>\n",
       "    <tr>\n",
       "      <th>count</th>\n",
       "      <td>99855.000000</td>\n",
       "      <td>99855.000000</td>\n",
       "      <td>99855.000000</td>\n",
       "      <td>99855.000000</td>\n",
       "      <td>99855.000000</td>\n",
       "      <td>99855.000000</td>\n",
       "      <td>99855.000000</td>\n",
       "      <td>99855.000000</td>\n",
       "      <td>99855.000000</td>\n",
       "      <td>99855.000000</td>\n",
       "      <td>99855.000000</td>\n",
       "      <td>99855.000000</td>\n",
       "      <td>99855.000000</td>\n",
       "      <td>99855.000000</td>\n",
       "      <td>99855.000000</td>\n",
       "      <td>99855.000000</td>\n",
       "    </tr>\n",
       "    <tr>\n",
       "      <th>mean</th>\n",
       "      <td>441.471604</td>\n",
       "      <td>1.008026</td>\n",
       "      <td>54.819636</td>\n",
       "      <td>202.874759</td>\n",
       "      <td>30.594998</td>\n",
       "      <td>8.984803</td>\n",
       "      <td>18818.040360</td>\n",
       "      <td>259.334007</td>\n",
       "      <td>7.297083</td>\n",
       "      <td>72.677367</td>\n",
       "      <td>0.724297</td>\n",
       "      <td>3015.409809</td>\n",
       "      <td>24450.146913</td>\n",
       "      <td>9825.385008</td>\n",
       "      <td>2467.842836</td>\n",
       "      <td>738.620286</td>\n",
       "    </tr>\n",
       "    <tr>\n",
       "      <th>std</th>\n",
       "      <td>210.037026</td>\n",
       "      <td>0.357606</td>\n",
       "      <td>21.415317</td>\n",
       "      <td>711.349048</td>\n",
       "      <td>9.389953</td>\n",
       "      <td>6.497577</td>\n",
       "      <td>19377.254144</td>\n",
       "      <td>121.984877</td>\n",
       "      <td>3.724335</td>\n",
       "      <td>7.687022</td>\n",
       "      <td>0.156740</td>\n",
       "      <td>5337.169063</td>\n",
       "      <td>51682.717628</td>\n",
       "      <td>21449.331086</td>\n",
       "      <td>15999.418870</td>\n",
       "      <td>5888.051817</td>\n",
       "    </tr>\n",
       "    <tr>\n",
       "      <th>min</th>\n",
       "      <td>22.000000</td>\n",
       "      <td>-0.030000</td>\n",
       "      <td>0.000000</td>\n",
       "      <td>1.980000</td>\n",
       "      <td>15.100000</td>\n",
       "      <td>1.144000</td>\n",
       "      <td>661.240000</td>\n",
       "      <td>79.370000</td>\n",
       "      <td>0.990000</td>\n",
       "      <td>53.280000</td>\n",
       "      <td>0.394000</td>\n",
       "      <td>0.008100</td>\n",
       "      <td>0.000000</td>\n",
       "      <td>0.000000</td>\n",
       "      <td>0.000000</td>\n",
       "      <td>0.000000</td>\n",
       "    </tr>\n",
       "    <tr>\n",
       "      <th>25%</th>\n",
       "      <td>261.000000</td>\n",
       "      <td>0.820000</td>\n",
       "      <td>42.130000</td>\n",
       "      <td>35.608000</td>\n",
       "      <td>21.500000</td>\n",
       "      <td>3.244000</td>\n",
       "      <td>3689.251000</td>\n",
       "      <td>156.139000</td>\n",
       "      <td>4.820000</td>\n",
       "      <td>66.600000</td>\n",
       "      <td>0.584000</td>\n",
       "      <td>86.099350</td>\n",
       "      <td>0.000000</td>\n",
       "      <td>0.000000</td>\n",
       "      <td>0.000000</td>\n",
       "      <td>0.000000</td>\n",
       "    </tr>\n",
       "    <tr>\n",
       "      <th>50%</th>\n",
       "      <td>433.000000</td>\n",
       "      <td>1.000000</td>\n",
       "      <td>55.560000</td>\n",
       "      <td>80.080000</td>\n",
       "      <td>29.700000</td>\n",
       "      <td>6.378000</td>\n",
       "      <td>12294.876000</td>\n",
       "      <td>245.465000</td>\n",
       "      <td>6.820000</td>\n",
       "      <td>74.480000</td>\n",
       "      <td>0.750000</td>\n",
       "      <td>519.389600</td>\n",
       "      <td>0.000000</td>\n",
       "      <td>0.000000</td>\n",
       "      <td>0.000000</td>\n",
       "      <td>0.000000</td>\n",
       "    </tr>\n",
       "    <tr>\n",
       "      <th>75%</th>\n",
       "      <td>621.000000</td>\n",
       "      <td>1.180000</td>\n",
       "      <td>71.300000</td>\n",
       "      <td>145.725000</td>\n",
       "      <td>39.600000</td>\n",
       "      <td>14.799000</td>\n",
       "      <td>27216.445000</td>\n",
       "      <td>329.635000</td>\n",
       "      <td>8.520000</td>\n",
       "      <td>77.970000</td>\n",
       "      <td>0.852000</td>\n",
       "      <td>3883.645250</td>\n",
       "      <td>10405.000000</td>\n",
       "      <td>1980.000000</td>\n",
       "      <td>112.476057</td>\n",
       "      <td>13.253354</td>\n",
       "    </tr>\n",
       "    <tr>\n",
       "      <th>max</th>\n",
       "      <td>817.000000</td>\n",
       "      <td>5.820000</td>\n",
       "      <td>100.000000</td>\n",
       "      <td>7915.731000</td>\n",
       "      <td>48.200000</td>\n",
       "      <td>27.049000</td>\n",
       "      <td>116935.600000</td>\n",
       "      <td>724.417000</td>\n",
       "      <td>22.020000</td>\n",
       "      <td>84.630000</td>\n",
       "      <td>0.957000</td>\n",
       "      <td>52395.953300</td>\n",
       "      <td>263560.000000</td>\n",
       "      <td>95130.000000</td>\n",
       "      <td>242017.647136</td>\n",
       "      <td>95132.099293</td>\n",
       "    </tr>\n",
       "  </tbody>\n",
       "</table>\n",
       "</div>"
      ],
      "text/plain": [
       "         covid_days  reproduction_rate  stringency_index  population_density  \\\n",
       "count  99855.000000       99855.000000      99855.000000        99855.000000   \n",
       "mean     441.471604           1.008026         54.819636          202.874759   \n",
       "std      210.037026           0.357606         21.415317          711.349048   \n",
       "min       22.000000          -0.030000          0.000000            1.980000   \n",
       "25%      261.000000           0.820000         42.130000           35.608000   \n",
       "50%      433.000000           1.000000         55.560000           80.080000   \n",
       "75%      621.000000           1.180000         71.300000          145.725000   \n",
       "max      817.000000           5.820000        100.000000         7915.731000   \n",
       "\n",
       "         median_age  aged_65_older  gdp_per_capita  cardiovasc_death_rate  \\\n",
       "count  99855.000000   99855.000000    99855.000000           99855.000000   \n",
       "mean      30.594998       8.984803    18818.040360             259.334007   \n",
       "std        9.389953       6.497577    19377.254144             121.984877   \n",
       "min       15.100000       1.144000      661.240000              79.370000   \n",
       "25%       21.500000       3.244000     3689.251000             156.139000   \n",
       "50%       29.700000       6.378000    12294.876000             245.465000   \n",
       "75%       39.600000      14.799000    27216.445000             329.635000   \n",
       "max       48.200000      27.049000   116935.600000             724.417000   \n",
       "\n",
       "       diabetes_prevalence  life_expectancy  human_development_index  \\\n",
       "count         99855.000000     99855.000000             99855.000000   \n",
       "mean              7.297083        72.677367                 0.724297   \n",
       "std               3.724335         7.687022                 0.156740   \n",
       "min               0.990000        53.280000                 0.394000   \n",
       "25%               4.820000        66.600000                 0.584000   \n",
       "50%               6.820000        74.480000                 0.750000   \n",
       "75%               8.520000        77.970000                 0.852000   \n",
       "max              22.020000        84.630000                 0.957000   \n",
       "\n",
       "       total_cases_per_100K  total_vaccinations_per_100K  \\\n",
       "count          99855.000000                 99855.000000   \n",
       "mean            3015.409809                 24450.146913   \n",
       "std             5337.169063                 51682.717628   \n",
       "min                0.008100                     0.000000   \n",
       "25%               86.099350                     0.000000   \n",
       "50%              519.389600                     0.000000   \n",
       "75%             3883.645250                 10405.000000   \n",
       "max            52395.953300                263560.000000   \n",
       "\n",
       "       people_fully_vaccinated_per_100K  daily_vaccinations_per_100K  \\\n",
       "count                      99855.000000                 99855.000000   \n",
       "mean                        9825.385008                  2467.842836   \n",
       "std                        21449.331086                 15999.418870   \n",
       "min                            0.000000                     0.000000   \n",
       "25%                            0.000000                     0.000000   \n",
       "50%                            0.000000                     0.000000   \n",
       "75%                         1980.000000                   112.476057   \n",
       "max                        95130.000000                242017.647136   \n",
       "\n",
       "       daily_people_fully_vaccinated_per_100K  \n",
       "count                            99855.000000  \n",
       "mean                               738.620286  \n",
       "std                               5888.051817  \n",
       "min                                  0.000000  \n",
       "25%                                  0.000000  \n",
       "50%                                  0.000000  \n",
       "75%                                 13.253354  \n",
       "max                              95132.099293  "
      ]
     },
     "execution_count": 89,
     "metadata": {},
     "output_type": "execute_result"
    }
   ],
   "source": [
    "# Statistical summary\n",
    "X0.describe()"
   ]
  },
  {
   "cell_type": "code",
   "execution_count": 90,
   "id": "a91b5918",
   "metadata": {},
   "outputs": [],
   "source": [
    "# Split the data into training and testing datasets.\n",
    "X0_train, X0_test, y0_train, y0_test = train_test_split(X0, y0, random_state=78)"
   ]
  },
  {
   "cell_type": "code",
   "execution_count": 91,
   "id": "ee03843c",
   "metadata": {},
   "outputs": [
    {
     "name": "stdout",
     "output_type": "stream",
     "text": [
      "X0_train shape: (74891, 16)\n",
      "X0_test shape: (24964, 16)\n",
      "y0_train shape: (74891,)\n",
      "y0_test shape: (24964,)\n"
     ]
    }
   ],
   "source": [
    "# Check the shapes of training/ testing datasets.\n",
    "print(f\"X0_train shape: {X0_train.shape}\")\n",
    "print(f\"X0_test shape: {X0_test.shape}\")\n",
    "print(f\"y0_train shape: {y0_train.shape}\")\n",
    "print(f\"y0_test shape: {y0_test.shape}\")"
   ]
  },
  {
   "cell_type": "code",
   "execution_count": 92,
   "id": "65e3b60d",
   "metadata": {},
   "outputs": [],
   "source": [
    "# Create a StandardScaler instance \n",
    "scaler = StandardScaler()\n",
    "\n",
    "# Fit the StandardScaler\n",
    "X0_scaler = scaler.fit(X0_train)\n",
    "\n",
    "# Scale the data\n",
    "X0_train_scaled = X_scaler.transform(X0_train)\n",
    "X0_test_scaled = X_scaler.transform(X0_test)"
   ]
  },
  {
   "cell_type": "code",
   "execution_count": 93,
   "id": "df2640d1",
   "metadata": {},
   "outputs": [],
   "source": [
    "# Create a Random Forest Regression instance and train it\n",
    "rf0_model = RandomForestRegressor(n_estimators=128, random_state=78)\n",
    "\n",
    "# Train the model\n",
    "rf0_model = rf0_model.fit(X0_train_scaled, y0_train)"
   ]
  },
  {
   "cell_type": "code",
   "execution_count": 94,
   "id": "a2b377a2",
   "metadata": {},
   "outputs": [
    {
     "data": {
      "text/plain": [
       "array([ 1.03276797,  2.21394922,  5.85753906, ...,  0.        ,\n",
       "       12.49816016,  3.06645937])"
      ]
     },
     "execution_count": 94,
     "metadata": {},
     "output_type": "execute_result"
    }
   ],
   "source": [
    "# Evaluate the model.\n",
    "y0_pred = rf0_model.predict(X0_test_scaled)\n",
    "y0_pred"
   ]
  },
  {
   "cell_type": "code",
   "execution_count": 113,
   "id": "51d8722d",
   "metadata": {},
   "outputs": [
    {
     "name": "stdout",
     "output_type": "stream",
     "text": [
      "R-squared (R2 ):  0.808\n",
      "mean absolute error (MAE):  4.710\n",
      "mean squared error (MSE):  457.205\n",
      "Root Mean Squared Error (RMSE):  21.382\n"
     ]
    }
   ],
   "source": [
    "# Score the selection model on testing data with R2, MAE, MSE, RMSE.\n",
    "r2 = r2_score(y0_test, y0_pred)\n",
    "mae = metrics.mean_absolute_error(y0_test, y0_pred)\n",
    "mse = mean_squared_error(y0_test, y0_pred)\n",
    "RMSE = metrics.mean_squared_error(y0_test, y0_pred, squared=False)\n",
    "\n",
    "print(f\"R-squared (R2 ): {r2: .3f}\")\n",
    "print(f\"mean absolute error (MAE): {mae: .3f}\")\n",
    "print(f\"mean squared error (MSE): {mse: .3f}\")\n",
    "print(f\"Root Mean Squared Error (RMSE): {RMSE: .3f}\")"
   ]
  },
  {
   "cell_type": "markdown",
   "id": "f065132e",
   "metadata": {},
   "source": [
    "Removing the outlier from new_cases_per_100k did enhance regressor performance to 81%"
   ]
  },
  {
   "cell_type": "markdown",
   "id": "02f83026",
   "metadata": {},
   "source": [
    "### Remove Features with Very Strong Collinearity"
   ]
  },
  {
   "cell_type": "markdown",
   "id": "ad40cd74",
   "metadata": {},
   "source": [
    "Consider dropping one of the following corelated columns: total_vaccinations_per_100K, people_fully_vaccinated_per_100K.\n",
    "\n",
    "Consider dropping one of the following corelated columns: life_expectancy, human_development_index.\n",
    "\n",
    "Consider dropping one of the following corelated columns: median_age, aged_65_older."
   ]
  },
  {
   "cell_type": "code",
   "execution_count": 114,
   "id": "2ee04327",
   "metadata": {},
   "outputs": [
    {
     "name": "stdout",
     "output_type": "stream",
     "text": [
      "(99856, 13)\n"
     ]
    },
    {
     "data": {
      "text/html": [
       "<div>\n",
       "<style scoped>\n",
       "    .dataframe tbody tr th:only-of-type {\n",
       "        vertical-align: middle;\n",
       "    }\n",
       "\n",
       "    .dataframe tbody tr th {\n",
       "        vertical-align: top;\n",
       "    }\n",
       "\n",
       "    .dataframe thead th {\n",
       "        text-align: right;\n",
       "    }\n",
       "</style>\n",
       "<table border=\"1\" class=\"dataframe\">\n",
       "  <thead>\n",
       "    <tr style=\"text-align: right;\">\n",
       "      <th></th>\n",
       "      <th>covid_days</th>\n",
       "      <th>reproduction_rate</th>\n",
       "      <th>stringency_index</th>\n",
       "      <th>population_density</th>\n",
       "      <th>aged_65_older</th>\n",
       "      <th>gdp_per_capita</th>\n",
       "      <th>cardiovasc_death_rate</th>\n",
       "      <th>diabetes_prevalence</th>\n",
       "      <th>life_expectancy</th>\n",
       "      <th>total_cases_per_100K</th>\n",
       "      <th>total_vaccinations_per_100K</th>\n",
       "      <th>daily_vaccinations_per_100K</th>\n",
       "      <th>daily_people_fully_vaccinated_per_100K</th>\n",
       "    </tr>\n",
       "    <tr>\n",
       "      <th>id_row</th>\n",
       "      <th></th>\n",
       "      <th></th>\n",
       "      <th></th>\n",
       "      <th></th>\n",
       "      <th></th>\n",
       "      <th></th>\n",
       "      <th></th>\n",
       "      <th></th>\n",
       "      <th></th>\n",
       "      <th></th>\n",
       "      <th></th>\n",
       "      <th></th>\n",
       "      <th></th>\n",
       "    </tr>\n",
       "  </thead>\n",
       "  <tbody>\n",
       "    <tr>\n",
       "      <th>34</th>\n",
       "      <td>88</td>\n",
       "      <td>1.52</td>\n",
       "      <td>67.59</td>\n",
       "      <td>54.422</td>\n",
       "      <td>2.581</td>\n",
       "      <td>1803.987</td>\n",
       "      <td>597.029</td>\n",
       "      <td>9.59</td>\n",
       "      <td>64.83</td>\n",
       "      <td>0.2862</td>\n",
       "      <td>0.0</td>\n",
       "      <td>0.0</td>\n",
       "      <td>0.0</td>\n",
       "    </tr>\n",
       "    <tr>\n",
       "      <th>35</th>\n",
       "      <td>89</td>\n",
       "      <td>1.52</td>\n",
       "      <td>67.59</td>\n",
       "      <td>54.422</td>\n",
       "      <td>2.581</td>\n",
       "      <td>1803.987</td>\n",
       "      <td>597.029</td>\n",
       "      <td>9.59</td>\n",
       "      <td>64.83</td>\n",
       "      <td>0.2862</td>\n",
       "      <td>0.0</td>\n",
       "      <td>0.0</td>\n",
       "      <td>0.0</td>\n",
       "    </tr>\n",
       "    <tr>\n",
       "      <th>36</th>\n",
       "      <td>90</td>\n",
       "      <td>1.53</td>\n",
       "      <td>67.59</td>\n",
       "      <td>54.422</td>\n",
       "      <td>2.581</td>\n",
       "      <td>1803.987</td>\n",
       "      <td>597.029</td>\n",
       "      <td>9.59</td>\n",
       "      <td>64.83</td>\n",
       "      <td>0.4167</td>\n",
       "      <td>0.0</td>\n",
       "      <td>0.0</td>\n",
       "      <td>0.0</td>\n",
       "    </tr>\n",
       "    <tr>\n",
       "      <th>37</th>\n",
       "      <td>91</td>\n",
       "      <td>1.52</td>\n",
       "      <td>67.59</td>\n",
       "      <td>54.422</td>\n",
       "      <td>2.581</td>\n",
       "      <td>1803.987</td>\n",
       "      <td>597.029</td>\n",
       "      <td>9.59</td>\n",
       "      <td>64.83</td>\n",
       "      <td>0.4820</td>\n",
       "      <td>0.0</td>\n",
       "      <td>0.0</td>\n",
       "      <td>0.0</td>\n",
       "    </tr>\n",
       "    <tr>\n",
       "      <th>38</th>\n",
       "      <td>92</td>\n",
       "      <td>1.52</td>\n",
       "      <td>67.59</td>\n",
       "      <td>54.422</td>\n",
       "      <td>2.581</td>\n",
       "      <td>1803.987</td>\n",
       "      <td>597.029</td>\n",
       "      <td>9.59</td>\n",
       "      <td>64.83</td>\n",
       "      <td>0.5899</td>\n",
       "      <td>0.0</td>\n",
       "      <td>0.0</td>\n",
       "      <td>0.0</td>\n",
       "    </tr>\n",
       "  </tbody>\n",
       "</table>\n",
       "</div>"
      ],
      "text/plain": [
       "        covid_days  reproduction_rate  stringency_index  population_density  \\\n",
       "id_row                                                                        \n",
       "34              88               1.52             67.59              54.422   \n",
       "35              89               1.52             67.59              54.422   \n",
       "36              90               1.53             67.59              54.422   \n",
       "37              91               1.52             67.59              54.422   \n",
       "38              92               1.52             67.59              54.422   \n",
       "\n",
       "        aged_65_older  gdp_per_capita  cardiovasc_death_rate  \\\n",
       "id_row                                                         \n",
       "34              2.581        1803.987                597.029   \n",
       "35              2.581        1803.987                597.029   \n",
       "36              2.581        1803.987                597.029   \n",
       "37              2.581        1803.987                597.029   \n",
       "38              2.581        1803.987                597.029   \n",
       "\n",
       "        diabetes_prevalence  life_expectancy  total_cases_per_100K  \\\n",
       "id_row                                                               \n",
       "34                     9.59            64.83                0.2862   \n",
       "35                     9.59            64.83                0.2862   \n",
       "36                     9.59            64.83                0.4167   \n",
       "37                     9.59            64.83                0.4820   \n",
       "38                     9.59            64.83                0.5899   \n",
       "\n",
       "        total_vaccinations_per_100K  daily_vaccinations_per_100K  \\\n",
       "id_row                                                             \n",
       "34                              0.0                          0.0   \n",
       "35                              0.0                          0.0   \n",
       "36                              0.0                          0.0   \n",
       "37                              0.0                          0.0   \n",
       "38                              0.0                          0.0   \n",
       "\n",
       "        daily_people_fully_vaccinated_per_100K  \n",
       "id_row                                          \n",
       "34                                         0.0  \n",
       "35                                         0.0  \n",
       "36                                         0.0  \n",
       "37                                         0.0  \n",
       "38                                         0.0  "
      ]
     },
     "execution_count": 114,
     "metadata": {},
     "output_type": "execute_result"
    }
   ],
   "source": [
    "# Define target column \n",
    "y1 = phase1_cases_df.new_cases_per_100K\n",
    "feature_drop = ['new_cases_per_100K', 'people_fully_vaccinated_per_100K', 'human_development_index', 'median_age']\n",
    "X1 = phase1_cases_df.drop(columns=feature_drop, axis=1)\n",
    "print(X1.shape)\n",
    "X1.head()"
   ]
  },
  {
   "cell_type": "code",
   "execution_count": 115,
   "id": "d05b6aa1",
   "metadata": {},
   "outputs": [],
   "source": [
    "# Split the data into training and testing datasets.\n",
    "X1_train, X1_test, y1_train, y1_test = train_test_split(X1, y1, random_state=78)"
   ]
  },
  {
   "cell_type": "code",
   "execution_count": 116,
   "id": "feb23983",
   "metadata": {},
   "outputs": [
    {
     "name": "stdout",
     "output_type": "stream",
     "text": [
      "X1_train shape: (74892, 13)\n",
      "X1_test shape: (24964, 13)\n",
      "y1_train shape: (74892,)\n",
      "y1_test shape: (24964,)\n"
     ]
    }
   ],
   "source": [
    "# Check the shapes of training/ testing datasets.\n",
    "print(f\"X1_train shape: {X1_train.shape}\")\n",
    "print(f\"X1_test shape: {X1_test.shape}\")\n",
    "print(f\"y1_train shape: {y1_train.shape}\")\n",
    "print(f\"y1_test shape: {y1_test.shape}\")"
   ]
  },
  {
   "cell_type": "code",
   "execution_count": 117,
   "id": "51ff0383",
   "metadata": {},
   "outputs": [],
   "source": [
    "# Create a StandardScaler instance \n",
    "scaler = StandardScaler()\n",
    "\n",
    "# Fit the StandardScaler\n",
    "X1_scaler = scaler.fit(X1_train)\n",
    "\n",
    "# Scale the data\n",
    "X1_train_scaled = X1_scaler.transform(X1_train)\n",
    "X1_test_scaled = X1_scaler.transform(X1_test)"
   ]
  },
  {
   "cell_type": "code",
   "execution_count": 118,
   "id": "4eed2635",
   "metadata": {},
   "outputs": [
    {
     "data": {
      "text/plain": [
       "array([[-0.57105937,  0.36975004, -0.3105722 , ..., -0.47292316,\n",
       "        -0.15382825, -0.12536871],\n",
       "       [-0.51874383,  0.00620229,  1.50538332, ..., -0.47292316,\n",
       "        -0.15382825, -0.12536871],\n",
       "       [-0.77080959,  0.28585441, -0.00799077, ..., -0.47292316,\n",
       "        -0.15382825, -0.12536871],\n",
       "       ...,\n",
       "       [ 0.05672705,  0.00620229,  0.29459066, ..., -0.47292316,\n",
       "        -0.15382825, -0.12536871],\n",
       "       [-0.26667808,  0.17399356,  0.3380167 , ..., -0.47292316,\n",
       "        -0.15382825, -0.12536871],\n",
       "       [ 1.69277648, -2.51066674, -1.43497974, ..., -0.47292316,\n",
       "        -0.15382825, -0.12536871]])"
      ]
     },
     "execution_count": 118,
     "metadata": {},
     "output_type": "execute_result"
    }
   ],
   "source": [
    "X1_train_scaled"
   ]
  },
  {
   "cell_type": "code",
   "execution_count": 119,
   "id": "57f6397d",
   "metadata": {},
   "outputs": [],
   "source": [
    "# Create a Random Forest Regression instance and train it\n",
    "rf1_model = RandomForestRegressor(n_estimators=128, random_state=78)\n",
    "\n",
    "# Train the model\n",
    "rf1_model = rf1_model.fit(X1_train_scaled, y1_train)"
   ]
  },
  {
   "cell_type": "code",
   "execution_count": 120,
   "id": "86200ecb",
   "metadata": {},
   "outputs": [
    {
     "data": {
      "text/plain": [
       "array([5.63145563e+01, 4.20187500e-02, 1.13686719e+00, ...,\n",
       "       0.00000000e+00, 1.49399766e+00, 0.00000000e+00])"
      ]
     },
     "execution_count": 120,
     "metadata": {},
     "output_type": "execute_result"
    }
   ],
   "source": [
    "# Evaluate the model.\n",
    "y1_pred = rf1_model.predict(X1_test_scaled)\n",
    "y1_pred"
   ]
  },
  {
   "cell_type": "code",
   "execution_count": 121,
   "id": "9a07b92e",
   "metadata": {},
   "outputs": [
    {
     "name": "stdout",
     "output_type": "stream",
     "text": [
      "R-squared (R2 ):  0.770\n",
      "mean absolute error (MAE):  4.777\n",
      "mean squared error (MSE):  568.454\n",
      "Root Mean Squared Error (RMSE):  23.842\n"
     ]
    }
   ],
   "source": [
    "# Score the selection model on testing data with R2, MAE, MSE, RMSE.\n",
    "r2 = r2_score(y1_test, y1_pred)\n",
    "mae = metrics.mean_absolute_error(y1_test, y1_pred)\n",
    "mse = mean_squared_error(y1_test, y1_pred)\n",
    "RMSE = metrics.mean_squared_error(y1_test, y1_pred, squared=False)\n",
    "\n",
    "print(f\"R-squared (R2 ): {r2: .3f}\")\n",
    "print(f\"mean absolute error (MAE): {mae: .3f}\")\n",
    "print(f\"mean squared error (MSE): {mse: .3f}\")\n",
    "print(f\"Root Mean Squared Error (RMSE): {RMSE: .3f}\")"
   ]
  },
  {
   "cell_type": "code",
   "execution_count": 122,
   "id": "32e83a0d",
   "metadata": {},
   "outputs": [
    {
     "name": "stdout",
     "output_type": "stream",
     "text": [
      "Mean Absolute Percentage Error (MAPE): 3776295333175451.5\n",
      "Explained Variance Score: 0.7696215538910305\n",
      "Max Error: 1579.270740625001\n",
      "Mean Squared Log Error: 0.35380407746597603\n",
      "Median Absolute Error: 0.44431015625000025\n"
     ]
    }
   ],
   "source": [
    "# Check other metrics of the RF model on testing data\n",
    "\n",
    "print('Mean Absolute Percentage Error (MAPE):', metrics.mean_absolute_percentage_error(y1_test, y1_pred))\n",
    "print('Explained Variance Score:', metrics.explained_variance_score(y1_test, y1_pred))\n",
    "print('Max Error:', metrics.max_error(y1_test, y1_pred))\n",
    "print('Mean Squared Log Error:', metrics.mean_squared_log_error(y1_test, y1_pred))\n",
    "print('Median Absolute Error:', metrics.median_absolute_error(y1_test, y1_pred))"
   ]
  },
  {
   "cell_type": "code",
   "execution_count": 125,
   "id": "a37bdc3e",
   "metadata": {},
   "outputs": [
    {
     "name": "stdout",
     "output_type": "stream",
     "text": [
      "The training score for the Random Forest Regression model on 13 features is  0.967.\n"
     ]
    }
   ],
   "source": [
    "# Check the training score\n",
    "training_score1 = rf1_model.score(X1_train_scaled, y1_train)\n",
    "print(f\"The training score for the Random Forest Regression model on 13 features is {training_score1: .3f}.\")"
   ]
  },
  {
   "cell_type": "code",
   "execution_count": 126,
   "id": "5915ceba",
   "metadata": {},
   "outputs": [
    {
     "name": "stdout",
     "output_type": "stream",
     "text": [
      "The testing score for the Random Forest Regression model on 13 features is  0.770.\n"
     ]
    }
   ],
   "source": [
    "# Check the testing score\n",
    "testing_score1 = rf1_model.score(X1_test_scaled, y1_test)\n",
    "print(f\"The testing score for the Random Forest Regression model on 13 features is {testing_score1: .3f}.\")"
   ]
  },
  {
   "cell_type": "code",
   "execution_count": null,
   "id": "7404146e",
   "metadata": {},
   "outputs": [],
   "source": []
  },
  {
   "cell_type": "markdown",
   "id": "de0c751e",
   "metadata": {},
   "source": [
    "  "
   ]
  },
  {
   "cell_type": "markdown",
   "id": "4f230482",
   "metadata": {},
   "source": [
    "**Excluding Features with Sever Collinearity Did Not Enhance the Performance of the Random Forest Regression Model significantly.**"
   ]
  },
  {
   "cell_type": "markdown",
   "id": "1ed92e8a",
   "metadata": {},
   "source": [
    "### Tuning-up the Model"
   ]
  },
  {
   "cell_type": "markdown",
   "id": "e16653cc",
   "metadata": {},
   "source": [
    "Increase the number of trees from 128 to 300"
   ]
  },
  {
   "cell_type": "markdown",
   "id": "f6a9e3e6",
   "metadata": {},
   "source": [
    "**First: Apply more estimators on 16 features.**"
   ]
  },
  {
   "cell_type": "code",
   "execution_count": 127,
   "id": "4ff1b555",
   "metadata": {},
   "outputs": [],
   "source": [
    "# Create a Random Forest Regression instance and train it\n",
    "rf_estimators_model = RandomForestRegressor(n_estimators=300, random_state=78)\n",
    "\n",
    "# Train the model\n",
    "rf_estimators_model = rf_estimators_model.fit(X_train_scaled, y_train)"
   ]
  },
  {
   "cell_type": "code",
   "execution_count": 130,
   "id": "be8d9f8e",
   "metadata": {},
   "outputs": [
    {
     "data": {
      "text/plain": [
       "array([ 8.289369  , 45.632956  , 15.391915  , ..., 11.39718333,\n",
       "        9.13076   ,  0.32978833])"
      ]
     },
     "execution_count": 130,
     "metadata": {},
     "output_type": "execute_result"
    }
   ],
   "source": [
    "# Evaluate the model.\n",
    "y_pred_estimators = rf_estimators_model.predict(X_test_scaled)\n",
    "y_pred_estimators"
   ]
  },
  {
   "cell_type": "code",
   "execution_count": 131,
   "id": "623023d6",
   "metadata": {},
   "outputs": [
    {
     "name": "stdout",
     "output_type": "stream",
     "text": [
      "R-squared (R2 ): -0.235\n",
      "mean absolute error (MAE):  23.307\n",
      "mean squared error (MSE):  2972.592\n",
      "Root Mean Squared Error (RMSE):  54.521\n"
     ]
    }
   ],
   "source": [
    "# Score the selection model on testing data with R2, MAE, MSE, RMSE.\n",
    "r2 = r2_score(y_test, y_pred_estimators)\n",
    "mae = metrics.mean_absolute_error(y_test, y_pred_estimators)\n",
    "mse = mean_squared_error(y_test, y_pred_estimators)\n",
    "RMSE = metrics.mean_squared_error(y_test, y_pred_estimators, squared=False)\n",
    "\n",
    "print(f\"R-squared (R2 ): {r2: .3f}\")\n",
    "print(f\"mean absolute error (MAE): {mae: .3f}\")\n",
    "print(f\"mean squared error (MSE): {mse: .3f}\")\n",
    "print(f\"Root Mean Squared Error (RMSE): {RMSE: .3f}\")"
   ]
  },
  {
   "cell_type": "code",
   "execution_count": 132,
   "id": "fa81c27c",
   "metadata": {},
   "outputs": [
    {
     "name": "stdout",
     "output_type": "stream",
     "text": [
      "The training score for the Random Forest Regression model on 17 features is  0.832.\n"
     ]
    }
   ],
   "source": [
    "# Check the training score\n",
    "training_score2 = rf_estimators_model.score(X_train_scaled, y_train)\n",
    "print(f\"The training score for the Random Forest Regression model on 17 features is {training_score2: .3f}.\")"
   ]
  },
  {
   "cell_type": "code",
   "execution_count": 133,
   "id": "576b1074",
   "metadata": {},
   "outputs": [
    {
     "name": "stdout",
     "output_type": "stream",
     "text": [
      "The testing score for the Random Forest Regression model on 17 features is -0.235.\n"
     ]
    }
   ],
   "source": [
    "# Check the testing score\n",
    "testing_score2 = rf_estimators_model.score(X_test_scaled, y_test)\n",
    "print(f\"The testing score for the Random Forest Regression model on 17 features is {testing_score2: .3f}.\")"
   ]
  },
  {
   "cell_type": "markdown",
   "id": "1da5bf52",
   "metadata": {},
   "source": [
    "A negative R2 is not a mathematical impossibility or the sign of a computer bug. It simply means that the chosen model (with its constraints) fits the data really poorly."
   ]
  },
  {
   "cell_type": "markdown",
   "id": "1ac6ecf7",
   "metadata": {},
   "source": [
    "Increasing decision trees badly influenced the model. "
   ]
  },
  {
   "cell_type": "markdown",
   "id": "8ec5e0b2",
   "metadata": {},
   "source": [
    "**Second: Apply the increased estimators on 13 features without collinear variables.**"
   ]
  },
  {
   "cell_type": "code",
   "execution_count": 134,
   "id": "2caaaebe",
   "metadata": {},
   "outputs": [],
   "source": [
    "# Create a Random Forest Regression instance and train it\n",
    "rf1_estimators_model = RandomForestRegressor(n_estimators=300, random_state=78)\n",
    "\n",
    "# Train the model\n",
    "rf1_estimators_model = rf1_estimators_model.fit(X1_train_scaled, y1_train)"
   ]
  },
  {
   "cell_type": "code",
   "execution_count": 135,
   "id": "8345d31a",
   "metadata": {},
   "outputs": [
    {
     "data": {
      "text/plain": [
       "array([5.69337157e+01, 4.28430000e-02, 1.11930633e+00, ...,\n",
       "       1.48333333e-04, 1.47702067e+00, 0.00000000e+00])"
      ]
     },
     "execution_count": 135,
     "metadata": {},
     "output_type": "execute_result"
    }
   ],
   "source": [
    "# Evaluate the model.\n",
    "y1_pred_estimators = rf1_estimators_model.predict(X1_test_scaled)\n",
    "y1_pred_estimators"
   ]
  },
  {
   "cell_type": "code",
   "execution_count": 136,
   "id": "6fc5c007",
   "metadata": {},
   "outputs": [
    {
     "name": "stdout",
     "output_type": "stream",
     "text": [
      "R-squared (R2 ):  0.773\n",
      "mean absolute error (MAE):  4.751\n",
      "mean squared error (MSE):  560.722\n",
      "Root Mean Squared Error (RMSE):  23.680\n"
     ]
    }
   ],
   "source": [
    "# Score the selection model on testing data with R2, MAE, MSE, RMSE.\n",
    "r2 = r2_score(y1_test, y1_pred_estimators)\n",
    "mae = metrics.mean_absolute_error(y1_test, y1_pred_estimators)\n",
    "mse = mean_squared_error(y1_test, y1_pred_estimators)\n",
    "RMSE = metrics.mean_squared_error(y1_test, y1_pred_estimators, squared=False)\n",
    "\n",
    "print(f\"R-squared (R2 ): {r2: .3f}\")\n",
    "print(f\"mean absolute error (MAE): {mae: .3f}\")\n",
    "print(f\"mean squared error (MSE): {mse: .3f}\")\n",
    "print(f\"Root Mean Squared Error (RMSE): {RMSE: .3f}\")"
   ]
  },
  {
   "cell_type": "markdown",
   "id": "2c75d4eb",
   "metadata": {},
   "source": [
    "**Increasing the Number of Decision Trees with and without Sever Collinearity Did Not Enhance the Performance of the Random Forest Regression Model Significantly.**"
   ]
  },
  {
   "cell_type": "markdown",
   "id": "c1690255",
   "metadata": {},
   "source": [
    "### Reducing Data Dimensions Using PCA"
   ]
  },
  {
   "cell_type": "markdown",
   "id": "2a444d1f",
   "metadata": {},
   "source": [
    "**First apply to 16 Features.**"
   ]
  },
  {
   "cell_type": "code",
   "execution_count": 137,
   "id": "733d0aea",
   "metadata": {},
   "outputs": [
    {
     "data": {
      "text/plain": [
       "array([[-0.48923321, -0.62703584,  0.01458099],\n",
       "       [ 0.17637741, -1.42382509,  0.71523393],\n",
       "       [ 0.43145995, -1.38185954,  0.3786856 ],\n",
       "       ...,\n",
       "       [-2.95160574,  0.53941457, -0.17099396],\n",
       "       [ 0.67012474, -1.30977922,  0.14888418],\n",
       "       [-3.85309338,  2.4426404 , -1.08475777]])"
      ]
     },
     "execution_count": 137,
     "metadata": {},
     "output_type": "execute_result"
    }
   ],
   "source": [
    "# Using PCA to reduce dimension to three principal components.\n",
    "# Initialize the PCA model.\n",
    "pca = PCA(n_components=3)\n",
    "\n",
    "# Get 3 principal components for the 16 features training data. \n",
    "X_pca = pca.fit_transform(X_train_scaled)\n",
    "# Display results\n",
    "X_pca"
   ]
  },
  {
   "cell_type": "code",
   "execution_count": 138,
   "id": "53692c96",
   "metadata": {},
   "outputs": [
    {
     "name": "stdout",
     "output_type": "stream",
     "text": [
      "(74892, 3)\n"
     ]
    },
    {
     "data": {
      "text/html": [
       "<div>\n",
       "<style scoped>\n",
       "    .dataframe tbody tr th:only-of-type {\n",
       "        vertical-align: middle;\n",
       "    }\n",
       "\n",
       "    .dataframe tbody tr th {\n",
       "        vertical-align: top;\n",
       "    }\n",
       "\n",
       "    .dataframe thead th {\n",
       "        text-align: right;\n",
       "    }\n",
       "</style>\n",
       "<table border=\"1\" class=\"dataframe\">\n",
       "  <thead>\n",
       "    <tr style=\"text-align: right;\">\n",
       "      <th></th>\n",
       "      <th>principal component 1</th>\n",
       "      <th>principal component 2</th>\n",
       "      <th>principal component 3</th>\n",
       "    </tr>\n",
       "    <tr>\n",
       "      <th>id_row</th>\n",
       "      <th></th>\n",
       "      <th></th>\n",
       "      <th></th>\n",
       "    </tr>\n",
       "  </thead>\n",
       "  <tbody>\n",
       "    <tr>\n",
       "      <th>117131</th>\n",
       "      <td>-0.489233</td>\n",
       "      <td>-0.627036</td>\n",
       "      <td>0.014581</td>\n",
       "    </tr>\n",
       "    <tr>\n",
       "      <th>99603</th>\n",
       "      <td>0.176377</td>\n",
       "      <td>-1.423825</td>\n",
       "      <td>0.715234</td>\n",
       "    </tr>\n",
       "    <tr>\n",
       "      <th>1959</th>\n",
       "      <td>0.431460</td>\n",
       "      <td>-1.381860</td>\n",
       "      <td>0.378686</td>\n",
       "    </tr>\n",
       "    <tr>\n",
       "      <th>62056</th>\n",
       "      <td>2.039290</td>\n",
       "      <td>-1.990180</td>\n",
       "      <td>-0.039362</td>\n",
       "    </tr>\n",
       "    <tr>\n",
       "      <th>166920</th>\n",
       "      <td>2.702600</td>\n",
       "      <td>-0.308549</td>\n",
       "      <td>-0.268860</td>\n",
       "    </tr>\n",
       "    <tr>\n",
       "      <th>47456</th>\n",
       "      <td>2.181203</td>\n",
       "      <td>-2.382535</td>\n",
       "      <td>0.263941</td>\n",
       "    </tr>\n",
       "    <tr>\n",
       "      <th>172443</th>\n",
       "      <td>2.619437</td>\n",
       "      <td>-3.040755</td>\n",
       "      <td>0.613700</td>\n",
       "    </tr>\n",
       "    <tr>\n",
       "      <th>137705</th>\n",
       "      <td>-1.939197</td>\n",
       "      <td>0.134806</td>\n",
       "      <td>0.224511</td>\n",
       "    </tr>\n",
       "    <tr>\n",
       "      <th>160799</th>\n",
       "      <td>6.569184</td>\n",
       "      <td>1.160781</td>\n",
       "      <td>-0.937404</td>\n",
       "    </tr>\n",
       "    <tr>\n",
       "      <th>169325</th>\n",
       "      <td>0.316578</td>\n",
       "      <td>-1.302321</td>\n",
       "      <td>0.472284</td>\n",
       "    </tr>\n",
       "  </tbody>\n",
       "</table>\n",
       "</div>"
      ],
      "text/plain": [
       "        principal component 1  principal component 2  principal component 3\n",
       "id_row                                                                     \n",
       "117131              -0.489233              -0.627036               0.014581\n",
       "99603                0.176377              -1.423825               0.715234\n",
       "1959                 0.431460              -1.381860               0.378686\n",
       "62056                2.039290              -1.990180              -0.039362\n",
       "166920               2.702600              -0.308549              -0.268860\n",
       "47456                2.181203              -2.382535               0.263941\n",
       "172443               2.619437              -3.040755               0.613700\n",
       "137705              -1.939197               0.134806               0.224511\n",
       "160799               6.569184               1.160781              -0.937404\n",
       "169325               0.316578              -1.302321               0.472284"
      ]
     },
     "execution_count": 138,
     "metadata": {},
     "output_type": "execute_result"
    }
   ],
   "source": [
    "# Create a DataFrame with the three principal components.\n",
    "df_X_pca = pd.DataFrame(data=X_pca, index=X_train.index, columns=[\"principal component 1\", \"principal component 2\", \"principal component 3\"])\n",
    "print(df_X_pca.shape)\n",
    "df_X_pca.head(10)"
   ]
  },
  {
   "cell_type": "code",
   "execution_count": 139,
   "id": "57280adf",
   "metadata": {},
   "outputs": [
    {
     "name": "stderr",
     "output_type": "stream",
     "text": [
      "[Parallel(n_jobs=1)]: Using backend SequentialBackend with 1 concurrent workers.\n",
      "[Parallel(n_jobs=1)]: Done 128 out of 128 | elapsed:   59.3s finished\n",
      "[Parallel(n_jobs=1)]: Using backend SequentialBackend with 1 concurrent workers.\n",
      "[Parallel(n_jobs=1)]: Done 128 out of 128 | elapsed:    1.2s finished\n"
     ]
    }
   ],
   "source": [
    "# Fit and transform a regressor to the pca components\n",
    "train_features = pca.fit_transform(X_train_scaled)\n",
    "\n",
    "rf_pca = RandomForestRegressor(n_estimators = 128, n_jobs = 1, \n",
    "                                         random_state = 78, verbose = 1, oob_score=True)\n",
    "\n",
    "rf_pca.fit(train_features, y_train)\n",
    "\n",
    "test_features = pca.transform(X_test_scaled)\n",
    "predictions_pca = rf_pca.predict(test_features)"
   ]
  },
  {
   "cell_type": "code",
   "execution_count": 145,
   "id": "a8a2622b",
   "metadata": {},
   "outputs": [
    {
     "name": "stdout",
     "output_type": "stream",
     "text": [
      "(24964, 3)\n"
     ]
    },
    {
     "data": {
      "text/html": [
       "<div>\n",
       "<style scoped>\n",
       "    .dataframe tbody tr th:only-of-type {\n",
       "        vertical-align: middle;\n",
       "    }\n",
       "\n",
       "    .dataframe tbody tr th {\n",
       "        vertical-align: top;\n",
       "    }\n",
       "\n",
       "    .dataframe thead th {\n",
       "        text-align: right;\n",
       "    }\n",
       "</style>\n",
       "<table border=\"1\" class=\"dataframe\">\n",
       "  <thead>\n",
       "    <tr style=\"text-align: right;\">\n",
       "      <th></th>\n",
       "      <th>Actual</th>\n",
       "      <th>Predictions</th>\n",
       "      <th>residuals</th>\n",
       "    </tr>\n",
       "    <tr>\n",
       "      <th>id_row</th>\n",
       "      <th></th>\n",
       "      <th></th>\n",
       "      <th></th>\n",
       "    </tr>\n",
       "  </thead>\n",
       "  <tbody>\n",
       "    <tr>\n",
       "      <th>35</th>\n",
       "      <td>0.0000</td>\n",
       "      <td>4.134120</td>\n",
       "      <td>4.134120</td>\n",
       "    </tr>\n",
       "    <tr>\n",
       "      <th>38</th>\n",
       "      <td>0.1079</td>\n",
       "      <td>35.151013</td>\n",
       "      <td>35.043113</td>\n",
       "    </tr>\n",
       "    <tr>\n",
       "      <th>40</th>\n",
       "      <td>0.0025</td>\n",
       "      <td>3.575755</td>\n",
       "      <td>3.573255</td>\n",
       "    </tr>\n",
       "    <tr>\n",
       "      <th>42</th>\n",
       "      <td>0.0954</td>\n",
       "      <td>9.132164</td>\n",
       "      <td>9.036764</td>\n",
       "    </tr>\n",
       "    <tr>\n",
       "      <th>44</th>\n",
       "      <td>0.1406</td>\n",
       "      <td>2.197846</td>\n",
       "      <td>2.057246</td>\n",
       "    </tr>\n",
       "    <tr>\n",
       "      <th>46</th>\n",
       "      <td>0.1933</td>\n",
       "      <td>90.721984</td>\n",
       "      <td>90.528684</td>\n",
       "    </tr>\n",
       "    <tr>\n",
       "      <th>54</th>\n",
       "      <td>0.1582</td>\n",
       "      <td>4.312445</td>\n",
       "      <td>4.154245</td>\n",
       "    </tr>\n",
       "    <tr>\n",
       "      <th>58</th>\n",
       "      <td>0.1657</td>\n",
       "      <td>25.908538</td>\n",
       "      <td>25.742838</td>\n",
       "    </tr>\n",
       "    <tr>\n",
       "      <th>62</th>\n",
       "      <td>0.3339</td>\n",
       "      <td>10.327424</td>\n",
       "      <td>9.993524</td>\n",
       "    </tr>\n",
       "    <tr>\n",
       "      <th>64</th>\n",
       "      <td>0.4318</td>\n",
       "      <td>6.634565</td>\n",
       "      <td>6.202765</td>\n",
       "    </tr>\n",
       "    <tr>\n",
       "      <th>66</th>\n",
       "      <td>0.0000</td>\n",
       "      <td>9.005084</td>\n",
       "      <td>9.005084</td>\n",
       "    </tr>\n",
       "    <tr>\n",
       "      <th>68</th>\n",
       "      <td>0.7481</td>\n",
       "      <td>8.619079</td>\n",
       "      <td>7.870979</td>\n",
       "    </tr>\n",
       "    <tr>\n",
       "      <th>72</th>\n",
       "      <td>1.8953</td>\n",
       "      <td>37.963976</td>\n",
       "      <td>36.068676</td>\n",
       "    </tr>\n",
       "    <tr>\n",
       "      <th>79</th>\n",
       "      <td>0.0000</td>\n",
       "      <td>18.876260</td>\n",
       "      <td>18.876260</td>\n",
       "    </tr>\n",
       "    <tr>\n",
       "      <th>84</th>\n",
       "      <td>1.0970</td>\n",
       "      <td>34.700922</td>\n",
       "      <td>33.603922</td>\n",
       "    </tr>\n",
       "    <tr>\n",
       "      <th>87</th>\n",
       "      <td>1.3330</td>\n",
       "      <td>27.870560</td>\n",
       "      <td>26.537560</td>\n",
       "    </tr>\n",
       "    <tr>\n",
       "      <th>97</th>\n",
       "      <td>1.6342</td>\n",
       "      <td>18.549795</td>\n",
       "      <td>16.915595</td>\n",
       "    </tr>\n",
       "    <tr>\n",
       "      <th>99</th>\n",
       "      <td>1.8627</td>\n",
       "      <td>2.169490</td>\n",
       "      <td>0.306790</td>\n",
       "    </tr>\n",
       "    <tr>\n",
       "      <th>101</th>\n",
       "      <td>1.5664</td>\n",
       "      <td>3.927326</td>\n",
       "      <td>2.360926</td>\n",
       "    </tr>\n",
       "    <tr>\n",
       "      <th>108</th>\n",
       "      <td>1.8777</td>\n",
       "      <td>14.117208</td>\n",
       "      <td>12.239508</td>\n",
       "    </tr>\n",
       "  </tbody>\n",
       "</table>\n",
       "</div>"
      ],
      "text/plain": [
       "        Actual  Predictions  residuals\n",
       "id_row                                \n",
       "35      0.0000     4.134120   4.134120\n",
       "38      0.1079    35.151013  35.043113\n",
       "40      0.0025     3.575755   3.573255\n",
       "42      0.0954     9.132164   9.036764\n",
       "44      0.1406     2.197846   2.057246\n",
       "46      0.1933    90.721984  90.528684\n",
       "54      0.1582     4.312445   4.154245\n",
       "58      0.1657    25.908538  25.742838\n",
       "62      0.3339    10.327424   9.993524\n",
       "64      0.4318     6.634565   6.202765\n",
       "66      0.0000     9.005084   9.005084\n",
       "68      0.7481     8.619079   7.870979\n",
       "72      1.8953    37.963976  36.068676\n",
       "79      0.0000    18.876260  18.876260\n",
       "84      1.0970    34.700922  33.603922\n",
       "87      1.3330    27.870560  26.537560\n",
       "97      1.6342    18.549795  16.915595\n",
       "99      1.8627     2.169490   0.306790\n",
       "101     1.5664     3.927326   2.360926\n",
       "108     1.8777    14.117208  12.239508"
      ]
     },
     "execution_count": 145,
     "metadata": {},
     "output_type": "execute_result"
    }
   ],
   "source": [
    "# Create a new DataFrame \n",
    "predictions_pca_df = pd.DataFrame({'Actual': y_test, 'Predictions': predictions_pca, 'residuals': predictions_pca - y_test})\n",
    "print(predictions_pca_df.shape)\n",
    "predictions_pca_df.sort_values('id_row').head(20)"
   ]
  },
  {
   "cell_type": "code",
   "execution_count": 141,
   "id": "412112f0",
   "metadata": {},
   "outputs": [
    {
     "name": "stdout",
     "output_type": "stream",
     "text": [
      "R-squared (R2 ): -0.119\n",
      "mean absolute error (MAE):  22.460\n",
      "mean squared error (MSE):  2694.212\n",
      "Root Mean Squared Error (RMSE):  51.906\n"
     ]
    }
   ],
   "source": [
    "# Score the selection model on testing data with R2, MAE, MSE, RMSE.\n",
    "r2 = r2_score(y_test, predictions_pca)\n",
    "mae = metrics.mean_absolute_error(y_test, predictions_pca)\n",
    "mse = mean_squared_error(y_test, predictions_pca)\n",
    "RMSE = metrics.mean_squared_error(y_test, predictions_pca, squared=False)\n",
    "\n",
    "print(f\"R-squared (R2 ): {r2: .3f}\")\n",
    "print(f\"mean absolute error (MAE): {mae: .3f}\")\n",
    "print(f\"mean squared error (MSE): {mse: .3f}\")\n",
    "print(f\"Root Mean Squared Error (RMSE): {RMSE: .3f}\")"
   ]
  },
  {
   "cell_type": "markdown",
   "id": "4bc17ff3",
   "metadata": {},
   "source": [
    "**Using PCA affected the RFR performance negatively.**"
   ]
  },
  {
   "cell_type": "markdown",
   "id": "1fc4c5b8",
   "metadata": {},
   "source": [
    "**Second: Apply to 13 Features without Collinearity.**"
   ]
  },
  {
   "cell_type": "code",
   "execution_count": 143,
   "id": "b2cfb98f",
   "metadata": {},
   "outputs": [
    {
     "data": {
      "text/plain": [
       "array([[-1.00097294, -0.13634576,  0.02154581],\n",
       "       [ 0.22551058, -1.4053149 ,  0.86847387],\n",
       "       [-0.03087904, -1.00787876,  0.42579182],\n",
       "       ...,\n",
       "       [-2.16258587,  0.44875986, -0.08885376],\n",
       "       [ 0.29519727, -1.03619092,  0.18661862],\n",
       "       [-2.88939327,  2.64827046, -1.35213796]])"
      ]
     },
     "execution_count": 143,
     "metadata": {},
     "output_type": "execute_result"
    }
   ],
   "source": [
    "# Using PCA to reduce dimension to three principal components.\n",
    "# Initialize the PCA model.\n",
    "pca1 = PCA(n_components=3)\n",
    "\n",
    "# Get 3 principal components for the 13 features training set. \n",
    "X1_pca = pca1.fit_transform(X1_train_scaled)\n",
    "# Display results\n",
    "X1_pca"
   ]
  },
  {
   "cell_type": "code",
   "execution_count": 144,
   "id": "5072dbfe",
   "metadata": {},
   "outputs": [
    {
     "name": "stdout",
     "output_type": "stream",
     "text": [
      "(74892, 3)\n"
     ]
    },
    {
     "data": {
      "text/html": [
       "<div>\n",
       "<style scoped>\n",
       "    .dataframe tbody tr th:only-of-type {\n",
       "        vertical-align: middle;\n",
       "    }\n",
       "\n",
       "    .dataframe tbody tr th {\n",
       "        vertical-align: top;\n",
       "    }\n",
       "\n",
       "    .dataframe thead th {\n",
       "        text-align: right;\n",
       "    }\n",
       "</style>\n",
       "<table border=\"1\" class=\"dataframe\">\n",
       "  <thead>\n",
       "    <tr style=\"text-align: right;\">\n",
       "      <th></th>\n",
       "      <th>principal component 1</th>\n",
       "      <th>principal component 2</th>\n",
       "      <th>principal component 3</th>\n",
       "    </tr>\n",
       "    <tr>\n",
       "      <th>id_row</th>\n",
       "      <th></th>\n",
       "      <th></th>\n",
       "      <th></th>\n",
       "    </tr>\n",
       "  </thead>\n",
       "  <tbody>\n",
       "    <tr>\n",
       "      <th>117131</th>\n",
       "      <td>-1.000973</td>\n",
       "      <td>-0.136346</td>\n",
       "      <td>0.021546</td>\n",
       "    </tr>\n",
       "    <tr>\n",
       "      <th>99603</th>\n",
       "      <td>0.225511</td>\n",
       "      <td>-1.405315</td>\n",
       "      <td>0.868474</td>\n",
       "    </tr>\n",
       "    <tr>\n",
       "      <th>1959</th>\n",
       "      <td>-0.030879</td>\n",
       "      <td>-1.007879</td>\n",
       "      <td>0.425792</td>\n",
       "    </tr>\n",
       "    <tr>\n",
       "      <th>62056</th>\n",
       "      <td>1.245253</td>\n",
       "      <td>-1.454176</td>\n",
       "      <td>-0.138474</td>\n",
       "    </tr>\n",
       "    <tr>\n",
       "      <th>166920</th>\n",
       "      <td>1.977732</td>\n",
       "      <td>-0.339106</td>\n",
       "      <td>-0.324575</td>\n",
       "    </tr>\n",
       "    <tr>\n",
       "      <th>47456</th>\n",
       "      <td>1.452557</td>\n",
       "      <td>-1.995833</td>\n",
       "      <td>0.270439</td>\n",
       "    </tr>\n",
       "    <tr>\n",
       "      <th>172443</th>\n",
       "      <td>1.887592</td>\n",
       "      <td>-2.794897</td>\n",
       "      <td>0.741728</td>\n",
       "    </tr>\n",
       "    <tr>\n",
       "      <th>137705</th>\n",
       "      <td>-1.394614</td>\n",
       "      <td>0.099912</td>\n",
       "      <td>0.331286</td>\n",
       "    </tr>\n",
       "    <tr>\n",
       "      <th>160799</th>\n",
       "      <td>6.217576</td>\n",
       "      <td>-1.072926</td>\n",
       "      <td>-0.622995</td>\n",
       "    </tr>\n",
       "    <tr>\n",
       "      <th>169325</th>\n",
       "      <td>0.138441</td>\n",
       "      <td>-1.146238</td>\n",
       "      <td>0.571784</td>\n",
       "    </tr>\n",
       "  </tbody>\n",
       "</table>\n",
       "</div>"
      ],
      "text/plain": [
       "        principal component 1  principal component 2  principal component 3\n",
       "id_row                                                                     \n",
       "117131              -1.000973              -0.136346               0.021546\n",
       "99603                0.225511              -1.405315               0.868474\n",
       "1959                -0.030879              -1.007879               0.425792\n",
       "62056                1.245253              -1.454176              -0.138474\n",
       "166920               1.977732              -0.339106              -0.324575\n",
       "47456                1.452557              -1.995833               0.270439\n",
       "172443               1.887592              -2.794897               0.741728\n",
       "137705              -1.394614               0.099912               0.331286\n",
       "160799               6.217576              -1.072926              -0.622995\n",
       "169325               0.138441              -1.146238               0.571784"
      ]
     },
     "execution_count": 144,
     "metadata": {},
     "output_type": "execute_result"
    }
   ],
   "source": [
    "# Create a DataFrame with the three principal components.\n",
    "df_X1_pca = pd.DataFrame(data=X1_pca, index=X1_train.index, columns=[\"principal component 1\", \"principal component 2\", \"principal component 3\"])\n",
    "print(df_X1_pca.shape)\n",
    "df_X1_pca.head(10)"
   ]
  },
  {
   "cell_type": "code",
   "execution_count": 146,
   "id": "03746013",
   "metadata": {},
   "outputs": [
    {
     "name": "stderr",
     "output_type": "stream",
     "text": [
      "[Parallel(n_jobs=1)]: Using backend SequentialBackend with 1 concurrent workers.\n",
      "[Parallel(n_jobs=1)]: Done 300 out of 300 | elapsed:  1.4min finished\n",
      "[Parallel(n_jobs=1)]: Using backend SequentialBackend with 1 concurrent workers.\n",
      "[Parallel(n_jobs=1)]: Done 300 out of 300 | elapsed:    2.3s finished\n"
     ]
    }
   ],
   "source": [
    "# Fit and transform a regressor to the pca components\n",
    "# Also increase number of decision trees\n",
    "train1_features = pca1.fit_transform(X1_train_scaled)\n",
    "\n",
    "rf1_pca = RandomForestRegressor(n_estimators = 300, n_jobs = 1, \n",
    "                                         random_state = 78, verbose = 1, oob_score=True)\n",
    "\n",
    "rf1_pca.fit(train1_features, y1_train)\n",
    "\n",
    "test1_features = pca1.transform(X1_test_scaled)\n",
    "predictions1_pca = rf1_pca.predict(test1_features)"
   ]
  },
  {
   "cell_type": "code",
   "execution_count": 147,
   "id": "b338c0f9",
   "metadata": {},
   "outputs": [
    {
     "data": {
      "text/html": [
       "<div>\n",
       "<style scoped>\n",
       "    .dataframe tbody tr th:only-of-type {\n",
       "        vertical-align: middle;\n",
       "    }\n",
       "\n",
       "    .dataframe tbody tr th {\n",
       "        vertical-align: top;\n",
       "    }\n",
       "\n",
       "    .dataframe thead th {\n",
       "        text-align: right;\n",
       "    }\n",
       "</style>\n",
       "<table border=\"1\" class=\"dataframe\">\n",
       "  <thead>\n",
       "    <tr style=\"text-align: right;\">\n",
       "      <th></th>\n",
       "      <th>Actual</th>\n",
       "      <th>Predictions</th>\n",
       "      <th>residuals</th>\n",
       "    </tr>\n",
       "    <tr>\n",
       "      <th>id_row</th>\n",
       "      <th></th>\n",
       "      <th></th>\n",
       "      <th></th>\n",
       "    </tr>\n",
       "  </thead>\n",
       "  <tbody>\n",
       "    <tr>\n",
       "      <th>34</th>\n",
       "      <td>0.0201</td>\n",
       "      <td>0.337278</td>\n",
       "      <td>0.317178</td>\n",
       "    </tr>\n",
       "    <tr>\n",
       "      <th>39</th>\n",
       "      <td>0.0854</td>\n",
       "      <td>0.359921</td>\n",
       "      <td>0.274521</td>\n",
       "    </tr>\n",
       "    <tr>\n",
       "      <th>45</th>\n",
       "      <td>0.0527</td>\n",
       "      <td>0.305841</td>\n",
       "      <td>0.253141</td>\n",
       "    </tr>\n",
       "    <tr>\n",
       "      <th>47</th>\n",
       "      <td>0.0000</td>\n",
       "      <td>0.384374</td>\n",
       "      <td>0.384374</td>\n",
       "    </tr>\n",
       "    <tr>\n",
       "      <th>49</th>\n",
       "      <td>0.1305</td>\n",
       "      <td>0.123859</td>\n",
       "      <td>-0.006641</td>\n",
       "    </tr>\n",
       "    <tr>\n",
       "      <th>53</th>\n",
       "      <td>0.1280</td>\n",
       "      <td>0.085110</td>\n",
       "      <td>-0.042890</td>\n",
       "    </tr>\n",
       "    <tr>\n",
       "      <th>60</th>\n",
       "      <td>0.1255</td>\n",
       "      <td>0.401444</td>\n",
       "      <td>0.275944</td>\n",
       "    </tr>\n",
       "    <tr>\n",
       "      <th>72</th>\n",
       "      <td>1.8953</td>\n",
       "      <td>0.441232</td>\n",
       "      <td>-1.454068</td>\n",
       "    </tr>\n",
       "    <tr>\n",
       "      <th>74</th>\n",
       "      <td>0.4293</td>\n",
       "      <td>0.190255</td>\n",
       "      <td>-0.239045</td>\n",
       "    </tr>\n",
       "    <tr>\n",
       "      <th>77</th>\n",
       "      <td>0.6577</td>\n",
       "      <td>0.865044</td>\n",
       "      <td>0.207344</td>\n",
       "    </tr>\n",
       "    <tr>\n",
       "      <th>79</th>\n",
       "      <td>0.0000</td>\n",
       "      <td>0.795737</td>\n",
       "      <td>0.795737</td>\n",
       "    </tr>\n",
       "    <tr>\n",
       "      <th>84</th>\n",
       "      <td>1.0970</td>\n",
       "      <td>0.712820</td>\n",
       "      <td>-0.384180</td>\n",
       "    </tr>\n",
       "    <tr>\n",
       "      <th>92</th>\n",
       "      <td>1.8501</td>\n",
       "      <td>1.056088</td>\n",
       "      <td>-0.794012</td>\n",
       "    </tr>\n",
       "    <tr>\n",
       "      <th>98</th>\n",
       "      <td>1.6468</td>\n",
       "      <td>1.522668</td>\n",
       "      <td>-0.124132</td>\n",
       "    </tr>\n",
       "    <tr>\n",
       "      <th>101</th>\n",
       "      <td>1.5664</td>\n",
       "      <td>2.020101</td>\n",
       "      <td>0.453701</td>\n",
       "    </tr>\n",
       "    <tr>\n",
       "      <th>109</th>\n",
       "      <td>1.6468</td>\n",
       "      <td>1.553878</td>\n",
       "      <td>-0.092922</td>\n",
       "    </tr>\n",
       "    <tr>\n",
       "      <th>111</th>\n",
       "      <td>1.6669</td>\n",
       "      <td>1.656295</td>\n",
       "      <td>-0.010605</td>\n",
       "    </tr>\n",
       "    <tr>\n",
       "      <th>116</th>\n",
       "      <td>1.3581</td>\n",
       "      <td>1.560069</td>\n",
       "      <td>0.201969</td>\n",
       "    </tr>\n",
       "    <tr>\n",
       "      <th>119</th>\n",
       "      <td>0.7782</td>\n",
       "      <td>1.789955</td>\n",
       "      <td>1.011755</td>\n",
       "    </tr>\n",
       "    <tr>\n",
       "      <th>121</th>\n",
       "      <td>0.3991</td>\n",
       "      <td>0.884722</td>\n",
       "      <td>0.485622</td>\n",
       "    </tr>\n",
       "  </tbody>\n",
       "</table>\n",
       "</div>"
      ],
      "text/plain": [
       "        Actual  Predictions  residuals\n",
       "id_row                                \n",
       "34      0.0201     0.337278   0.317178\n",
       "39      0.0854     0.359921   0.274521\n",
       "45      0.0527     0.305841   0.253141\n",
       "47      0.0000     0.384374   0.384374\n",
       "49      0.1305     0.123859  -0.006641\n",
       "53      0.1280     0.085110  -0.042890\n",
       "60      0.1255     0.401444   0.275944\n",
       "72      1.8953     0.441232  -1.454068\n",
       "74      0.4293     0.190255  -0.239045\n",
       "77      0.6577     0.865044   0.207344\n",
       "79      0.0000     0.795737   0.795737\n",
       "84      1.0970     0.712820  -0.384180\n",
       "92      1.8501     1.056088  -0.794012\n",
       "98      1.6468     1.522668  -0.124132\n",
       "101     1.5664     2.020101   0.453701\n",
       "109     1.6468     1.553878  -0.092922\n",
       "111     1.6669     1.656295  -0.010605\n",
       "116     1.3581     1.560069   0.201969\n",
       "119     0.7782     1.789955   1.011755\n",
       "121     0.3991     0.884722   0.485622"
      ]
     },
     "execution_count": 147,
     "metadata": {},
     "output_type": "execute_result"
    }
   ],
   "source": [
    "# Create a new DataFrame \n",
    "predictions1_pca_df = pd.DataFrame({'Actual': y1_test, 'Predictions': predictions1_pca, 'residuals': predictions1_pca - y1_test})\n",
    "predictions1_pca_df.sort_values('id_row').head(20)"
   ]
  },
  {
   "cell_type": "code",
   "execution_count": 150,
   "id": "5b7c76a4",
   "metadata": {},
   "outputs": [
    {
     "name": "stdout",
     "output_type": "stream",
     "text": [
      "R-squared (R2 ): -0.613\n",
      "mean absolute error (MAE):  24.216\n",
      "mean squared error (MSE):  3883.128\n",
      "Root Mean Squared Error (RMSE):  62.315\n"
     ]
    }
   ],
   "source": [
    "# Score the selection model on testing data with R2, MAE, MSE, RMSE.\n",
    "r2 = r2_score(y_test, predictions1_pca)\n",
    "mae = metrics.mean_absolute_error(y_test, predictions1_pca)\n",
    "mse = mean_squared_error(y_test, predictions1_pca)\n",
    "RMSE = metrics.mean_squared_error(y_test, predictions1_pca, squared=False)\n",
    "\n",
    "print(f\"R-squared (R2 ): {r2: .3f}\")\n",
    "print(f\"mean absolute error (MAE): {mae: .3f}\")\n",
    "print(f\"mean squared error (MSE): {mse: .3f}\")\n",
    "print(f\"Root Mean Squared Error (RMSE): {RMSE: .3f}\")"
   ]
  },
  {
   "cell_type": "markdown",
   "id": "a5bf5333",
   "metadata": {},
   "source": [
    "**Using PCA on non collinear features (13) in addition to increasing number of decision trees affected the original model negatively.**"
   ]
  },
  {
   "cell_type": "markdown",
   "id": "8ae22b14",
   "metadata": {},
   "source": [
    "# Deep Learning Neural Network"
   ]
  },
  {
   "cell_type": "code",
   "execution_count": null,
   "id": "d9dbaeac",
   "metadata": {},
   "outputs": [],
   "source": [
    "# # Define the model - deep neural net\n",
    "\n",
    "# # Define the input and hidden layers.\n",
    "# number_input_features = len(X_train_scaled[0])\n",
    "# hidden_nodes_layer1 = 8\n",
    "# hidden_nodes_layer2 = 5\n",
    "\n",
    "# # Generate a new Sequential model.\n",
    "# nn_16 = tf.keras.models.Sequential()\n",
    "\n",
    "# # Add the input and first hidden layer.\n",
    "# nn_16.add(tf.keras.layers.Dense(units=hidden_nodes_layer1, \n",
    "#                              input_dim=number_input_features, \n",
    "#                              activation=\"relu\"))\n",
    "# # Add second hiddern layer.\n",
    "# nn_16.add(tf.keras.layers.Dense(units=hidden_nodes_layer2, \n",
    "#                              activation=\"relu\"))\n",
    "# # Output layer.\n",
    "# nn_16.add(tf.keras.layers.Dense(units=1, activation=\"relu\"))\n",
    "\n",
    "# # Check the structure of the model.\n",
    "# nn_16.summary()"
   ]
  },
  {
   "cell_type": "code",
   "execution_count": null,
   "id": "1dde464d",
   "metadata": {},
   "outputs": [],
   "source": [
    "# # Import checkpoint dependencies\n",
    "# import os\n",
    "# from tensorflow.keras.callbacks import ModelCheckpoint"
   ]
  },
  {
   "cell_type": "code",
   "execution_count": null,
   "id": "bd08b797",
   "metadata": {},
   "outputs": [],
   "source": [
    "# # Define the checkpoint path and filenames\n",
    "# os.makedirs(\"checkpoints_16/\", exist_ok=True)\n",
    "# checkpoint_16_path = \"checkpoints_16/weights.{epoch:02d}.hdf5\""
   ]
  },
  {
   "cell_type": "code",
   "execution_count": null,
   "id": "34a0b9f2",
   "metadata": {},
   "outputs": [],
   "source": [
    "# # Compile the model.\n",
    "# nn_16.compile(loss=\"mse\", optimizer=\"adam\", metrics=['mae'])"
   ]
  },
  {
   "cell_type": "code",
   "execution_count": null,
   "id": "ce79b1eb",
   "metadata": {},
   "outputs": [],
   "source": [
    "# # Create a callback that saves the model's weights every epoch\n",
    "# cp_callback = ModelCheckpoint(\n",
    "#     filepath = checkpoint_16_path,\n",
    "#     verbose=1,\n",
    "#     save_weights_only=True,\n",
    "#     save_freq='epoch')"
   ]
  },
  {
   "cell_type": "markdown",
   "id": "4de4df4d",
   "metadata": {},
   "source": [
    "#### Train & Evaluate"
   ]
  },
  {
   "cell_type": "code",
   "execution_count": null,
   "id": "6fce295f",
   "metadata": {},
   "outputs": [],
   "source": [
    "# # Train the model. shuffle=True?\n",
    "# fit_16_model = nn_16.fit(X_train_scaled, y_train, epochs=100,  validation_split=0.2, shuffle=True, callbacks=[cp_callback])"
   ]
  },
  {
   "cell_type": "code",
   "execution_count": null,
   "id": "4b47c916",
   "metadata": {},
   "outputs": [],
   "source": [
    "# # Create a DataFrame containing multi-neuron training history. \n",
    "# nn_16_history_df = pd.DataFrame(fit_16_model.history, index=range(1, len(fit_16_model.history[\"loss\"])+1))\n",
    "# nn_16_history_df.head()"
   ]
  },
  {
   "cell_type": "code",
   "execution_count": null,
   "id": "59542798",
   "metadata": {},
   "outputs": [],
   "source": [
    "# # Plot the training and validation accuracy and loss at each epoch\n",
    "# loss = fit_16_model.history['loss']\n",
    "# val_loss = fit_16_model.history['val_loss']\n",
    "# epochs= range(1, len(loss) + 1)\n",
    "# plt.figure(figsize=(10, 8))\n",
    "# plt.plot(epochs, loss, 'y', label='Training Loss')\n",
    "# plt.plot(epochs, val_loss, 'r', label='Validation Loss')\n",
    "# plt.title('Training and validation Loss')\n",
    "# plt.xlabel('Epochs')\n",
    "# plt.ylabel('Loss')\n",
    "# plt.legend()\n",
    "# plt.show"
   ]
  },
  {
   "cell_type": "code",
   "execution_count": null,
   "id": "464a42d9",
   "metadata": {},
   "outputs": [],
   "source": [
    "# acc = fit_16_model.history['mae']\n",
    "# val_acc = fit_16_model.history['val_mae']\n",
    "# plt.figure(figsize=(10, 8))\n",
    "# plt.plot(epochs, acc, 'y', label='Training MAE')\n",
    "# plt.plot(epochs, val_acc, 'r', label='Validation MAE')\n",
    "# plt.title('Training and Validation MAE')\n",
    "# plt.xlabel('Epochs')\n",
    "# plt.ylabel('Accuracy')\n",
    "# plt.legend()\n",
    "# plt.show()"
   ]
  },
  {
   "cell_type": "code",
   "execution_count": null,
   "id": "960bfb6f",
   "metadata": {},
   "outputs": [],
   "source": [
    "# # Predict on test data\n",
    "# predictions_nn16 = nn_16.predict(X_test_scaled[:5])\n",
    "# print(\"Predicted values are: \", predictions_nn16)\n",
    "# print(\"Real values are: \", y_test[:5])"
   ]
  },
  {
   "cell_type": "code",
   "execution_count": null,
   "id": "0d0a7bbd",
   "metadata": {},
   "outputs": [],
   "source": [
    "# # Neural Network evaluation\n",
    "# mse_neural, mae_neural = nn_16.evaluate(X_test_scaled, y_test)\n",
    "# print(\"Mean squared error from neural net: \", mse_neural)\n",
    "# print(\"Mean absolute error from neural net: \", mae_neural)"
   ]
  },
  {
   "cell_type": "code",
   "execution_count": null,
   "id": "466f8dc0",
   "metadata": {},
   "outputs": [],
   "source": [
    "# # Create a new dataframe with actual and predictions values\n",
    "# nn_16_predictions = nn_16_enhanced.predict(X_scaled)\n",
    "# predictions16_df = pd.DataFrame({\"Actual\": y, \"Predicted\": nn_16_predictions, \"residuals\": nn_16_predictions - y})[[\"Actual\", \"Predicted\", \"residuals\"]]\n",
    "# predictions16_df.head(5)"
   ]
  },
  {
   "cell_type": "code",
   "execution_count": null,
   "id": "88d591c6",
   "metadata": {},
   "outputs": [],
   "source": []
  },
  {
   "cell_type": "markdown",
   "id": "998cd84e",
   "metadata": {},
   "source": [
    "### Deep Learning Neural Network Enhancement"
   ]
  },
  {
   "cell_type": "markdown",
   "id": "962301fa",
   "metadata": {},
   "source": [
    "### Increase Nodes and Epochs on 16 Features"
   ]
  },
  {
   "cell_type": "code",
   "execution_count": null,
   "id": "6b3b7386",
   "metadata": {},
   "outputs": [],
   "source": [
    "# # Define the model - deep neural net\n",
    "\n",
    "# # Define the input and hidden layers.\n",
    "# number_input_features = len(X_train_scaled[0])\n",
    "# hidden_nodes_layer1 = 128\n",
    "# hidden_nodes_layer2 = 64\n",
    "\n",
    "# # Generate a new Sequential model.\n",
    "# nn_16_enhanced = tf.keras.models.Sequential()\n",
    "\n",
    "# # Add the input and first hidden layer.\n",
    "# nn_16_enhanced.add(tf.keras.layers.Dense(units=hidden_nodes_layer1, \n",
    "#                              input_dim=number_input_features, \n",
    "#                              activation=\"relu\"))\n",
    "# # Add second hiddern layer.\n",
    "# nn_16_enhanced.add(tf.keras.layers.Dense(units=hidden_nodes_layer2, \n",
    "#                              activation=\"relu\"))\n",
    "# # Output layer.\n",
    "# nn_16_enhanced.add(tf.keras.layers.Dense(units=1, activation=\"relu\"))\n",
    "\n",
    "# # Check the structure of the model.\n",
    "# nn_16_enhanced.summary()"
   ]
  },
  {
   "cell_type": "code",
   "execution_count": null,
   "id": "1980e700",
   "metadata": {},
   "outputs": [],
   "source": [
    "# # Import checkpoint dependencies\n",
    "# import os\n",
    "# from tensorflow.keras.callbacks import ModelCheckpoint"
   ]
  },
  {
   "cell_type": "code",
   "execution_count": null,
   "id": "d5b9038c",
   "metadata": {},
   "outputs": [],
   "source": [
    "# # Define the checkpoint path and filenames\n",
    "# os.makedirs(\"checkpoints/\", exist_ok=True)\n",
    "# checkpoint_path = \"checkpoints/weights.{epoch:02d}.hdf5\""
   ]
  },
  {
   "cell_type": "code",
   "execution_count": null,
   "id": "8c7f0e1a",
   "metadata": {},
   "outputs": [],
   "source": [
    "# # Compile the model.\n",
    "# nn_16_enhanced.compile(loss=\"mse\", optimizer=\"adam\", metrics=['mae'])"
   ]
  },
  {
   "cell_type": "code",
   "execution_count": null,
   "id": "6f1420a9",
   "metadata": {},
   "outputs": [],
   "source": [
    "# # Create a callback that saves the model's weights every epoch\n",
    "# cp_callback = ModelCheckpoint(\n",
    "#     filepath = checkpoint_path,\n",
    "#     verbose=1,\n",
    "#     save_weights_only=True,\n",
    "#     save_freq='epoch')"
   ]
  },
  {
   "cell_type": "markdown",
   "id": "73641693",
   "metadata": {},
   "source": [
    "#### Train & Evaluate"
   ]
  },
  {
   "cell_type": "code",
   "execution_count": null,
   "id": "c1cc6ee9",
   "metadata": {},
   "outputs": [],
   "source": [
    "# callbacks=[cp_callback]"
   ]
  },
  {
   "cell_type": "code",
   "execution_count": null,
   "id": "25a27445",
   "metadata": {},
   "outputs": [],
   "source": [
    "# # Train the model. shuffle=True?\n",
    "# fit_16_enhanced_model = nn_16_enhanced.fit(X_train_scaled, y_train, epochs=150,  validation_split=0.2, shuffle=True)"
   ]
  },
  {
   "cell_type": "code",
   "execution_count": null,
   "id": "7f09b4e5",
   "metadata": {},
   "outputs": [],
   "source": [
    "# # Create a DataFrame containing multi-neuron training history. \n",
    "# nn_16_enhanced_history_df = pd.DataFrame(fit_16_enhanced_model.history, index=range(1, len(fit_16_enhanced_model.history[\"loss\"])+1))\n",
    "# nn_16_enhanced_history_df.head()"
   ]
  },
  {
   "cell_type": "code",
   "execution_count": null,
   "id": "ad8b8500",
   "metadata": {},
   "outputs": [],
   "source": [
    "# # Plot the training and validation accuracy and loss at each epoch\n",
    "# loss = fit_16_enhanced_model.history['loss']\n",
    "# val_loss = fit_16_enhanced_model.history['val_loss']\n",
    "# epochs= range(1, len(loss) + 1)\n",
    "# plt.plot(epochs, loss, 'y', label='Training Loss')\n",
    "# plt.plot(epochs, val_loss, 'r', label='Validation Loss')\n",
    "# plt.title('Training and validation Loss')\n",
    "# plt.xlabel('Epochs')\n",
    "# plt.ylabel('Loss')\n",
    "# plt.legend()\n",
    "# plt.show"
   ]
  },
  {
   "cell_type": "code",
   "execution_count": null,
   "id": "3187d888",
   "metadata": {},
   "outputs": [],
   "source": [
    "# acc = fit_16_enhanced_model.history['mae']\n",
    "# val_acc = fit_16_enhanced_model.history['val_mae']\n",
    "# plt.plot(epochs, acc, 'y', label='Training MAE')\n",
    "# plt.plot(epochs, val_acc, 'r', label='Validation MAE')\n",
    "# plt.title('Training and Validation MAE')\n",
    "# plt.xlabel('Epochs')\n",
    "# plt.ylabel('Accuracy')\n",
    "# plt.legend()\n",
    "# plt.show()"
   ]
  },
  {
   "cell_type": "code",
   "execution_count": null,
   "id": "3a600451",
   "metadata": {},
   "outputs": [],
   "source": [
    "# # Predict on test data\n",
    "# predictions_nn16_enhanced = nn_16_enhanced.predict(X_test_scaled[:5])\n",
    "# print(\"Predicted values are: \", predictions_nn16_enhanced)\n",
    "# print(\"Real values are: \", y_test[:5])"
   ]
  },
  {
   "cell_type": "code",
   "execution_count": null,
   "id": "26c4cf36",
   "metadata": {},
   "outputs": [],
   "source": [
    "# # Neural Network evaluation\n",
    "# mse_neural, mae_neural = nn_16_enhanced.evaluate(X_test_scaled, y_test)\n",
    "# print(\"Mean squared error from neural net: \", mse_neural)\n",
    "# print(\"Mean absolute error from neural net: \", mae_neural)"
   ]
  },
  {
   "cell_type": "code",
   "execution_count": null,
   "id": "211460d4",
   "metadata": {},
   "outputs": [],
   "source": [
    "# predictions16 = nn_16_enhanced.predict(X_test_scaled)\n",
    "# predictions16\n"
   ]
  },
  {
   "cell_type": "code",
   "execution_count": null,
   "id": "bd82d420",
   "metadata": {},
   "outputs": [],
   "source": [
    "# predictions16_df = pd.DataFrame({\"Actual\": y_test, \"Predicted\": predictions16, \"Error\": predictions16 - y_test})[[\"Actual\", \"Predicted\", \"Error\"]]\n",
    "# predictions16_df.head(5)"
   ]
  },
  {
   "cell_type": "markdown",
   "id": "b53e1a65",
   "metadata": {},
   "source": [
    "#### Reducing Number of Features by Removine Ones with Severe Collinearity"
   ]
  },
  {
   "cell_type": "code",
   "execution_count": null,
   "id": "34575880",
   "metadata": {},
   "outputs": [],
   "source": [
    "# # Define the model - deep neural net\n",
    "\n",
    "# # Define the input and hidden layers.\n",
    "# number_input_features = len(X1_train_scaled[0])\n",
    "# hidden_nodes_layer1 = 128\n",
    "# hidden_nodes_layer2 = 64\n",
    "\n",
    "# # Generate a new Sequential model.\n",
    "# nn_13 = tf.keras.models.Sequential()\n",
    "\n",
    "# # Add the input and first hidden layer.\n",
    "# nn_13.add(tf.keras.layers.Dense(units=hidden_nodes_layer1, \n",
    "#                              input_dim=number_input_features, \n",
    "#                              activation=\"relu\"))\n",
    "# # Add second hiddern layer.\n",
    "# nn_13.add(tf.keras.layers.Dense(units=hidden_nodes_layer2, \n",
    "#                              activation=\"relu\"))\n",
    "# # Output layer.\n",
    "# nn_13.add(tf.keras.layers.Dense(units=1, activation=\"relu\"))\n",
    "\n",
    "# # Check the structure of the model.\n",
    "# nn_13.summary()"
   ]
  },
  {
   "cell_type": "code",
   "execution_count": null,
   "id": "fda6de78",
   "metadata": {},
   "outputs": [],
   "source": [
    "# len(X1_train_scaled[0])"
   ]
  },
  {
   "cell_type": "code",
   "execution_count": null,
   "id": "c6088bf0",
   "metadata": {},
   "outputs": [],
   "source": [
    "# # Compile the model.\n",
    "# nn_13.compile(loss=\"mse\", optimizer=\"adam\", metrics=['mae'])"
   ]
  },
  {
   "cell_type": "markdown",
   "id": "97068a00",
   "metadata": {},
   "source": [
    "#### Train & Evaluate"
   ]
  },
  {
   "cell_type": "code",
   "execution_count": null,
   "id": "37578b7e",
   "metadata": {},
   "outputs": [],
   "source": [
    "# # Train the model. shuffle=True?\n",
    "# fit_13_model = nn_13.fit(X1_train_scaled, y1_train, epochs=150, shuffle=True)"
   ]
  },
  {
   "cell_type": "code",
   "execution_count": null,
   "id": "ca154916",
   "metadata": {},
   "outputs": [],
   "source": [
    "# # Create a DataFrame containing multi-neuron training history. \n",
    "# nn_13_enhanced_history_df = pd.DataFrame(fit_13_model.history, index=range(1, len(fit_13_model.history[\"loss\"])+1))\n",
    "# nn_13_enhanced_history_df.head()"
   ]
  },
  {
   "cell_type": "code",
   "execution_count": null,
   "id": "a102bbe9",
   "metadata": {},
   "outputs": [],
   "source": [
    "# # Plot the loss. \n",
    "# nn_13_enhanced_history_df.plot(y=\"loss\")"
   ]
  },
  {
   "cell_type": "code",
   "execution_count": null,
   "id": "0f1e1628",
   "metadata": {},
   "outputs": [],
   "source": [
    "# # Plot the accuracy.\n",
    "# nn_13_enhanced_history_df.plot(y=\"mae\")"
   ]
  },
  {
   "cell_type": "code",
   "execution_count": null,
   "id": "58ab0b3c",
   "metadata": {},
   "outputs": [],
   "source": [
    "# # Neural Network evaluation\n",
    "# mse_neural, mae_neural = nn_13.evaluate(X1_test_scaled, y1_test)\n",
    "# print(\"Mean squared error from neural net: \", mse_neural)\n",
    "# print(\"Mean absolute error from neural net: \", mae_neural)"
   ]
  },
  {
   "cell_type": "code",
   "execution_count": null,
   "id": "ed10d0f8",
   "metadata": {},
   "outputs": [],
   "source": [
    "# predictions = nn_13.predict(X1_test_scaled)\n",
    "# predictions"
   ]
  },
  {
   "cell_type": "markdown",
   "id": "9a65ecdb",
   "metadata": {},
   "source": [
    "#### Rerun the Model & Load Weights from Checkpoints"
   ]
  },
  {
   "cell_type": "code",
   "execution_count": null,
   "id": "8062b6c8",
   "metadata": {},
   "outputs": [],
   "source": [
    "# # Define the model - deep neural net\n",
    "# number_input_features = len(X_train_scaled[0])\n",
    "# hidden_nodes_layer1 = 8\n",
    "# hidden_nodes_layer2 = 5\n",
    "\n",
    "# # Generate a new Sequential model.\n",
    "# nn_new = tf.keras.models.Sequential()\n",
    "\n",
    "# # Add the input and first hidden layer.\n",
    "# nn_new.add(tf.keras.layers.Dense(units=hidden_nodes_layer1, \n",
    "#                              input_dim=number_input_features, \n",
    "#                              activation=\"relu\"))\n",
    "# # Add second hiddern layer.\n",
    "# nn_new.add(tf.keras.layers.Dense(units=hidden_nodes_layer2, \n",
    "#                              activation=\"relu\"))\n",
    "# # Output layer.\n",
    "# nn_new.add(tf.keras.layers.Dense(units=1, activation=\"relu\"))\n",
    "\n",
    "# # Check the structure of the model.\n",
    "# nn_new.summary()"
   ]
  },
  {
   "cell_type": "code",
   "execution_count": null,
   "id": "9b915fbe",
   "metadata": {},
   "outputs": [],
   "source": [
    "# # Compile the model.\n",
    "# nn_new.compile(loss=\"mse\", optimizer=\"adam\", metrics=[tf.keras.metrics.MeanSquaredError()])"
   ]
  },
  {
   "cell_type": "code",
   "execution_count": null,
   "id": "a3513bde",
   "metadata": {},
   "outputs": [],
   "source": [
    "# # Restore the model weights\n",
    "# nn_new.load_weights(\"checkpoints_16/weights.100.hdf5\")"
   ]
  },
  {
   "cell_type": "code",
   "execution_count": null,
   "id": "860a2d37",
   "metadata": {},
   "outputs": [],
   "source": [
    "# # Evaluate the model using the test data\n",
    "# model_loss, model_accuracy = nn_new.evaluate(X_test_scaled,y_test,verbose=2)\n",
    "# print(f\"Loss: {model_loss}, Mean Square Error: {model_accuracy}\")"
   ]
  },
  {
   "cell_type": "markdown",
   "id": "5167333c",
   "metadata": {},
   "source": [
    "#### Export the Model to an HDF5 File"
   ]
  },
  {
   "cell_type": "code",
   "execution_count": null,
   "id": "10604a48",
   "metadata": {},
   "outputs": [],
   "source": [
    "# # Export our model to HDF5 file\n",
    "# nn_new.save(\"trained_covid.h5\")"
   ]
  },
  {
   "cell_type": "markdown",
   "id": "6535132e",
   "metadata": {},
   "source": [
    "#### Importing the Saved Model"
   ]
  },
  {
   "cell_type": "code",
   "execution_count": null,
   "id": "637ad9db",
   "metadata": {},
   "outputs": [],
   "source": [
    "# # Import the model to a new object\n",
    "# nn_imported = tf.keras.models.load_model('trained_covid.h5')"
   ]
  },
  {
   "cell_type": "code",
   "execution_count": null,
   "id": "59aba3bb",
   "metadata": {},
   "outputs": [],
   "source": [
    "# # Check the structure of the imported model.\n",
    "# nn_imported.summary()"
   ]
  },
  {
   "cell_type": "code",
   "execution_count": null,
   "id": "f946bc58",
   "metadata": {},
   "outputs": [],
   "source": [
    "# # Evaluate the completed model using the test data.\n",
    "# model_loss, model_accuracy = nn_imported.evaluate(X_test_scaled, y_test, verbose=2)\n",
    "# print(f\"Loss: {model_loss}, Accuracy: {model_accuracy}\")"
   ]
  },
  {
   "cell_type": "code",
   "execution_count": null,
   "id": "93db80de",
   "metadata": {},
   "outputs": [],
   "source": []
  },
  {
   "cell_type": "code",
   "execution_count": null,
   "id": "73b233b8",
   "metadata": {},
   "outputs": [],
   "source": []
  },
  {
   "cell_type": "markdown",
   "id": "a55aa609",
   "metadata": {},
   "source": [
    "   "
   ]
  }
 ],
 "metadata": {
  "kernelspec": {
   "display_name": "mlenv",
   "language": "python",
   "name": "mlenv"
  },
  "language_info": {
   "codemirror_mode": {
    "name": "ipython",
    "version": 3
   },
   "file_extension": ".py",
   "mimetype": "text/x-python",
   "name": "python",
   "nbconvert_exporter": "python",
   "pygments_lexer": "ipython3",
   "version": "3.7.13"
  }
 },
 "nbformat": 4,
 "nbformat_minor": 5
}
