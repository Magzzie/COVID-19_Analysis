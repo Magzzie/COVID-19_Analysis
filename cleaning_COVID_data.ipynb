{
  "nbformat": 4,
  "nbformat_minor": 0,
  "metadata": {
    "colab": {
      "name": "cleaning_COVID_data.ipynb",
      "provenance": [],
      "collapsed_sections": []
    },
    "kernelspec": {
      "name": "python3",
      "display_name": "Python 3"
    },
    "language_info": {
      "name": "python"
    }
  },
  "cells": [
    {
      "cell_type": "code",
      "execution_count": 16,
      "metadata": {
        "colab": {
          "base_uri": "https://localhost:8080/"
        },
        "id": "IjyS16H7T7gL",
        "outputId": "00fdd975-da85-46a6-b3c1-9c321c7ec3b0"
      },
      "outputs": [
        {
          "output_type": "stream",
          "name": "stdout",
          "text": [
            "\r0% [Working]\r            \rHit:1 https://developer.download.nvidia.com/compute/cuda/repos/ubuntu1804/x86_64  InRelease\n",
            "Get:2 http://security.ubuntu.com/ubuntu bionic-security InRelease [88.7 kB]\n",
            "Hit:3 http://archive.ubuntu.com/ubuntu bionic InRelease\n",
            "Hit:4 https://cloud.r-project.org/bin/linux/ubuntu bionic-cran40/ InRelease\n",
            "Get:5 http://archive.ubuntu.com/ubuntu bionic-updates InRelease [88.7 kB]\n",
            "Ign:6 https://developer.download.nvidia.com/compute/machine-learning/repos/ubuntu1804/x86_64  InRelease\n",
            "Hit:7 https://developer.download.nvidia.com/compute/machine-learning/repos/ubuntu1804/x86_64  Release\n",
            "Hit:8 http://ppa.launchpad.net/c2d4u.team/c2d4u4.0+/ubuntu bionic InRelease\n",
            "Get:9 http://archive.ubuntu.com/ubuntu bionic-backports InRelease [74.6 kB]\n",
            "Hit:10 http://ppa.launchpad.net/cran/libgit2/ubuntu bionic InRelease\n",
            "Hit:11 http://ppa.launchpad.net/deadsnakes/ppa/ubuntu bionic InRelease\n",
            "Hit:12 http://ppa.launchpad.net/graphics-drivers/ppa/ubuntu bionic InRelease\n",
            "Fetched 252 kB in 3s (76.2 kB/s)\n",
            "Reading package lists... Done\n"
          ]
        }
      ],
      "source": [
        "import os\n",
        "# Find the latest version of spark 3.0 from http://www.apache.org/dist/spark/ and enter as the spark version\n",
        "# For example:\n",
        "# spark_version = 'spark-3.0.3'\n",
        "spark_version = 'spark-3.0.3'\n",
        "os.environ['SPARK_VERSION']=spark_version\n",
        "\n",
        "# Install Spark and Java\n",
        "!apt-get update\n",
        "!apt-get install openjdk-11-jdk-headless -qq > /dev/null\n",
        "!wget -q http://www.apache.org/dist/spark/$SPARK_VERSION/$SPARK_VERSION-bin-hadoop2.7.tgz\n",
        "!tar xf $SPARK_VERSION-bin-hadoop2.7.tgz\n",
        "!pip install -q findspark\n",
        "\n",
        "# Set Environment Variables\n",
        "import os\n",
        "os.environ[\"JAVA_HOME\"] = \"/usr/lib/jvm/java-11-openjdk-amd64\"\n",
        "os.environ[\"SPARK_HOME\"] = f\"/content/{spark_version}-bin-hadoop2.7\"\n",
        "\n",
        "# Start a SparkSession\n",
        "import findspark\n",
        "findspark.init()"
      ]
    },
    {
      "cell_type": "code",
      "source": [
        "# Download the Postgres driver that will allow Spark to interact with Postgres.\n",
        "!wget https://jdbc.postgresql.org/download/postgresql-42.2.16.jar"
      ],
      "metadata": {
        "colab": {
          "base_uri": "https://localhost:8080/"
        },
        "id": "mZKQvv1AUdUy",
        "outputId": "2095fbb5-33ca-4610-d5d5-1922b8402ace"
      },
      "execution_count": 17,
      "outputs": [
        {
          "output_type": "stream",
          "name": "stdout",
          "text": [
            "--2022-07-10 15:52:20--  https://jdbc.postgresql.org/download/postgresql-42.2.16.jar\n",
            "Resolving jdbc.postgresql.org (jdbc.postgresql.org)... 72.32.157.228, 2001:4800:3e1:1::228\n",
            "Connecting to jdbc.postgresql.org (jdbc.postgresql.org)|72.32.157.228|:443... connected.\n",
            "HTTP request sent, awaiting response... 200 OK\n",
            "Length: 1002883 (979K) [application/java-archive]\n",
            "Saving to: ‘postgresql-42.2.16.jar.1’\n",
            "\n",
            "postgresql-42.2.16. 100%[===================>] 979.38K  --.-KB/s    in 0.08s   \n",
            "\n",
            "2022-07-10 15:52:20 (11.3 MB/s) - ‘postgresql-42.2.16.jar.1’ saved [1002883/1002883]\n",
            "\n"
          ]
        }
      ]
    },
    {
      "cell_type": "code",
      "source": [
        "from pyspark.sql import SparkSession\n",
        "spark = SparkSession.builder.appName(\"Final-Project\").config(\"spark.driver.extraClassPath\",\"/content/postgresql-42.2.16.jar\").getOrCreate()"
      ],
      "metadata": {
        "id": "fTuxf-NgUkqe"
      },
      "execution_count": 18,
      "outputs": []
    },
    {
      "cell_type": "code",
      "source": [
        "# Read in data \n",
        "from pyspark import SparkFiles\n",
        "url = \"https://final-project-data-bucket.s3.us-east-2.amazonaws.com/owid-covid-data.csv\"\n",
        "spark.sparkContext.addFile(url)\n",
        "df = spark.read.option('header', 'true').csv(SparkFiles.get(\"owid-covid-data.csv\"), inferSchema=True, sep=',')\n",
        "\n",
        "# Show DataFrame\n",
        "df.show()"
      ],
      "metadata": {
        "colab": {
          "base_uri": "https://localhost:8080/"
        },
        "id": "BrPSmQ_-UuD2",
        "outputId": "729226eb-6365-4694-fe5a-a9b76c8f8f8f"
      },
      "execution_count": 19,
      "outputs": [
        {
          "output_type": "stream",
          "name": "stdout",
          "text": [
            "+--------+---------+-----------+----------+-----------+---------+------------------+------------+----------+-------------------+-----------------------+---------------------+------------------------------+------------------------+----------------------+-------------------------------+-----------------+------------+------------------------+-------------+-------------------------+---------------------+---------------------------------+----------------------+----------------------------------+-----------+---------+------------------------+----------------------+------------------+-------------------------------+-------------+--------------+-----------+------------------+-----------------+-----------------------+--------------+----------------+-------------------------+------------------------------+-----------------------------+-----------------------------------+--------------------------+-------------------------------------+------------------------------+------------------------------------------+----------------+-----------+------------------+----------+-------------+-------------+--------------+---------------+---------------------+-------------------+--------------+------------+----------------------+--------------------------+---------------+-----------------------+------------------------------------+---------------------------+----------------+---------------------------------------+\n",
            "|iso_code|continent|   location|      date|total_cases|new_cases|new_cases_smoothed|total_deaths|new_deaths|new_deaths_smoothed|total_cases_per_million|new_cases_per_million|new_cases_smoothed_per_million|total_deaths_per_million|new_deaths_per_million|new_deaths_smoothed_per_million|reproduction_rate|icu_patients|icu_patients_per_million|hosp_patients|hosp_patients_per_million|weekly_icu_admissions|weekly_icu_admissions_per_million|weekly_hosp_admissions|weekly_hosp_admissions_per_million|total_tests|new_tests|total_tests_per_thousand|new_tests_per_thousand|new_tests_smoothed|new_tests_smoothed_per_thousand|positive_rate|tests_per_case|tests_units|total_vaccinations|people_vaccinated|people_fully_vaccinated|total_boosters|new_vaccinations|new_vaccinations_smoothed|total_vaccinations_per_hundred|people_vaccinated_per_hundred|people_fully_vaccinated_per_hundred|total_boosters_per_hundred|new_vaccinations_smoothed_per_million|new_people_vaccinated_smoothed|new_people_vaccinated_smoothed_per_hundred|stringency_index| population|population_density|median_age|aged_65_older|aged_70_older|gdp_per_capita|extreme_poverty|cardiovasc_death_rate|diabetes_prevalence|female_smokers|male_smokers|handwashing_facilities|hospital_beds_per_thousand|life_expectancy|human_development_index|excess_mortality_cumulative_absolute|excess_mortality_cumulative|excess_mortality|excess_mortality_cumulative_per_million|\n",
            "+--------+---------+-----------+----------+-----------+---------+------------------+------------+----------+-------------------+-----------------------+---------------------+------------------------------+------------------------+----------------------+-------------------------------+-----------------+------------+------------------------+-------------+-------------------------+---------------------+---------------------------------+----------------------+----------------------------------+-----------+---------+------------------------+----------------------+------------------+-------------------------------+-------------+--------------+-----------+------------------+-----------------+-----------------------+--------------+----------------+-------------------------+------------------------------+-----------------------------+-----------------------------------+--------------------------+-------------------------------------+------------------------------+------------------------------------------+----------------+-----------+------------------+----------+-------------+-------------+--------------+---------------+---------------------+-------------------+--------------+------------+----------------------+--------------------------+---------------+-----------------------+------------------------------------+---------------------------+----------------+---------------------------------------+\n",
            "|     AFG|     Asia|Afghanistan|2020-02-24|        5.0|      5.0|              null|        null|      null|               null|                  0.126|                0.126|                          null|                    null|                  null|                           null|             null|        null|                    null|         null|                     null|                 null|                             null|                  null|                              null|       null|     null|                    null|                  null|              null|                           null|         null|          null|       null|              null|             null|                   null|          null|            null|                     null|                          null|                         null|                               null|                      null|                                 null|                          null|                                      null|            8.33|3.9835428E7|            54.422|      18.6|        2.581|        1.337|      1803.987|           null|              597.029|               9.59|          null|        null|                37.746|                       0.5|          64.83|                  0.511|                                null|                       null|            null|                                   null|\n",
            "|     AFG|     Asia|Afghanistan|2020-02-25|        5.0|      0.0|              null|        null|      null|               null|                  0.126|                  0.0|                          null|                    null|                  null|                           null|             null|        null|                    null|         null|                     null|                 null|                             null|                  null|                              null|       null|     null|                    null|                  null|              null|                           null|         null|          null|       null|              null|             null|                   null|          null|            null|                     null|                          null|                         null|                               null|                      null|                                 null|                          null|                                      null|            8.33|3.9835428E7|            54.422|      18.6|        2.581|        1.337|      1803.987|           null|              597.029|               9.59|          null|        null|                37.746|                       0.5|          64.83|                  0.511|                                null|                       null|            null|                                   null|\n",
            "|     AFG|     Asia|Afghanistan|2020-02-26|        5.0|      0.0|              null|        null|      null|               null|                  0.126|                  0.0|                          null|                    null|                  null|                           null|             null|        null|                    null|         null|                     null|                 null|                             null|                  null|                              null|       null|     null|                    null|                  null|              null|                           null|         null|          null|       null|              null|             null|                   null|          null|            null|                     null|                          null|                         null|                               null|                      null|                                 null|                          null|                                      null|            8.33|3.9835428E7|            54.422|      18.6|        2.581|        1.337|      1803.987|           null|              597.029|               9.59|          null|        null|                37.746|                       0.5|          64.83|                  0.511|                                null|                       null|            null|                                   null|\n",
            "|     AFG|     Asia|Afghanistan|2020-02-27|        5.0|      0.0|              null|        null|      null|               null|                  0.126|                  0.0|                          null|                    null|                  null|                           null|             null|        null|                    null|         null|                     null|                 null|                             null|                  null|                              null|       null|     null|                    null|                  null|              null|                           null|         null|          null|       null|              null|             null|                   null|          null|            null|                     null|                          null|                         null|                               null|                      null|                                 null|                          null|                                      null|            8.33|3.9835428E7|            54.422|      18.6|        2.581|        1.337|      1803.987|           null|              597.029|               9.59|          null|        null|                37.746|                       0.5|          64.83|                  0.511|                                null|                       null|            null|                                   null|\n",
            "|     AFG|     Asia|Afghanistan|2020-02-28|        5.0|      0.0|              null|        null|      null|               null|                  0.126|                  0.0|                          null|                    null|                  null|                           null|             null|        null|                    null|         null|                     null|                 null|                             null|                  null|                              null|       null|     null|                    null|                  null|              null|                           null|         null|          null|       null|              null|             null|                   null|          null|            null|                     null|                          null|                         null|                               null|                      null|                                 null|                          null|                                      null|            8.33|3.9835428E7|            54.422|      18.6|        2.581|        1.337|      1803.987|           null|              597.029|               9.59|          null|        null|                37.746|                       0.5|          64.83|                  0.511|                                null|                       null|            null|                                   null|\n",
            "|     AFG|     Asia|Afghanistan|2020-02-29|        5.0|      0.0|             0.714|        null|      null|               null|                  0.126|                  0.0|                         0.018|                    null|                  null|                           null|             null|        null|                    null|         null|                     null|                 null|                             null|                  null|                              null|       null|     null|                    null|                  null|              null|                           null|         null|          null|       null|              null|             null|                   null|          null|            null|                     null|                          null|                         null|                               null|                      null|                                 null|                          null|                                      null|            8.33|3.9835428E7|            54.422|      18.6|        2.581|        1.337|      1803.987|           null|              597.029|               9.59|          null|        null|                37.746|                       0.5|          64.83|                  0.511|                                null|                       null|            null|                                   null|\n",
            "|     AFG|     Asia|Afghanistan|2020-03-01|        5.0|      0.0|             0.714|        null|      null|               null|                  0.126|                  0.0|                         0.018|                    null|                  null|                           null|             null|        null|                    null|         null|                     null|                 null|                             null|                  null|                              null|       null|     null|                    null|                  null|              null|                           null|         null|          null|       null|              null|             null|                   null|          null|            null|                     null|                          null|                         null|                               null|                      null|                                 null|                          null|                                      null|           27.78|3.9835428E7|            54.422|      18.6|        2.581|        1.337|      1803.987|           null|              597.029|               9.59|          null|        null|                37.746|                       0.5|          64.83|                  0.511|                                null|                       null|            null|                                   null|\n",
            "|     AFG|     Asia|Afghanistan|2020-03-02|        5.0|      0.0|               0.0|        null|      null|               null|                  0.126|                  0.0|                           0.0|                    null|                  null|                           null|             null|        null|                    null|         null|                     null|                 null|                             null|                  null|                              null|       null|     null|                    null|                  null|              null|                           null|         null|          null|       null|              null|             null|                   null|          null|            null|                     null|                          null|                         null|                               null|                      null|                                 null|                          null|                                      null|           27.78|3.9835428E7|            54.422|      18.6|        2.581|        1.337|      1803.987|           null|              597.029|               9.59|          null|        null|                37.746|                       0.5|          64.83|                  0.511|                                null|                       null|            null|                                   null|\n",
            "|     AFG|     Asia|Afghanistan|2020-03-03|        5.0|      0.0|               0.0|        null|      null|               null|                  0.126|                  0.0|                           0.0|                    null|                  null|                           null|             null|        null|                    null|         null|                     null|                 null|                             null|                  null|                              null|       null|     null|                    null|                  null|              null|                           null|         null|          null|       null|              null|             null|                   null|          null|            null|                     null|                          null|                         null|                               null|                      null|                                 null|                          null|                                      null|           27.78|3.9835428E7|            54.422|      18.6|        2.581|        1.337|      1803.987|           null|              597.029|               9.59|          null|        null|                37.746|                       0.5|          64.83|                  0.511|                                null|                       null|            null|                                   null|\n",
            "|     AFG|     Asia|Afghanistan|2020-03-04|        5.0|      0.0|               0.0|        null|      null|               null|                  0.126|                  0.0|                           0.0|                    null|                  null|                           null|             null|        null|                    null|         null|                     null|                 null|                             null|                  null|                              null|       null|     null|                    null|                  null|              null|                           null|         null|          null|       null|              null|             null|                   null|          null|            null|                     null|                          null|                         null|                               null|                      null|                                 null|                          null|                                      null|           27.78|3.9835428E7|            54.422|      18.6|        2.581|        1.337|      1803.987|           null|              597.029|               9.59|          null|        null|                37.746|                       0.5|          64.83|                  0.511|                                null|                       null|            null|                                   null|\n",
            "|     AFG|     Asia|Afghanistan|2020-03-05|        5.0|      0.0|               0.0|        null|      null|               null|                  0.126|                  0.0|                           0.0|                    null|                  null|                           null|             null|        null|                    null|         null|                     null|                 null|                             null|                  null|                              null|       null|     null|                    null|                  null|              null|                           null|         null|          null|       null|              null|             null|                   null|          null|            null|                     null|                          null|                         null|                               null|                      null|                                 null|                          null|                                      null|           27.78|3.9835428E7|            54.422|      18.6|        2.581|        1.337|      1803.987|           null|              597.029|               9.59|          null|        null|                37.746|                       0.5|          64.83|                  0.511|                                null|                       null|            null|                                   null|\n",
            "|     AFG|     Asia|Afghanistan|2020-03-06|        5.0|      0.0|               0.0|        null|      null|               null|                  0.126|                  0.0|                           0.0|                    null|                  null|                           null|             null|        null|                    null|         null|                     null|                 null|                             null|                  null|                              null|       null|     null|                    null|                  null|              null|                           null|         null|          null|       null|              null|             null|                   null|          null|            null|                     null|                          null|                         null|                               null|                      null|                                 null|                          null|                                      null|           27.78|3.9835428E7|            54.422|      18.6|        2.581|        1.337|      1803.987|           null|              597.029|               9.59|          null|        null|                37.746|                       0.5|          64.83|                  0.511|                                null|                       null|            null|                                   null|\n",
            "|     AFG|     Asia|Afghanistan|2020-03-07|        8.0|      3.0|             0.429|        null|      null|               null|                  0.201|                0.075|                         0.011|                    null|                  null|                           null|             null|        null|                    null|         null|                     null|                 null|                             null|                  null|                              null|       null|     null|                    null|                  null|              null|                           null|         null|          null|       null|              null|             null|                   null|          null|            null|                     null|                          null|                         null|                               null|                      null|                                 null|                          null|                                      null|           27.78|3.9835428E7|            54.422|      18.6|        2.581|        1.337|      1803.987|           null|              597.029|               9.59|          null|        null|                37.746|                       0.5|          64.83|                  0.511|                                null|                       null|            null|                                   null|\n",
            "|     AFG|     Asia|Afghanistan|2020-03-08|        8.0|      0.0|             0.429|        null|      null|               null|                  0.201|                  0.0|                         0.011|                    null|                  null|                           null|             null|        null|                    null|         null|                     null|                 null|                             null|                  null|                              null|       null|     null|                    null|                  null|              null|                           null|         null|          null|       null|              null|             null|                   null|          null|            null|                     null|                          null|                         null|                               null|                      null|                                 null|                          null|                                      null|           27.78|3.9835428E7|            54.422|      18.6|        2.581|        1.337|      1803.987|           null|              597.029|               9.59|          null|        null|                37.746|                       0.5|          64.83|                  0.511|                                null|                       null|            null|                                   null|\n",
            "|     AFG|     Asia|Afghanistan|2020-03-09|        8.0|      0.0|             0.429|        null|      null|               null|                  0.201|                  0.0|                         0.011|                    null|                  null|                           null|             null|        null|                    null|         null|                     null|                 null|                             null|                  null|                              null|       null|     null|                    null|                  null|              null|                           null|         null|          null|       null|              null|             null|                   null|          null|            null|                     null|                          null|                         null|                               null|                      null|                                 null|                          null|                                      null|           27.78|3.9835428E7|            54.422|      18.6|        2.581|        1.337|      1803.987|           null|              597.029|               9.59|          null|        null|                37.746|                       0.5|          64.83|                  0.511|                                null|                       null|            null|                                   null|\n",
            "|     AFG|     Asia|Afghanistan|2020-03-10|        8.0|      0.0|             0.429|        null|      null|               null|                  0.201|                  0.0|                         0.011|                    null|                  null|                           null|             null|        null|                    null|         null|                     null|                 null|                             null|                  null|                              null|       null|     null|                    null|                  null|              null|                           null|         null|          null|       null|              null|             null|                   null|          null|            null|                     null|                          null|                         null|                               null|                      null|                                 null|                          null|                                      null|           27.78|3.9835428E7|            54.422|      18.6|        2.581|        1.337|      1803.987|           null|              597.029|               9.59|          null|        null|                37.746|                       0.5|          64.83|                  0.511|                                null|                       null|            null|                                   null|\n",
            "|     AFG|     Asia|Afghanistan|2020-03-11|       11.0|      3.0|             0.857|        null|      null|               null|                  0.276|                0.075|                         0.022|                    null|                  null|                           null|             null|        null|                    null|         null|                     null|                 null|                             null|                  null|                              null|       null|     null|                    null|                  null|              null|                           null|         null|          null|       null|              null|             null|                   null|          null|            null|                     null|                          null|                         null|                               null|                      null|                                 null|                          null|                                      null|           27.78|3.9835428E7|            54.422|      18.6|        2.581|        1.337|      1803.987|           null|              597.029|               9.59|          null|        null|                37.746|                       0.5|          64.83|                  0.511|                                null|                       null|            null|                                   null|\n",
            "|     AFG|     Asia|Afghanistan|2020-03-12|       11.0|      0.0|             0.857|        null|      null|               null|                  0.276|                  0.0|                         0.022|                    null|                  null|                           null|             null|        null|                    null|         null|                     null|                 null|                             null|                  null|                              null|       null|     null|                    null|                  null|              null|                           null|         null|          null|       null|              null|             null|                   null|          null|            null|                     null|                          null|                         null|                               null|                      null|                                 null|                          null|                                      null|           27.78|3.9835428E7|            54.422|      18.6|        2.581|        1.337|      1803.987|           null|              597.029|               9.59|          null|        null|                37.746|                       0.5|          64.83|                  0.511|                                null|                       null|            null|                                   null|\n",
            "|     AFG|     Asia|Afghanistan|2020-03-13|       11.0|      0.0|             0.857|        null|      null|               null|                  0.276|                  0.0|                         0.022|                    null|                  null|                           null|             null|        null|                    null|         null|                     null|                 null|                             null|                  null|                              null|       null|     null|                    null|                  null|              null|                           null|         null|          null|       null|              null|             null|                   null|          null|            null|                     null|                          null|                         null|                               null|                      null|                                 null|                          null|                                      null|           27.78|3.9835428E7|            54.422|      18.6|        2.581|        1.337|      1803.987|           null|              597.029|               9.59|          null|        null|                37.746|                       0.5|          64.83|                  0.511|                                null|                       null|            null|                                   null|\n",
            "|     AFG|     Asia|Afghanistan|2020-03-14|       14.0|      3.0|             0.857|        null|      null|               null|                  0.351|                0.075|                         0.022|                    null|                  null|                           null|             null|        null|                    null|         null|                     null|                 null|                             null|                  null|                              null|       null|     null|                    null|                  null|              null|                           null|         null|          null|       null|              null|             null|                   null|          null|            null|                     null|                          null|                         null|                               null|                      null|                                 null|                          null|                                      null|           38.89|3.9835428E7|            54.422|      18.6|        2.581|        1.337|      1803.987|           null|              597.029|               9.59|          null|        null|                37.746|                       0.5|          64.83|                  0.511|                                null|                       null|            null|                                   null|\n",
            "+--------+---------+-----------+----------+-----------+---------+------------------+------------+----------+-------------------+-----------------------+---------------------+------------------------------+------------------------+----------------------+-------------------------------+-----------------+------------+------------------------+-------------+-------------------------+---------------------+---------------------------------+----------------------+----------------------------------+-----------+---------+------------------------+----------------------+------------------+-------------------------------+-------------+--------------+-----------+------------------+-----------------+-----------------------+--------------+----------------+-------------------------+------------------------------+-----------------------------+-----------------------------------+--------------------------+-------------------------------------+------------------------------+------------------------------------------+----------------+-----------+------------------+----------+-------------+-------------+--------------+---------------+---------------------+-------------------+--------------+------------+----------------------+--------------------------+---------------+-----------------------+------------------------------------+---------------------------+----------------+---------------------------------------+\n",
            "only showing top 20 rows\n",
            "\n"
          ]
        }
      ]
    },
    {
      "cell_type": "code",
      "source": [
        "# Add id column to set index\n",
        "import pandas as pd\n",
        "\n",
        "df1 = spark.createDataFrame(df.toPandas().reset_index()).withColumnRenamed(\"index\",\"id_row\")"
      ],
      "metadata": {
        "id": "Uup7KhcyVpC3"
      },
      "execution_count": 20,
      "outputs": []
    },
    {
      "cell_type": "code",
      "source": [
        "df1.printSchema()"
      ],
      "metadata": {
        "colab": {
          "base_uri": "https://localhost:8080/"
        },
        "id": "4XqmJYGSBlgW",
        "outputId": "00976d6d-3388-48dd-def8-d1ab394cb7ba"
      },
      "execution_count": 21,
      "outputs": [
        {
          "output_type": "stream",
          "name": "stdout",
          "text": [
            "root\n",
            " |-- id_row: long (nullable = true)\n",
            " |-- iso_code: string (nullable = true)\n",
            " |-- continent: string (nullable = true)\n",
            " |-- location: string (nullable = true)\n",
            " |-- date: string (nullable = true)\n",
            " |-- total_cases: double (nullable = true)\n",
            " |-- new_cases: double (nullable = true)\n",
            " |-- new_cases_smoothed: double (nullable = true)\n",
            " |-- total_deaths: double (nullable = true)\n",
            " |-- new_deaths: double (nullable = true)\n",
            " |-- new_deaths_smoothed: double (nullable = true)\n",
            " |-- total_cases_per_million: double (nullable = true)\n",
            " |-- new_cases_per_million: double (nullable = true)\n",
            " |-- new_cases_smoothed_per_million: double (nullable = true)\n",
            " |-- total_deaths_per_million: double (nullable = true)\n",
            " |-- new_deaths_per_million: double (nullable = true)\n",
            " |-- new_deaths_smoothed_per_million: double (nullable = true)\n",
            " |-- reproduction_rate: double (nullable = true)\n",
            " |-- icu_patients: double (nullable = true)\n",
            " |-- icu_patients_per_million: double (nullable = true)\n",
            " |-- hosp_patients: double (nullable = true)\n",
            " |-- hosp_patients_per_million: double (nullable = true)\n",
            " |-- weekly_icu_admissions: double (nullable = true)\n",
            " |-- weekly_icu_admissions_per_million: double (nullable = true)\n",
            " |-- weekly_hosp_admissions: double (nullable = true)\n",
            " |-- weekly_hosp_admissions_per_million: double (nullable = true)\n",
            " |-- total_tests: double (nullable = true)\n",
            " |-- new_tests: double (nullable = true)\n",
            " |-- total_tests_per_thousand: double (nullable = true)\n",
            " |-- new_tests_per_thousand: double (nullable = true)\n",
            " |-- new_tests_smoothed: double (nullable = true)\n",
            " |-- new_tests_smoothed_per_thousand: double (nullable = true)\n",
            " |-- positive_rate: double (nullable = true)\n",
            " |-- tests_per_case: double (nullable = true)\n",
            " |-- tests_units: string (nullable = true)\n",
            " |-- total_vaccinations: double (nullable = true)\n",
            " |-- people_vaccinated: double (nullable = true)\n",
            " |-- people_fully_vaccinated: double (nullable = true)\n",
            " |-- total_boosters: double (nullable = true)\n",
            " |-- new_vaccinations: double (nullable = true)\n",
            " |-- new_vaccinations_smoothed: double (nullable = true)\n",
            " |-- total_vaccinations_per_hundred: double (nullable = true)\n",
            " |-- people_vaccinated_per_hundred: double (nullable = true)\n",
            " |-- people_fully_vaccinated_per_hundred: double (nullable = true)\n",
            " |-- total_boosters_per_hundred: double (nullable = true)\n",
            " |-- new_vaccinations_smoothed_per_million: double (nullable = true)\n",
            " |-- new_people_vaccinated_smoothed: double (nullable = true)\n",
            " |-- new_people_vaccinated_smoothed_per_hundred: double (nullable = true)\n",
            " |-- stringency_index: double (nullable = true)\n",
            " |-- population: double (nullable = true)\n",
            " |-- population_density: double (nullable = true)\n",
            " |-- median_age: double (nullable = true)\n",
            " |-- aged_65_older: double (nullable = true)\n",
            " |-- aged_70_older: double (nullable = true)\n",
            " |-- gdp_per_capita: double (nullable = true)\n",
            " |-- extreme_poverty: double (nullable = true)\n",
            " |-- cardiovasc_death_rate: double (nullable = true)\n",
            " |-- diabetes_prevalence: double (nullable = true)\n",
            " |-- female_smokers: double (nullable = true)\n",
            " |-- male_smokers: double (nullable = true)\n",
            " |-- handwashing_facilities: double (nullable = true)\n",
            " |-- hospital_beds_per_thousand: double (nullable = true)\n",
            " |-- life_expectancy: double (nullable = true)\n",
            " |-- human_development_index: double (nullable = true)\n",
            " |-- excess_mortality_cumulative_absolute: double (nullable = true)\n",
            " |-- excess_mortality_cumulative: double (nullable = true)\n",
            " |-- excess_mortality: double (nullable = true)\n",
            " |-- excess_mortality_cumulative_per_million: double (nullable = true)\n",
            "\n"
          ]
        }
      ]
    },
    {
      "cell_type": "code",
      "source": [
        "# Change Date column to Date type\n",
        "from pyspark.sql.functions import to_date\n",
        "\n",
        "total_data_df = df1.withColumn(\"date\", to_date(\"date\"))\n",
        "total_data_df.printSchema()"
      ],
      "metadata": {
        "colab": {
          "base_uri": "https://localhost:8080/"
        },
        "id": "TKk-2f6cAk5j",
        "outputId": "95e6bbfe-f0a4-4570-ed95-f08b61e03238"
      },
      "execution_count": 22,
      "outputs": [
        {
          "output_type": "stream",
          "name": "stdout",
          "text": [
            "root\n",
            " |-- id_row: long (nullable = true)\n",
            " |-- iso_code: string (nullable = true)\n",
            " |-- continent: string (nullable = true)\n",
            " |-- location: string (nullable = true)\n",
            " |-- date: date (nullable = true)\n",
            " |-- total_cases: double (nullable = true)\n",
            " |-- new_cases: double (nullable = true)\n",
            " |-- new_cases_smoothed: double (nullable = true)\n",
            " |-- total_deaths: double (nullable = true)\n",
            " |-- new_deaths: double (nullable = true)\n",
            " |-- new_deaths_smoothed: double (nullable = true)\n",
            " |-- total_cases_per_million: double (nullable = true)\n",
            " |-- new_cases_per_million: double (nullable = true)\n",
            " |-- new_cases_smoothed_per_million: double (nullable = true)\n",
            " |-- total_deaths_per_million: double (nullable = true)\n",
            " |-- new_deaths_per_million: double (nullable = true)\n",
            " |-- new_deaths_smoothed_per_million: double (nullable = true)\n",
            " |-- reproduction_rate: double (nullable = true)\n",
            " |-- icu_patients: double (nullable = true)\n",
            " |-- icu_patients_per_million: double (nullable = true)\n",
            " |-- hosp_patients: double (nullable = true)\n",
            " |-- hosp_patients_per_million: double (nullable = true)\n",
            " |-- weekly_icu_admissions: double (nullable = true)\n",
            " |-- weekly_icu_admissions_per_million: double (nullable = true)\n",
            " |-- weekly_hosp_admissions: double (nullable = true)\n",
            " |-- weekly_hosp_admissions_per_million: double (nullable = true)\n",
            " |-- total_tests: double (nullable = true)\n",
            " |-- new_tests: double (nullable = true)\n",
            " |-- total_tests_per_thousand: double (nullable = true)\n",
            " |-- new_tests_per_thousand: double (nullable = true)\n",
            " |-- new_tests_smoothed: double (nullable = true)\n",
            " |-- new_tests_smoothed_per_thousand: double (nullable = true)\n",
            " |-- positive_rate: double (nullable = true)\n",
            " |-- tests_per_case: double (nullable = true)\n",
            " |-- tests_units: string (nullable = true)\n",
            " |-- total_vaccinations: double (nullable = true)\n",
            " |-- people_vaccinated: double (nullable = true)\n",
            " |-- people_fully_vaccinated: double (nullable = true)\n",
            " |-- total_boosters: double (nullable = true)\n",
            " |-- new_vaccinations: double (nullable = true)\n",
            " |-- new_vaccinations_smoothed: double (nullable = true)\n",
            " |-- total_vaccinations_per_hundred: double (nullable = true)\n",
            " |-- people_vaccinated_per_hundred: double (nullable = true)\n",
            " |-- people_fully_vaccinated_per_hundred: double (nullable = true)\n",
            " |-- total_boosters_per_hundred: double (nullable = true)\n",
            " |-- new_vaccinations_smoothed_per_million: double (nullable = true)\n",
            " |-- new_people_vaccinated_smoothed: double (nullable = true)\n",
            " |-- new_people_vaccinated_smoothed_per_hundred: double (nullable = true)\n",
            " |-- stringency_index: double (nullable = true)\n",
            " |-- population: double (nullable = true)\n",
            " |-- population_density: double (nullable = true)\n",
            " |-- median_age: double (nullable = true)\n",
            " |-- aged_65_older: double (nullable = true)\n",
            " |-- aged_70_older: double (nullable = true)\n",
            " |-- gdp_per_capita: double (nullable = true)\n",
            " |-- extreme_poverty: double (nullable = true)\n",
            " |-- cardiovasc_death_rate: double (nullable = true)\n",
            " |-- diabetes_prevalence: double (nullable = true)\n",
            " |-- female_smokers: double (nullable = true)\n",
            " |-- male_smokers: double (nullable = true)\n",
            " |-- handwashing_facilities: double (nullable = true)\n",
            " |-- hospital_beds_per_thousand: double (nullable = true)\n",
            " |-- life_expectancy: double (nullable = true)\n",
            " |-- human_development_index: double (nullable = true)\n",
            " |-- excess_mortality_cumulative_absolute: double (nullable = true)\n",
            " |-- excess_mortality_cumulative: double (nullable = true)\n",
            " |-- excess_mortality: double (nullable = true)\n",
            " |-- excess_mortality_cumulative_per_million: double (nullable = true)\n",
            "\n"
          ]
        }
      ]
    },
    {
      "cell_type": "code",
      "source": [
        "# Rename location coulmn\n",
        "updated_df = total_data_df.withColumnRenamed(\"location\", \"country\")"
      ],
      "metadata": {
        "id": "I8yNjkCrie1Q"
      },
      "execution_count": 34,
      "outputs": []
    },
    {
      "cell_type": "code",
      "source": [
        "updated_df.printSchema()"
      ],
      "metadata": {
        "colab": {
          "base_uri": "https://localhost:8080/"
        },
        "id": "XG-oRKcsljua",
        "outputId": "f3e7164b-6636-4da2-f8f4-5971beab382e"
      },
      "execution_count": 35,
      "outputs": [
        {
          "output_type": "stream",
          "name": "stdout",
          "text": [
            "root\n",
            " |-- id_row: long (nullable = true)\n",
            " |-- iso_code: string (nullable = true)\n",
            " |-- continent: string (nullable = true)\n",
            " |-- country: string (nullable = true)\n",
            " |-- date: date (nullable = true)\n",
            " |-- total_cases: double (nullable = true)\n",
            " |-- new_cases: double (nullable = true)\n",
            " |-- new_cases_smoothed: double (nullable = true)\n",
            " |-- total_deaths: double (nullable = true)\n",
            " |-- new_deaths: double (nullable = true)\n",
            " |-- new_deaths_smoothed: double (nullable = true)\n",
            " |-- total_cases_per_million: double (nullable = true)\n",
            " |-- new_cases_per_million: double (nullable = true)\n",
            " |-- new_cases_smoothed_per_million: double (nullable = true)\n",
            " |-- total_deaths_per_million: double (nullable = true)\n",
            " |-- new_deaths_per_million: double (nullable = true)\n",
            " |-- new_deaths_smoothed_per_million: double (nullable = true)\n",
            " |-- reproduction_rate: double (nullable = true)\n",
            " |-- icu_patients: double (nullable = true)\n",
            " |-- icu_patients_per_million: double (nullable = true)\n",
            " |-- hosp_patients: double (nullable = true)\n",
            " |-- hosp_patients_per_million: double (nullable = true)\n",
            " |-- weekly_icu_admissions: double (nullable = true)\n",
            " |-- weekly_icu_admissions_per_million: double (nullable = true)\n",
            " |-- weekly_hosp_admissions: double (nullable = true)\n",
            " |-- weekly_hosp_admissions_per_million: double (nullable = true)\n",
            " |-- total_tests: double (nullable = true)\n",
            " |-- new_tests: double (nullable = true)\n",
            " |-- total_tests_per_thousand: double (nullable = true)\n",
            " |-- new_tests_per_thousand: double (nullable = true)\n",
            " |-- new_tests_smoothed: double (nullable = true)\n",
            " |-- new_tests_smoothed_per_thousand: double (nullable = true)\n",
            " |-- positive_rate: double (nullable = true)\n",
            " |-- tests_per_case: double (nullable = true)\n",
            " |-- tests_units: string (nullable = true)\n",
            " |-- total_vaccinations: double (nullable = true)\n",
            " |-- people_vaccinated: double (nullable = true)\n",
            " |-- people_fully_vaccinated: double (nullable = true)\n",
            " |-- total_boosters: double (nullable = true)\n",
            " |-- new_vaccinations: double (nullable = true)\n",
            " |-- new_vaccinations_smoothed: double (nullable = true)\n",
            " |-- total_vaccinations_per_hundred: double (nullable = true)\n",
            " |-- people_vaccinated_per_hundred: double (nullable = true)\n",
            " |-- people_fully_vaccinated_per_hundred: double (nullable = true)\n",
            " |-- total_boosters_per_hundred: double (nullable = true)\n",
            " |-- new_vaccinations_smoothed_per_million: double (nullable = true)\n",
            " |-- new_people_vaccinated_smoothed: double (nullable = true)\n",
            " |-- new_people_vaccinated_smoothed_per_hundred: double (nullable = true)\n",
            " |-- stringency_index: double (nullable = true)\n",
            " |-- population: double (nullable = true)\n",
            " |-- population_density: double (nullable = true)\n",
            " |-- median_age: double (nullable = true)\n",
            " |-- aged_65_older: double (nullable = true)\n",
            " |-- aged_70_older: double (nullable = true)\n",
            " |-- gdp_per_capita: double (nullable = true)\n",
            " |-- extreme_poverty: double (nullable = true)\n",
            " |-- cardiovasc_death_rate: double (nullable = true)\n",
            " |-- diabetes_prevalence: double (nullable = true)\n",
            " |-- female_smokers: double (nullable = true)\n",
            " |-- male_smokers: double (nullable = true)\n",
            " |-- handwashing_facilities: double (nullable = true)\n",
            " |-- hospital_beds_per_thousand: double (nullable = true)\n",
            " |-- life_expectancy: double (nullable = true)\n",
            " |-- human_development_index: double (nullable = true)\n",
            " |-- excess_mortality_cumulative_absolute: double (nullable = true)\n",
            " |-- excess_mortality_cumulative: double (nullable = true)\n",
            " |-- excess_mortality: double (nullable = true)\n",
            " |-- excess_mortality_cumulative_per_million: double (nullable = true)\n",
            "\n"
          ]
        }
      ]
    },
    {
      "cell_type": "code",
      "source": [
        "# Configure settings for RDS\n",
        "mode = \"append\"\n",
        "jdbc_url=\"jdbc:postgresql://finalproject.cjgqtjwgyywe.us-east-2.rds.amazonaws.com:5432/postgres\"\n",
        "config = {\"user\":\"postgres\", \n",
        "          \"password\": \"*********\", \n",
        "          \"driver\":\"org.postgresql.Driver\"}"
      ],
      "metadata": {
        "id": "qfsqT9pGYhyK"
      },
      "execution_count": 36,
      "outputs": []
    },
    {
      "cell_type": "code",
      "source": [
        "# Write new_df to table in RDS\n",
        "updated_df.write.jdbc(url=jdbc_url, table='total_data', mode=mode, properties=config)"
      ],
      "metadata": {
        "id": "cEcAezBuZlXj"
      },
      "execution_count": 38,
      "outputs": []
    }
  ]
}